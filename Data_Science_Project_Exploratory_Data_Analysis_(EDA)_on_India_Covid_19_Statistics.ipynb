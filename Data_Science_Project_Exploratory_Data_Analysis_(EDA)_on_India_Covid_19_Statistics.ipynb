{
  "nbformat": 4,
  "nbformat_minor": 0,
  "metadata": {
    "colab": {
      "provenance": [],
      "include_colab_link": true
    },
    "kernelspec": {
      "name": "python3",
      "display_name": "Python 3"
    },
    "language_info": {
      "name": "python"
    }
  },
  "cells": [
    {
      "cell_type": "markdown",
      "metadata": {
        "id": "view-in-github",
        "colab_type": "text"
      },
      "source": [
        "<a href=\"https://colab.research.google.com/github/samir-dadah/C-Classification-using-DNN/blob/main/Data_Science_Project_Exploratory_Data_Analysis_(EDA)_on_India_Covid_19_Statistics.ipynb\" target=\"_parent\"><img src=\"https://colab.research.google.com/assets/colab-badge.svg\" alt=\"Open In Colab\"/></a>"
      ]
    },
    {
      "cell_type": "code",
      "metadata": {
        "colab": {
          "base_uri": "https://localhost:8080/"
        },
        "id": "eGrJe53hyzv2",
        "outputId": "c153f94d-842a-45fa-c394-e17d8d49abf6"
      },
      "source": [
        "!unzip India-covid-data.zip"
      ],
      "execution_count": null,
      "outputs": [
        {
          "output_type": "stream",
          "text": [
            "Archive:  India-covid-data.zip\n",
            "replace Latest Covid-19 India Status.csv? [y]es, [n]o, [A]ll, [N]one, [r]ename: y\n",
            "  inflating: Latest Covid-19 India Status.csv  \n"
          ],
          "name": "stdout"
        }
      ]
    },
    {
      "cell_type": "code",
      "metadata": {
        "id": "X16GpR4H0Q75"
      },
      "source": [
        "# Installing PySpark:\n",
        "!apt-get install openjdk-8-jdk-headless -qq > /dev/null\n",
        "!wget -q http://archive.apache.org/dist/spark/spark-3.1.1/spark-3.1.1-bin-hadoop3.2.tgz\n",
        "!tar xf spark-3.1.1-bin-hadoop3.2.tgz\n",
        "!pip install -q findspark"
      ],
      "execution_count": null,
      "outputs": []
    },
    {
      "cell_type": "code",
      "metadata": {
        "id": "LBRdw5fg0iAp"
      },
      "source": [
        "# Installing PySpark:\n",
        "import os\n",
        "os.environ[\"JAVA_HOME\"] = \"/usr/lib/jvm/java-8-openjdk-amd64\"\n",
        "os.environ[\"SPARK_HOME\"] = \"/content/spark-3.1.1-bin-hadoop3.2\""
      ],
      "execution_count": null,
      "outputs": []
    },
    {
      "cell_type": "code",
      "metadata": {
        "colab": {
          "base_uri": "https://localhost:8080/",
          "height": 214
        },
        "id": "jp4fb4d80jO-",
        "outputId": "3a830ede-9768-4091-8fc0-f8c38c1201f6"
      },
      "source": [
        "# Installing PySpark:\n",
        "import findspark\n",
        "findspark.init()\n",
        "from pyspark.sql import SparkSession\n",
        "spark = SparkSession.builder.master(\"local[*]\").getOrCreate()\n",
        "spark.conf.set(\"spark.sql.repl.eagerEval.enabled\", True) # Property used to format output tables better\n",
        "spark"
      ],
      "execution_count": null,
      "outputs": [
        {
          "output_type": "execute_result",
          "data": {
            "text/html": [
              "\n",
              "            <div>\n",
              "                <p><b>SparkSession - in-memory</b></p>\n",
              "                \n",
              "        <div>\n",
              "            <p><b>SparkContext</b></p>\n",
              "\n",
              "            <p><a href=\"http://e5ab4860bb5a:4040\">Spark UI</a></p>\n",
              "\n",
              "            <dl>\n",
              "              <dt>Version</dt>\n",
              "                <dd><code>v3.1.1</code></dd>\n",
              "              <dt>Master</dt>\n",
              "                <dd><code>local[*]</code></dd>\n",
              "              <dt>AppName</dt>\n",
              "                <dd><code>pyspark-shell</code></dd>\n",
              "            </dl>\n",
              "        </div>\n",
              "        \n",
              "            </div>\n",
              "        "
            ],
            "text/plain": [
              "<pyspark.sql.session.SparkSession at 0x7fe04ba2a8d0>"
            ]
          },
          "metadata": {},
          "execution_count": 4
        }
      ]
    },
    {
      "cell_type": "code",
      "metadata": {
        "colab": {
          "base_uri": "https://localhost:8080/",
          "height": 503
        },
        "id": "xmR13KHb0koj",
        "outputId": "88bc712d-a0b7-42d9-d438-e4bb337a9e3a"
      },
      "source": [
        "df = spark.read.csv('/content/Latest Covid-19 India Status.csv', inferSchema=True,\n",
        "                    header=True)\n",
        "df"
      ],
      "execution_count": null,
      "outputs": [
        {
          "output_type": "execute_result",
          "data": {
            "text/html": [
              "<table border='1'>\n",
              "<tr><th>State/UTs</th><th>Total Cases</th><th>Active</th><th>Discharged</th><th>Deaths</th><th>Active Ratio (%)</th><th>Discharge Ratio (%)</th><th>Death Ratio (%)</th></tr>\n",
              "<tr><td>Andaman and Nicobar</td><td>7549</td><td>1</td><td>7419</td><td>129</td><td>0.01</td><td>98.28</td><td>1.71</td></tr>\n",
              "<tr><td>Andhra Pradesh</td><td>1995669</td><td>16341</td><td>1965657</td><td>13671</td><td>0.82</td><td>98.5</td><td>0.69</td></tr>\n",
              "<tr><td>Arunachal Pradesh</td><td>51655</td><td>1763</td><td>49640</td><td>252</td><td>3.41</td><td>96.1</td><td>0.49</td></tr>\n",
              "<tr><td>Assam</td><td>581398</td><td>8772</td><td>567113</td><td>5513</td><td>1.51</td><td>97.54</td><td>0.95</td></tr>\n",
              "<tr><td>Bihar</td><td>725518</td><td>204</td><td>715665</td><td>9649</td><td>0.03</td><td>98.64</td><td>1.33</td></tr>\n",
              "<tr><td>Chandigarh</td><td>62035</td><td>42</td><td>61182</td><td>811</td><td>0.07</td><td>98.62</td><td>1.31</td></tr>\n",
              "<tr><td>Chhattisgarh</td><td>1003870</td><td>1037</td><td>989284</td><td>13549</td><td>0.1</td><td>98.55</td><td>1.35</td></tr>\n",
              "<tr><td>Dadra and Nagar H...</td><td>10657</td><td>4</td><td>10649</td><td>4</td><td>0.04</td><td>99.92</td><td>0.04</td></tr>\n",
              "<tr><td>Delhi</td><td>1437156</td><td>471</td><td>1411612</td><td>25073</td><td>0.03</td><td>98.22</td><td>1.74</td></tr>\n",
              "<tr><td>Goa</td><td>172683</td><td>884</td><td>168622</td><td>3177</td><td>0.51</td><td>97.65</td><td>1.84</td></tr>\n",
              "<tr><td>Gujarat</td><td>825213</td><td>179</td><td>814956</td><td>10078</td><td>0.02</td><td>98.76</td><td>1.22</td></tr>\n",
              "<tr><td>Haryana</td><td>770245</td><td>660</td><td>759924</td><td>9661</td><td>0.09</td><td>98.66</td><td>1.25</td></tr>\n",
              "<tr><td>Himachal Pradesh</td><td>210719</td><td>2705</td><td>204457</td><td>3557</td><td>1.28</td><td>97.03</td><td>1.69</td></tr>\n",
              "<tr><td>Jammu and Kashmir</td><td>323582</td><td>1158</td><td>318025</td><td>4399</td><td>0.36</td><td>98.28</td><td>1.36</td></tr>\n",
              "<tr><td>Jharkhand</td><td>347635</td><td>217</td><td>342286</td><td>5132</td><td>0.06</td><td>98.46</td><td>1.48</td></tr>\n",
              "<tr><td>Karnataka</td><td>2931827</td><td>21507</td><td>2873281</td><td>37039</td><td>0.73</td><td>98.0</td><td>1.26</td></tr>\n",
              "<tr><td>Kerala</td><td>3724030</td><td>175695</td><td>3529465</td><td>18870</td><td>4.72</td><td>94.78</td><td>0.51</td></tr>\n",
              "<tr><td>Ladakh</td><td>20466</td><td>81</td><td>20178</td><td>207</td><td>0.4</td><td>98.59</td><td>1.01</td></tr>\n",
              "<tr><td>Lakshadweep</td><td>10295</td><td>34</td><td>10210</td><td>51</td><td>0.33</td><td>99.17</td><td>0.5</td></tr>\n",
              "<tr><td>Madhya Pradesh</td><td>792054</td><td>95</td><td>781444</td><td>10515</td><td>0.01</td><td>98.66</td><td>1.33</td></tr>\n",
              "</table>\n",
              "only showing top 20 rows\n"
            ],
            "text/plain": [
              "+--------------------+-----------+------+----------+------+----------------+-------------------+---------------+\n",
              "|           State/UTs|Total Cases|Active|Discharged|Deaths|Active Ratio (%)|Discharge Ratio (%)|Death Ratio (%)|\n",
              "+--------------------+-----------+------+----------+------+----------------+-------------------+---------------+\n",
              "| Andaman and Nicobar|       7549|     1|      7419|   129|            0.01|              98.28|           1.71|\n",
              "|      Andhra Pradesh|    1995669| 16341|   1965657| 13671|            0.82|               98.5|           0.69|\n",
              "|   Arunachal Pradesh|      51655|  1763|     49640|   252|            3.41|               96.1|           0.49|\n",
              "|               Assam|     581398|  8772|    567113|  5513|            1.51|              97.54|           0.95|\n",
              "|               Bihar|     725518|   204|    715665|  9649|            0.03|              98.64|           1.33|\n",
              "|          Chandigarh|      62035|    42|     61182|   811|            0.07|              98.62|           1.31|\n",
              "|        Chhattisgarh|    1003870|  1037|    989284| 13549|             0.1|              98.55|           1.35|\n",
              "|Dadra and Nagar H...|      10657|     4|     10649|     4|            0.04|              99.92|           0.04|\n",
              "|               Delhi|    1437156|   471|   1411612| 25073|            0.03|              98.22|           1.74|\n",
              "|                 Goa|     172683|   884|    168622|  3177|            0.51|              97.65|           1.84|\n",
              "|             Gujarat|     825213|   179|    814956| 10078|            0.02|              98.76|           1.22|\n",
              "|             Haryana|     770245|   660|    759924|  9661|            0.09|              98.66|           1.25|\n",
              "|    Himachal Pradesh|     210719|  2705|    204457|  3557|            1.28|              97.03|           1.69|\n",
              "|   Jammu and Kashmir|     323582|  1158|    318025|  4399|            0.36|              98.28|           1.36|\n",
              "|           Jharkhand|     347635|   217|    342286|  5132|            0.06|              98.46|           1.48|\n",
              "|           Karnataka|    2931827| 21507|   2873281| 37039|            0.73|               98.0|           1.26|\n",
              "|              Kerala|    3724030|175695|   3529465| 18870|            4.72|              94.78|           0.51|\n",
              "|              Ladakh|      20466|    81|     20178|   207|             0.4|              98.59|           1.01|\n",
              "|         Lakshadweep|      10295|    34|     10210|    51|            0.33|              99.17|            0.5|\n",
              "|      Madhya Pradesh|     792054|    95|    781444| 10515|            0.01|              98.66|           1.33|\n",
              "+--------------------+-----------+------+----------+------+----------------+-------------------+---------------+\n",
              "only showing top 20 rows"
            ]
          },
          "metadata": {},
          "execution_count": 5
        }
      ]
    },
    {
      "cell_type": "code",
      "metadata": {
        "colab": {
          "base_uri": "https://localhost:8080/",
          "height": 503
        },
        "id": "39BXBmWX6QWa",
        "outputId": "2a339766-e211-4e56-cfd8-67ecf90ceb7e"
      },
      "source": [
        "from pyspark.sql import functions as F\n",
        "\n",
        "renamed_df = df.select([F.col(col).alias(col.replace(' ', '_')) for col in df.columns])\n",
        "renamed_df"
      ],
      "execution_count": null,
      "outputs": [
        {
          "output_type": "execute_result",
          "data": {
            "text/html": [
              "<table border='1'>\n",
              "<tr><th>State/UTs</th><th>Total_Cases</th><th>Active</th><th>Discharged</th><th>Deaths</th><th>Active_Ratio_(%)</th><th>Discharge_Ratio_(%)</th><th>Death_Ratio_(%)</th></tr>\n",
              "<tr><td>Andaman and Nicobar</td><td>7549</td><td>1</td><td>7419</td><td>129</td><td>0.01</td><td>98.28</td><td>1.71</td></tr>\n",
              "<tr><td>Andhra Pradesh</td><td>1995669</td><td>16341</td><td>1965657</td><td>13671</td><td>0.82</td><td>98.5</td><td>0.69</td></tr>\n",
              "<tr><td>Arunachal Pradesh</td><td>51655</td><td>1763</td><td>49640</td><td>252</td><td>3.41</td><td>96.1</td><td>0.49</td></tr>\n",
              "<tr><td>Assam</td><td>581398</td><td>8772</td><td>567113</td><td>5513</td><td>1.51</td><td>97.54</td><td>0.95</td></tr>\n",
              "<tr><td>Bihar</td><td>725518</td><td>204</td><td>715665</td><td>9649</td><td>0.03</td><td>98.64</td><td>1.33</td></tr>\n",
              "<tr><td>Chandigarh</td><td>62035</td><td>42</td><td>61182</td><td>811</td><td>0.07</td><td>98.62</td><td>1.31</td></tr>\n",
              "<tr><td>Chhattisgarh</td><td>1003870</td><td>1037</td><td>989284</td><td>13549</td><td>0.1</td><td>98.55</td><td>1.35</td></tr>\n",
              "<tr><td>Dadra and Nagar H...</td><td>10657</td><td>4</td><td>10649</td><td>4</td><td>0.04</td><td>99.92</td><td>0.04</td></tr>\n",
              "<tr><td>Delhi</td><td>1437156</td><td>471</td><td>1411612</td><td>25073</td><td>0.03</td><td>98.22</td><td>1.74</td></tr>\n",
              "<tr><td>Goa</td><td>172683</td><td>884</td><td>168622</td><td>3177</td><td>0.51</td><td>97.65</td><td>1.84</td></tr>\n",
              "<tr><td>Gujarat</td><td>825213</td><td>179</td><td>814956</td><td>10078</td><td>0.02</td><td>98.76</td><td>1.22</td></tr>\n",
              "<tr><td>Haryana</td><td>770245</td><td>660</td><td>759924</td><td>9661</td><td>0.09</td><td>98.66</td><td>1.25</td></tr>\n",
              "<tr><td>Himachal Pradesh</td><td>210719</td><td>2705</td><td>204457</td><td>3557</td><td>1.28</td><td>97.03</td><td>1.69</td></tr>\n",
              "<tr><td>Jammu and Kashmir</td><td>323582</td><td>1158</td><td>318025</td><td>4399</td><td>0.36</td><td>98.28</td><td>1.36</td></tr>\n",
              "<tr><td>Jharkhand</td><td>347635</td><td>217</td><td>342286</td><td>5132</td><td>0.06</td><td>98.46</td><td>1.48</td></tr>\n",
              "<tr><td>Karnataka</td><td>2931827</td><td>21507</td><td>2873281</td><td>37039</td><td>0.73</td><td>98.0</td><td>1.26</td></tr>\n",
              "<tr><td>Kerala</td><td>3724030</td><td>175695</td><td>3529465</td><td>18870</td><td>4.72</td><td>94.78</td><td>0.51</td></tr>\n",
              "<tr><td>Ladakh</td><td>20466</td><td>81</td><td>20178</td><td>207</td><td>0.4</td><td>98.59</td><td>1.01</td></tr>\n",
              "<tr><td>Lakshadweep</td><td>10295</td><td>34</td><td>10210</td><td>51</td><td>0.33</td><td>99.17</td><td>0.5</td></tr>\n",
              "<tr><td>Madhya Pradesh</td><td>792054</td><td>95</td><td>781444</td><td>10515</td><td>0.01</td><td>98.66</td><td>1.33</td></tr>\n",
              "</table>\n",
              "only showing top 20 rows\n"
            ],
            "text/plain": [
              "+--------------------+-----------+------+----------+------+----------------+-------------------+---------------+\n",
              "|           State/UTs|Total_Cases|Active|Discharged|Deaths|Active_Ratio_(%)|Discharge_Ratio_(%)|Death_Ratio_(%)|\n",
              "+--------------------+-----------+------+----------+------+----------------+-------------------+---------------+\n",
              "| Andaman and Nicobar|       7549|     1|      7419|   129|            0.01|              98.28|           1.71|\n",
              "|      Andhra Pradesh|    1995669| 16341|   1965657| 13671|            0.82|               98.5|           0.69|\n",
              "|   Arunachal Pradesh|      51655|  1763|     49640|   252|            3.41|               96.1|           0.49|\n",
              "|               Assam|     581398|  8772|    567113|  5513|            1.51|              97.54|           0.95|\n",
              "|               Bihar|     725518|   204|    715665|  9649|            0.03|              98.64|           1.33|\n",
              "|          Chandigarh|      62035|    42|     61182|   811|            0.07|              98.62|           1.31|\n",
              "|        Chhattisgarh|    1003870|  1037|    989284| 13549|             0.1|              98.55|           1.35|\n",
              "|Dadra and Nagar H...|      10657|     4|     10649|     4|            0.04|              99.92|           0.04|\n",
              "|               Delhi|    1437156|   471|   1411612| 25073|            0.03|              98.22|           1.74|\n",
              "|                 Goa|     172683|   884|    168622|  3177|            0.51|              97.65|           1.84|\n",
              "|             Gujarat|     825213|   179|    814956| 10078|            0.02|              98.76|           1.22|\n",
              "|             Haryana|     770245|   660|    759924|  9661|            0.09|              98.66|           1.25|\n",
              "|    Himachal Pradesh|     210719|  2705|    204457|  3557|            1.28|              97.03|           1.69|\n",
              "|   Jammu and Kashmir|     323582|  1158|    318025|  4399|            0.36|              98.28|           1.36|\n",
              "|           Jharkhand|     347635|   217|    342286|  5132|            0.06|              98.46|           1.48|\n",
              "|           Karnataka|    2931827| 21507|   2873281| 37039|            0.73|               98.0|           1.26|\n",
              "|              Kerala|    3724030|175695|   3529465| 18870|            4.72|              94.78|           0.51|\n",
              "|              Ladakh|      20466|    81|     20178|   207|             0.4|              98.59|           1.01|\n",
              "|         Lakshadweep|      10295|    34|     10210|    51|            0.33|              99.17|            0.5|\n",
              "|      Madhya Pradesh|     792054|    95|    781444| 10515|            0.01|              98.66|           1.33|\n",
              "+--------------------+-----------+------+----------+------+----------------+-------------------+---------------+\n",
              "only showing top 20 rows"
            ]
          },
          "metadata": {},
          "execution_count": 16
        }
      ]
    },
    {
      "cell_type": "code",
      "metadata": {
        "colab": {
          "base_uri": "https://localhost:8080/",
          "height": 503
        },
        "id": "VfBG1DLG6txE",
        "outputId": "d4dc14bb-5286-4d5e-d939-3d6cd679a94d"
      },
      "source": [
        "renamed_df = renamed_df.withColumnRenamed('State/UTs', 'State_UTs')\n",
        "renamed_df = renamed_df.withColumnRenamed('Active_Ratio_(%)', 'Active_Ratio')\n",
        "renamed_df = renamed_df.withColumnRenamed('Discharge_Ratio_(%)', 'Discharge_Ratio')\n",
        "renamed_df = renamed_df.withColumnRenamed('Death_Ratio_(%)', 'Death_Ratio')\n",
        "renamed_df"
      ],
      "execution_count": null,
      "outputs": [
        {
          "output_type": "execute_result",
          "data": {
            "text/html": [
              "<table border='1'>\n",
              "<tr><th>State_UTs</th><th>Total_Cases</th><th>Active</th><th>Discharged</th><th>Deaths</th><th>Active_Ratio</th><th>Discharge_Ratio</th><th>Death_Ratio</th></tr>\n",
              "<tr><td>Andaman and Nicobar</td><td>7549</td><td>1</td><td>7419</td><td>129</td><td>0.01</td><td>98.28</td><td>1.71</td></tr>\n",
              "<tr><td>Andhra Pradesh</td><td>1995669</td><td>16341</td><td>1965657</td><td>13671</td><td>0.82</td><td>98.5</td><td>0.69</td></tr>\n",
              "<tr><td>Arunachal Pradesh</td><td>51655</td><td>1763</td><td>49640</td><td>252</td><td>3.41</td><td>96.1</td><td>0.49</td></tr>\n",
              "<tr><td>Assam</td><td>581398</td><td>8772</td><td>567113</td><td>5513</td><td>1.51</td><td>97.54</td><td>0.95</td></tr>\n",
              "<tr><td>Bihar</td><td>725518</td><td>204</td><td>715665</td><td>9649</td><td>0.03</td><td>98.64</td><td>1.33</td></tr>\n",
              "<tr><td>Chandigarh</td><td>62035</td><td>42</td><td>61182</td><td>811</td><td>0.07</td><td>98.62</td><td>1.31</td></tr>\n",
              "<tr><td>Chhattisgarh</td><td>1003870</td><td>1037</td><td>989284</td><td>13549</td><td>0.1</td><td>98.55</td><td>1.35</td></tr>\n",
              "<tr><td>Dadra and Nagar H...</td><td>10657</td><td>4</td><td>10649</td><td>4</td><td>0.04</td><td>99.92</td><td>0.04</td></tr>\n",
              "<tr><td>Delhi</td><td>1437156</td><td>471</td><td>1411612</td><td>25073</td><td>0.03</td><td>98.22</td><td>1.74</td></tr>\n",
              "<tr><td>Goa</td><td>172683</td><td>884</td><td>168622</td><td>3177</td><td>0.51</td><td>97.65</td><td>1.84</td></tr>\n",
              "<tr><td>Gujarat</td><td>825213</td><td>179</td><td>814956</td><td>10078</td><td>0.02</td><td>98.76</td><td>1.22</td></tr>\n",
              "<tr><td>Haryana</td><td>770245</td><td>660</td><td>759924</td><td>9661</td><td>0.09</td><td>98.66</td><td>1.25</td></tr>\n",
              "<tr><td>Himachal Pradesh</td><td>210719</td><td>2705</td><td>204457</td><td>3557</td><td>1.28</td><td>97.03</td><td>1.69</td></tr>\n",
              "<tr><td>Jammu and Kashmir</td><td>323582</td><td>1158</td><td>318025</td><td>4399</td><td>0.36</td><td>98.28</td><td>1.36</td></tr>\n",
              "<tr><td>Jharkhand</td><td>347635</td><td>217</td><td>342286</td><td>5132</td><td>0.06</td><td>98.46</td><td>1.48</td></tr>\n",
              "<tr><td>Karnataka</td><td>2931827</td><td>21507</td><td>2873281</td><td>37039</td><td>0.73</td><td>98.0</td><td>1.26</td></tr>\n",
              "<tr><td>Kerala</td><td>3724030</td><td>175695</td><td>3529465</td><td>18870</td><td>4.72</td><td>94.78</td><td>0.51</td></tr>\n",
              "<tr><td>Ladakh</td><td>20466</td><td>81</td><td>20178</td><td>207</td><td>0.4</td><td>98.59</td><td>1.01</td></tr>\n",
              "<tr><td>Lakshadweep</td><td>10295</td><td>34</td><td>10210</td><td>51</td><td>0.33</td><td>99.17</td><td>0.5</td></tr>\n",
              "<tr><td>Madhya Pradesh</td><td>792054</td><td>95</td><td>781444</td><td>10515</td><td>0.01</td><td>98.66</td><td>1.33</td></tr>\n",
              "</table>\n",
              "only showing top 20 rows\n"
            ],
            "text/plain": [
              "+--------------------+-----------+------+----------+------+------------+---------------+-----------+\n",
              "|           State_UTs|Total_Cases|Active|Discharged|Deaths|Active_Ratio|Discharge_Ratio|Death_Ratio|\n",
              "+--------------------+-----------+------+----------+------+------------+---------------+-----------+\n",
              "| Andaman and Nicobar|       7549|     1|      7419|   129|        0.01|          98.28|       1.71|\n",
              "|      Andhra Pradesh|    1995669| 16341|   1965657| 13671|        0.82|           98.5|       0.69|\n",
              "|   Arunachal Pradesh|      51655|  1763|     49640|   252|        3.41|           96.1|       0.49|\n",
              "|               Assam|     581398|  8772|    567113|  5513|        1.51|          97.54|       0.95|\n",
              "|               Bihar|     725518|   204|    715665|  9649|        0.03|          98.64|       1.33|\n",
              "|          Chandigarh|      62035|    42|     61182|   811|        0.07|          98.62|       1.31|\n",
              "|        Chhattisgarh|    1003870|  1037|    989284| 13549|         0.1|          98.55|       1.35|\n",
              "|Dadra and Nagar H...|      10657|     4|     10649|     4|        0.04|          99.92|       0.04|\n",
              "|               Delhi|    1437156|   471|   1411612| 25073|        0.03|          98.22|       1.74|\n",
              "|                 Goa|     172683|   884|    168622|  3177|        0.51|          97.65|       1.84|\n",
              "|             Gujarat|     825213|   179|    814956| 10078|        0.02|          98.76|       1.22|\n",
              "|             Haryana|     770245|   660|    759924|  9661|        0.09|          98.66|       1.25|\n",
              "|    Himachal Pradesh|     210719|  2705|    204457|  3557|        1.28|          97.03|       1.69|\n",
              "|   Jammu and Kashmir|     323582|  1158|    318025|  4399|        0.36|          98.28|       1.36|\n",
              "|           Jharkhand|     347635|   217|    342286|  5132|        0.06|          98.46|       1.48|\n",
              "|           Karnataka|    2931827| 21507|   2873281| 37039|        0.73|           98.0|       1.26|\n",
              "|              Kerala|    3724030|175695|   3529465| 18870|        4.72|          94.78|       0.51|\n",
              "|              Ladakh|      20466|    81|     20178|   207|         0.4|          98.59|       1.01|\n",
              "|         Lakshadweep|      10295|    34|     10210|    51|        0.33|          99.17|        0.5|\n",
              "|      Madhya Pradesh|     792054|    95|    781444| 10515|        0.01|          98.66|       1.33|\n",
              "+--------------------+-----------+------+----------+------+------------+---------------+-----------+\n",
              "only showing top 20 rows"
            ]
          },
          "metadata": {},
          "execution_count": 19
        }
      ]
    },
    {
      "cell_type": "code",
      "metadata": {
        "id": "qtCeYdrd7U4c"
      },
      "source": [
        "renamed_df.createOrReplaceTempView('Data')"
      ],
      "execution_count": null,
      "outputs": []
    },
    {
      "cell_type": "code",
      "metadata": {
        "colab": {
          "base_uri": "https://localhost:8080/",
          "height": 503
        },
        "id": "N-8chGxT7bqI",
        "outputId": "26d7b70f-ab43-41d6-c1ae-2872e55594a0"
      },
      "source": [
        "spark.sql('Select * from Data')"
      ],
      "execution_count": null,
      "outputs": [
        {
          "output_type": "execute_result",
          "data": {
            "text/html": [
              "<table border='1'>\n",
              "<tr><th>State_UTs</th><th>Total_Cases</th><th>Active</th><th>Discharged</th><th>Deaths</th><th>Active_Ratio</th><th>Discharge_Ratio</th><th>Death_Ratio</th></tr>\n",
              "<tr><td>Andaman and Nicobar</td><td>7549</td><td>1</td><td>7419</td><td>129</td><td>0.01</td><td>98.28</td><td>1.71</td></tr>\n",
              "<tr><td>Andhra Pradesh</td><td>1995669</td><td>16341</td><td>1965657</td><td>13671</td><td>0.82</td><td>98.5</td><td>0.69</td></tr>\n",
              "<tr><td>Arunachal Pradesh</td><td>51655</td><td>1763</td><td>49640</td><td>252</td><td>3.41</td><td>96.1</td><td>0.49</td></tr>\n",
              "<tr><td>Assam</td><td>581398</td><td>8772</td><td>567113</td><td>5513</td><td>1.51</td><td>97.54</td><td>0.95</td></tr>\n",
              "<tr><td>Bihar</td><td>725518</td><td>204</td><td>715665</td><td>9649</td><td>0.03</td><td>98.64</td><td>1.33</td></tr>\n",
              "<tr><td>Chandigarh</td><td>62035</td><td>42</td><td>61182</td><td>811</td><td>0.07</td><td>98.62</td><td>1.31</td></tr>\n",
              "<tr><td>Chhattisgarh</td><td>1003870</td><td>1037</td><td>989284</td><td>13549</td><td>0.1</td><td>98.55</td><td>1.35</td></tr>\n",
              "<tr><td>Dadra and Nagar H...</td><td>10657</td><td>4</td><td>10649</td><td>4</td><td>0.04</td><td>99.92</td><td>0.04</td></tr>\n",
              "<tr><td>Delhi</td><td>1437156</td><td>471</td><td>1411612</td><td>25073</td><td>0.03</td><td>98.22</td><td>1.74</td></tr>\n",
              "<tr><td>Goa</td><td>172683</td><td>884</td><td>168622</td><td>3177</td><td>0.51</td><td>97.65</td><td>1.84</td></tr>\n",
              "<tr><td>Gujarat</td><td>825213</td><td>179</td><td>814956</td><td>10078</td><td>0.02</td><td>98.76</td><td>1.22</td></tr>\n",
              "<tr><td>Haryana</td><td>770245</td><td>660</td><td>759924</td><td>9661</td><td>0.09</td><td>98.66</td><td>1.25</td></tr>\n",
              "<tr><td>Himachal Pradesh</td><td>210719</td><td>2705</td><td>204457</td><td>3557</td><td>1.28</td><td>97.03</td><td>1.69</td></tr>\n",
              "<tr><td>Jammu and Kashmir</td><td>323582</td><td>1158</td><td>318025</td><td>4399</td><td>0.36</td><td>98.28</td><td>1.36</td></tr>\n",
              "<tr><td>Jharkhand</td><td>347635</td><td>217</td><td>342286</td><td>5132</td><td>0.06</td><td>98.46</td><td>1.48</td></tr>\n",
              "<tr><td>Karnataka</td><td>2931827</td><td>21507</td><td>2873281</td><td>37039</td><td>0.73</td><td>98.0</td><td>1.26</td></tr>\n",
              "<tr><td>Kerala</td><td>3724030</td><td>175695</td><td>3529465</td><td>18870</td><td>4.72</td><td>94.78</td><td>0.51</td></tr>\n",
              "<tr><td>Ladakh</td><td>20466</td><td>81</td><td>20178</td><td>207</td><td>0.4</td><td>98.59</td><td>1.01</td></tr>\n",
              "<tr><td>Lakshadweep</td><td>10295</td><td>34</td><td>10210</td><td>51</td><td>0.33</td><td>99.17</td><td>0.5</td></tr>\n",
              "<tr><td>Madhya Pradesh</td><td>792054</td><td>95</td><td>781444</td><td>10515</td><td>0.01</td><td>98.66</td><td>1.33</td></tr>\n",
              "</table>\n",
              "only showing top 20 rows\n"
            ],
            "text/plain": [
              "+--------------------+-----------+------+----------+------+------------+---------------+-----------+\n",
              "|           State_UTs|Total_Cases|Active|Discharged|Deaths|Active_Ratio|Discharge_Ratio|Death_Ratio|\n",
              "+--------------------+-----------+------+----------+------+------------+---------------+-----------+\n",
              "| Andaman and Nicobar|       7549|     1|      7419|   129|        0.01|          98.28|       1.71|\n",
              "|      Andhra Pradesh|    1995669| 16341|   1965657| 13671|        0.82|           98.5|       0.69|\n",
              "|   Arunachal Pradesh|      51655|  1763|     49640|   252|        3.41|           96.1|       0.49|\n",
              "|               Assam|     581398|  8772|    567113|  5513|        1.51|          97.54|       0.95|\n",
              "|               Bihar|     725518|   204|    715665|  9649|        0.03|          98.64|       1.33|\n",
              "|          Chandigarh|      62035|    42|     61182|   811|        0.07|          98.62|       1.31|\n",
              "|        Chhattisgarh|    1003870|  1037|    989284| 13549|         0.1|          98.55|       1.35|\n",
              "|Dadra and Nagar H...|      10657|     4|     10649|     4|        0.04|          99.92|       0.04|\n",
              "|               Delhi|    1437156|   471|   1411612| 25073|        0.03|          98.22|       1.74|\n",
              "|                 Goa|     172683|   884|    168622|  3177|        0.51|          97.65|       1.84|\n",
              "|             Gujarat|     825213|   179|    814956| 10078|        0.02|          98.76|       1.22|\n",
              "|             Haryana|     770245|   660|    759924|  9661|        0.09|          98.66|       1.25|\n",
              "|    Himachal Pradesh|     210719|  2705|    204457|  3557|        1.28|          97.03|       1.69|\n",
              "|   Jammu and Kashmir|     323582|  1158|    318025|  4399|        0.36|          98.28|       1.36|\n",
              "|           Jharkhand|     347635|   217|    342286|  5132|        0.06|          98.46|       1.48|\n",
              "|           Karnataka|    2931827| 21507|   2873281| 37039|        0.73|           98.0|       1.26|\n",
              "|              Kerala|    3724030|175695|   3529465| 18870|        4.72|          94.78|       0.51|\n",
              "|              Ladakh|      20466|    81|     20178|   207|         0.4|          98.59|       1.01|\n",
              "|         Lakshadweep|      10295|    34|     10210|    51|        0.33|          99.17|        0.5|\n",
              "|      Madhya Pradesh|     792054|    95|    781444| 10515|        0.01|          98.66|       1.33|\n",
              "+--------------------+-----------+------+----------+------+------------+---------------+-----------+\n",
              "only showing top 20 rows"
            ]
          },
          "metadata": {},
          "execution_count": 21
        }
      ]
    },
    {
      "cell_type": "code",
      "metadata": {
        "colab": {
          "base_uri": "https://localhost:8080/",
          "height": 65
        },
        "id": "ezhwNnYR7d5_",
        "outputId": "0df0be51-664b-4305-b2a2-4bd3f149393e"
      },
      "source": [
        "spark.sql('select count(State_UTs) from Data')"
      ],
      "execution_count": null,
      "outputs": [
        {
          "output_type": "execute_result",
          "data": {
            "text/html": [
              "<table border='1'>\n",
              "<tr><th>count(State_UTs)</th></tr>\n",
              "<tr><td>36</td></tr>\n",
              "</table>\n"
            ],
            "text/plain": [
              "+----------------+\n",
              "|count(State_UTs)|\n",
              "+----------------+\n",
              "|              36|\n",
              "+----------------+"
            ]
          },
          "metadata": {},
          "execution_count": 22
        }
      ]
    },
    {
      "cell_type": "code",
      "metadata": {
        "colab": {
          "base_uri": "https://localhost:8080/",
          "height": 153
        },
        "id": "ZNcJsKJD7t4U",
        "outputId": "0e32dcef-dcdf-4cd7-f176-536af548b93c"
      },
      "source": [
        "spark.sql('select * from Data order by Active desc limit 5')"
      ],
      "execution_count": null,
      "outputs": [
        {
          "output_type": "execute_result",
          "data": {
            "text/html": [
              "<table border='1'>\n",
              "<tr><th>State_UTs</th><th>Total_Cases</th><th>Active</th><th>Discharged</th><th>Deaths</th><th>Active_Ratio</th><th>Discharge_Ratio</th><th>Death_Ratio</th></tr>\n",
              "<tr><td>Kerala</td><td>3724030</td><td>175695</td><td>3529465</td><td>18870</td><td>4.72</td><td>94.78</td><td>0.51</td></tr>\n",
              "<tr><td>Maharashtra</td><td>6401213</td><td>64790</td><td>6201168</td><td>135255</td><td>1.01</td><td>96.87</td><td>2.11</td></tr>\n",
              "<tr><td>Karnataka</td><td>2931827</td><td>21507</td><td>2873281</td><td>37039</td><td>0.73</td><td>98.0</td><td>1.26</td></tr>\n",
              "<tr><td>Tamil Nadu</td><td>2592436</td><td>20225</td><td>2537632</td><td>34579</td><td>0.78</td><td>97.89</td><td>1.33</td></tr>\n",
              "<tr><td>Andhra Pradesh</td><td>1995669</td><td>16341</td><td>1965657</td><td>13671</td><td>0.82</td><td>98.5</td><td>0.69</td></tr>\n",
              "</table>\n"
            ],
            "text/plain": [
              "+--------------+-----------+------+----------+------+------------+---------------+-----------+\n",
              "|     State_UTs|Total_Cases|Active|Discharged|Deaths|Active_Ratio|Discharge_Ratio|Death_Ratio|\n",
              "+--------------+-----------+------+----------+------+------------+---------------+-----------+\n",
              "|        Kerala|    3724030|175695|   3529465| 18870|        4.72|          94.78|       0.51|\n",
              "|   Maharashtra|    6401213| 64790|   6201168|135255|        1.01|          96.87|       2.11|\n",
              "|     Karnataka|    2931827| 21507|   2873281| 37039|        0.73|           98.0|       1.26|\n",
              "|    Tamil Nadu|    2592436| 20225|   2537632| 34579|        0.78|          97.89|       1.33|\n",
              "|Andhra Pradesh|    1995669| 16341|   1965657| 13671|        0.82|           98.5|       0.69|\n",
              "+--------------+-----------+------+----------+------+------------+---------------+-----------+"
            ]
          },
          "metadata": {},
          "execution_count": 23
        }
      ]
    },
    {
      "cell_type": "code",
      "metadata": {
        "colab": {
          "base_uri": "https://localhost:8080/",
          "height": 153
        },
        "id": "8H7A3Qau7--T",
        "outputId": "480071b5-2a28-4ead-c199-86e8ffb7bcf5"
      },
      "source": [
        "spark.sql('select * from Data order by Death_Ratio desc limit 5')"
      ],
      "execution_count": null,
      "outputs": [
        {
          "output_type": "execute_result",
          "data": {
            "text/html": [
              "<table border='1'>\n",
              "<tr><th>State_UTs</th><th>Total_Cases</th><th>Active</th><th>Discharged</th><th>Deaths</th><th>Active_Ratio</th><th>Discharge_Ratio</th><th>Death_Ratio</th></tr>\n",
              "<tr><td>Punjab</td><td>600008</td><td>543</td><td>583120</td><td>16345</td><td>0.09</td><td>97.19</td><td>2.72</td></tr>\n",
              "<tr><td>Uttarakhand</td><td>342637</td><td>330</td><td>334934</td><td>7373</td><td>0.1</td><td>97.75</td><td>2.15</td></tr>\n",
              "<tr><td>Maharashtra</td><td>6401213</td><td>64790</td><td>6201168</td><td>135255</td><td>1.01</td><td>96.87</td><td>2.11</td></tr>\n",
              "<tr><td>Nagaland</td><td>29274</td><td>1088</td><td>27579</td><td>607</td><td>3.72</td><td>94.21</td><td>2.07</td></tr>\n",
              "<tr><td>Goa</td><td>172683</td><td>884</td><td>168622</td><td>3177</td><td>0.51</td><td>97.65</td><td>1.84</td></tr>\n",
              "</table>\n"
            ],
            "text/plain": [
              "+-----------+-----------+------+----------+------+------------+---------------+-----------+\n",
              "|  State_UTs|Total_Cases|Active|Discharged|Deaths|Active_Ratio|Discharge_Ratio|Death_Ratio|\n",
              "+-----------+-----------+------+----------+------+------------+---------------+-----------+\n",
              "|     Punjab|     600008|   543|    583120| 16345|        0.09|          97.19|       2.72|\n",
              "|Uttarakhand|     342637|   330|    334934|  7373|         0.1|          97.75|       2.15|\n",
              "|Maharashtra|    6401213| 64790|   6201168|135255|        1.01|          96.87|       2.11|\n",
              "|   Nagaland|      29274|  1088|     27579|   607|        3.72|          94.21|       2.07|\n",
              "|        Goa|     172683|   884|    168622|  3177|        0.51|          97.65|       1.84|\n",
              "+-----------+-----------+------+----------+------+------------+---------------+-----------+"
            ]
          },
          "metadata": {},
          "execution_count": 24
        }
      ]
    },
    {
      "cell_type": "code",
      "metadata": {
        "colab": {
          "base_uri": "https://localhost:8080/",
          "height": 65
        },
        "id": "UJ7IfU1Z8e9Z",
        "outputId": "f6100b30-7942-4654-eef1-d2c3bdcfd755"
      },
      "source": [
        "spark.sql('select sum(Total_Cases), sum(Deaths) from data')"
      ],
      "execution_count": null,
      "outputs": [
        {
          "output_type": "execute_result",
          "data": {
            "text/html": [
              "<table border='1'>\n",
              "<tr><th>sum(Total_Cases)</th><th>sum(Deaths)</th></tr>\n",
              "<tr><td>32285857</td><td>432519</td></tr>\n",
              "</table>\n"
            ],
            "text/plain": [
              "+----------------+-----------+\n",
              "|sum(Total_Cases)|sum(Deaths)|\n",
              "+----------------+-----------+\n",
              "|        32285857|     432519|\n",
              "+----------------+-----------+"
            ]
          },
          "metadata": {},
          "execution_count": 26
        }
      ]
    },
    {
      "cell_type": "code",
      "metadata": {
        "colab": {
          "base_uri": "https://localhost:8080/",
          "height": 153
        },
        "id": "TMRq-p4I8tBz",
        "outputId": "e8d8e4d1-48b3-4bdc-e594-e0cca52c4d95"
      },
      "source": [
        "spark.sql('select * from Data order by Active asc limit 5')"
      ],
      "execution_count": null,
      "outputs": [
        {
          "output_type": "execute_result",
          "data": {
            "text/html": [
              "<table border='1'>\n",
              "<tr><th>State_UTs</th><th>Total_Cases</th><th>Active</th><th>Discharged</th><th>Deaths</th><th>Active_Ratio</th><th>Discharge_Ratio</th><th>Death_Ratio</th></tr>\n",
              "<tr><td>Andaman and Nicobar</td><td>7549</td><td>1</td><td>7419</td><td>129</td><td>0.01</td><td>98.28</td><td>1.71</td></tr>\n",
              "<tr><td>Dadra and Nagar H...</td><td>10657</td><td>4</td><td>10649</td><td>4</td><td>0.04</td><td>99.92</td><td>0.04</td></tr>\n",
              "<tr><td>Lakshadweep</td><td>10295</td><td>34</td><td>10210</td><td>51</td><td>0.33</td><td>99.17</td><td>0.5</td></tr>\n",
              "<tr><td>Chandigarh</td><td>62035</td><td>42</td><td>61182</td><td>811</td><td>0.07</td><td>98.62</td><td>1.31</td></tr>\n",
              "<tr><td>Ladakh</td><td>20466</td><td>81</td><td>20178</td><td>207</td><td>0.4</td><td>98.59</td><td>1.01</td></tr>\n",
              "</table>\n"
            ],
            "text/plain": [
              "+--------------------+-----------+------+----------+------+------------+---------------+-----------+\n",
              "|           State_UTs|Total_Cases|Active|Discharged|Deaths|Active_Ratio|Discharge_Ratio|Death_Ratio|\n",
              "+--------------------+-----------+------+----------+------+------------+---------------+-----------+\n",
              "| Andaman and Nicobar|       7549|     1|      7419|   129|        0.01|          98.28|       1.71|\n",
              "|Dadra and Nagar H...|      10657|     4|     10649|     4|        0.04|          99.92|       0.04|\n",
              "|         Lakshadweep|      10295|    34|     10210|    51|        0.33|          99.17|        0.5|\n",
              "|          Chandigarh|      62035|    42|     61182|   811|        0.07|          98.62|       1.31|\n",
              "|              Ladakh|      20466|    81|     20178|   207|         0.4|          98.59|       1.01|\n",
              "+--------------------+-----------+------+----------+------+------------+---------------+-----------+"
            ]
          },
          "metadata": {},
          "execution_count": 27
        }
      ]
    },
    {
      "cell_type": "code",
      "metadata": {
        "colab": {
          "base_uri": "https://localhost:8080/",
          "height": 202
        },
        "id": "mGQeUCHf888F",
        "outputId": "f4b5fdb7-6284-4127-99c6-e8600a9037e0"
      },
      "source": [
        "import pandas as pd\n",
        "\n",
        "pd_df = renamed_df.toPandas()\n",
        "pd_df.head()"
      ],
      "execution_count": null,
      "outputs": [
        {
          "output_type": "execute_result",
          "data": {
            "text/html": [
              "<div>\n",
              "<style scoped>\n",
              "    .dataframe tbody tr th:only-of-type {\n",
              "        vertical-align: middle;\n",
              "    }\n",
              "\n",
              "    .dataframe tbody tr th {\n",
              "        vertical-align: top;\n",
              "    }\n",
              "\n",
              "    .dataframe thead th {\n",
              "        text-align: right;\n",
              "    }\n",
              "</style>\n",
              "<table border=\"1\" class=\"dataframe\">\n",
              "  <thead>\n",
              "    <tr style=\"text-align: right;\">\n",
              "      <th></th>\n",
              "      <th>State_UTs</th>\n",
              "      <th>Total_Cases</th>\n",
              "      <th>Active</th>\n",
              "      <th>Discharged</th>\n",
              "      <th>Deaths</th>\n",
              "      <th>Active_Ratio</th>\n",
              "      <th>Discharge_Ratio</th>\n",
              "      <th>Death_Ratio</th>\n",
              "    </tr>\n",
              "  </thead>\n",
              "  <tbody>\n",
              "    <tr>\n",
              "      <th>0</th>\n",
              "      <td>Andaman and Nicobar</td>\n",
              "      <td>7549</td>\n",
              "      <td>1</td>\n",
              "      <td>7419</td>\n",
              "      <td>129</td>\n",
              "      <td>0.01</td>\n",
              "      <td>98.28</td>\n",
              "      <td>1.71</td>\n",
              "    </tr>\n",
              "    <tr>\n",
              "      <th>1</th>\n",
              "      <td>Andhra Pradesh</td>\n",
              "      <td>1995669</td>\n",
              "      <td>16341</td>\n",
              "      <td>1965657</td>\n",
              "      <td>13671</td>\n",
              "      <td>0.82</td>\n",
              "      <td>98.50</td>\n",
              "      <td>0.69</td>\n",
              "    </tr>\n",
              "    <tr>\n",
              "      <th>2</th>\n",
              "      <td>Arunachal Pradesh</td>\n",
              "      <td>51655</td>\n",
              "      <td>1763</td>\n",
              "      <td>49640</td>\n",
              "      <td>252</td>\n",
              "      <td>3.41</td>\n",
              "      <td>96.10</td>\n",
              "      <td>0.49</td>\n",
              "    </tr>\n",
              "    <tr>\n",
              "      <th>3</th>\n",
              "      <td>Assam</td>\n",
              "      <td>581398</td>\n",
              "      <td>8772</td>\n",
              "      <td>567113</td>\n",
              "      <td>5513</td>\n",
              "      <td>1.51</td>\n",
              "      <td>97.54</td>\n",
              "      <td>0.95</td>\n",
              "    </tr>\n",
              "    <tr>\n",
              "      <th>4</th>\n",
              "      <td>Bihar</td>\n",
              "      <td>725518</td>\n",
              "      <td>204</td>\n",
              "      <td>715665</td>\n",
              "      <td>9649</td>\n",
              "      <td>0.03</td>\n",
              "      <td>98.64</td>\n",
              "      <td>1.33</td>\n",
              "    </tr>\n",
              "  </tbody>\n",
              "</table>\n",
              "</div>"
            ],
            "text/plain": [
              "             State_UTs  Total_Cases  ...  Discharge_Ratio  Death_Ratio\n",
              "0  Andaman and Nicobar         7549  ...            98.28         1.71\n",
              "1       Andhra Pradesh      1995669  ...            98.50         0.69\n",
              "2    Arunachal Pradesh        51655  ...            96.10         0.49\n",
              "3                Assam       581398  ...            97.54         0.95\n",
              "4                Bihar       725518  ...            98.64         1.33\n",
              "\n",
              "[5 rows x 8 columns]"
            ]
          },
          "metadata": {},
          "execution_count": 29
        }
      ]
    },
    {
      "cell_type": "code",
      "metadata": {
        "colab": {
          "base_uri": "https://localhost:8080/",
          "height": 294
        },
        "id": "rTkV_FOu9RAv",
        "outputId": "8f76d939-7f98-4681-c56d-3711c7537ab9"
      },
      "source": [
        "pd_df.describe()"
      ],
      "execution_count": null,
      "outputs": [
        {
          "output_type": "execute_result",
          "data": {
            "text/html": [
              "<div>\n",
              "<style scoped>\n",
              "    .dataframe tbody tr th:only-of-type {\n",
              "        vertical-align: middle;\n",
              "    }\n",
              "\n",
              "    .dataframe tbody tr th {\n",
              "        vertical-align: top;\n",
              "    }\n",
              "\n",
              "    .dataframe thead th {\n",
              "        text-align: right;\n",
              "    }\n",
              "</style>\n",
              "<table border=\"1\" class=\"dataframe\">\n",
              "  <thead>\n",
              "    <tr style=\"text-align: right;\">\n",
              "      <th></th>\n",
              "      <th>Total_Cases</th>\n",
              "      <th>Active</th>\n",
              "      <th>Discharged</th>\n",
              "      <th>Deaths</th>\n",
              "      <th>Active_Ratio</th>\n",
              "      <th>Discharge_Ratio</th>\n",
              "      <th>Death_Ratio</th>\n",
              "    </tr>\n",
              "  </thead>\n",
              "  <tbody>\n",
              "    <tr>\n",
              "      <th>count</th>\n",
              "      <td>3.600000e+01</td>\n",
              "      <td>36.000000</td>\n",
              "      <td>3.600000e+01</td>\n",
              "      <td>36.000000</td>\n",
              "      <td>36.000000</td>\n",
              "      <td>36.000000</td>\n",
              "      <td>36.000000</td>\n",
              "    </tr>\n",
              "    <tr>\n",
              "      <th>mean</th>\n",
              "      <td>8.968294e+05</td>\n",
              "      <td>10205.972222</td>\n",
              "      <td>8.746090e+05</td>\n",
              "      <td>12014.416667</td>\n",
              "      <td>1.682222</td>\n",
              "      <td>97.052222</td>\n",
              "      <td>1.265000</td>\n",
              "    </tr>\n",
              "    <tr>\n",
              "      <th>std</th>\n",
              "      <td>1.303563e+06</td>\n",
              "      <td>30660.005408</td>\n",
              "      <td>1.262310e+06</td>\n",
              "      <td>23205.834381</td>\n",
              "      <td>3.335660</td>\n",
              "      <td>3.239175</td>\n",
              "      <td>0.564464</td>\n",
              "    </tr>\n",
              "    <tr>\n",
              "      <th>min</th>\n",
              "      <td>7.549000e+03</td>\n",
              "      <td>1.000000</td>\n",
              "      <td>7.419000e+03</td>\n",
              "      <td>4.000000</td>\n",
              "      <td>0.010000</td>\n",
              "      <td>81.440000</td>\n",
              "      <td>0.040000</td>\n",
              "    </tr>\n",
              "    <tr>\n",
              "      <th>25%</th>\n",
              "      <td>6.981775e+04</td>\n",
              "      <td>213.750000</td>\n",
              "      <td>6.598125e+04</td>\n",
              "      <td>803.750000</td>\n",
              "      <td>0.067500</td>\n",
              "      <td>97.150000</td>\n",
              "      <td>0.947500</td>\n",
              "    </tr>\n",
              "    <tr>\n",
              "      <th>50%</th>\n",
              "      <td>4.645165e+05</td>\n",
              "      <td>1062.500000</td>\n",
              "      <td>4.546995e+05</td>\n",
              "      <td>5322.500000</td>\n",
              "      <td>0.570000</td>\n",
              "      <td>98.200000</td>\n",
              "      <td>1.320000</td>\n",
              "    </tr>\n",
              "    <tr>\n",
              "      <th>75%</th>\n",
              "      <td>9.980822e+05</td>\n",
              "      <td>7369.500000</td>\n",
              "      <td>9.826742e+05</td>\n",
              "      <td>13579.500000</td>\n",
              "      <td>1.337500</td>\n",
              "      <td>98.597500</td>\n",
              "      <td>1.607500</td>\n",
              "    </tr>\n",
              "    <tr>\n",
              "      <th>max</th>\n",
              "      <td>6.401213e+06</td>\n",
              "      <td>175695.000000</td>\n",
              "      <td>6.201168e+06</td>\n",
              "      <td>135255.000000</td>\n",
              "      <td>18.190000</td>\n",
              "      <td>99.920000</td>\n",
              "      <td>2.720000</td>\n",
              "    </tr>\n",
              "  </tbody>\n",
              "</table>\n",
              "</div>"
            ],
            "text/plain": [
              "        Total_Cases         Active  ...  Discharge_Ratio  Death_Ratio\n",
              "count  3.600000e+01      36.000000  ...        36.000000    36.000000\n",
              "mean   8.968294e+05   10205.972222  ...        97.052222     1.265000\n",
              "std    1.303563e+06   30660.005408  ...         3.239175     0.564464\n",
              "min    7.549000e+03       1.000000  ...        81.440000     0.040000\n",
              "25%    6.981775e+04     213.750000  ...        97.150000     0.947500\n",
              "50%    4.645165e+05    1062.500000  ...        98.200000     1.320000\n",
              "75%    9.980822e+05    7369.500000  ...        98.597500     1.607500\n",
              "max    6.401213e+06  175695.000000  ...        99.920000     2.720000\n",
              "\n",
              "[8 rows x 7 columns]"
            ]
          },
          "metadata": {},
          "execution_count": 30
        }
      ]
    },
    {
      "cell_type": "code",
      "metadata": {
        "colab": {
          "base_uri": "https://localhost:8080/",
          "height": 264
        },
        "id": "4ymZHyrN9poL",
        "outputId": "ef6d9662-8a70-4216-b66a-7c41115e949a"
      },
      "source": [
        "pd_df.corr()"
      ],
      "execution_count": null,
      "outputs": [
        {
          "output_type": "execute_result",
          "data": {
            "text/html": [
              "<div>\n",
              "<style scoped>\n",
              "    .dataframe tbody tr th:only-of-type {\n",
              "        vertical-align: middle;\n",
              "    }\n",
              "\n",
              "    .dataframe tbody tr th {\n",
              "        vertical-align: top;\n",
              "    }\n",
              "\n",
              "    .dataframe thead th {\n",
              "        text-align: right;\n",
              "    }\n",
              "</style>\n",
              "<table border=\"1\" class=\"dataframe\">\n",
              "  <thead>\n",
              "    <tr style=\"text-align: right;\">\n",
              "      <th></th>\n",
              "      <th>Total_Cases</th>\n",
              "      <th>Active</th>\n",
              "      <th>Discharged</th>\n",
              "      <th>Deaths</th>\n",
              "      <th>Active_Ratio</th>\n",
              "      <th>Discharge_Ratio</th>\n",
              "      <th>Death_Ratio</th>\n",
              "    </tr>\n",
              "  </thead>\n",
              "  <tbody>\n",
              "    <tr>\n",
              "      <th>Total_Cases</th>\n",
              "      <td>1.000000</td>\n",
              "      <td>0.663181</td>\n",
              "      <td>0.999898</td>\n",
              "      <td>0.907023</td>\n",
              "      <td>-0.115642</td>\n",
              "      <td>0.102671</td>\n",
              "      <td>0.092273</td>\n",
              "    </tr>\n",
              "    <tr>\n",
              "      <th>Active</th>\n",
              "      <td>0.663181</td>\n",
              "      <td>1.000000</td>\n",
              "      <td>0.653333</td>\n",
              "      <td>0.393393</td>\n",
              "      <td>0.167718</td>\n",
              "      <td>-0.143148</td>\n",
              "      <td>-0.167600</td>\n",
              "    </tr>\n",
              "    <tr>\n",
              "      <th>Discharged</th>\n",
              "      <td>0.999898</td>\n",
              "      <td>0.653333</td>\n",
              "      <td>1.000000</td>\n",
              "      <td>0.908726</td>\n",
              "      <td>-0.121017</td>\n",
              "      <td>0.107895</td>\n",
              "      <td>0.094009</td>\n",
              "    </tr>\n",
              "    <tr>\n",
              "      <th>Deaths</th>\n",
              "      <td>0.907023</td>\n",
              "      <td>0.393393</td>\n",
              "      <td>0.908726</td>\n",
              "      <td>1.000000</td>\n",
              "      <td>-0.134799</td>\n",
              "      <td>0.087475</td>\n",
              "      <td>0.291043</td>\n",
              "    </tr>\n",
              "    <tr>\n",
              "      <th>Active_Ratio</th>\n",
              "      <td>-0.115642</td>\n",
              "      <td>0.167718</td>\n",
              "      <td>-0.121017</td>\n",
              "      <td>-0.134799</td>\n",
              "      <td>1.000000</td>\n",
              "      <td>-0.985614</td>\n",
              "      <td>-0.252406</td>\n",
              "    </tr>\n",
              "    <tr>\n",
              "      <th>Discharge_Ratio</th>\n",
              "      <td>0.102671</td>\n",
              "      <td>-0.143148</td>\n",
              "      <td>0.107895</td>\n",
              "      <td>0.087475</td>\n",
              "      <td>-0.985614</td>\n",
              "      <td>1.000000</td>\n",
              "      <td>0.085239</td>\n",
              "    </tr>\n",
              "    <tr>\n",
              "      <th>Death_Ratio</th>\n",
              "      <td>0.092273</td>\n",
              "      <td>-0.167600</td>\n",
              "      <td>0.094009</td>\n",
              "      <td>0.291043</td>\n",
              "      <td>-0.252406</td>\n",
              "      <td>0.085239</td>\n",
              "      <td>1.000000</td>\n",
              "    </tr>\n",
              "  </tbody>\n",
              "</table>\n",
              "</div>"
            ],
            "text/plain": [
              "                 Total_Cases    Active  ...  Discharge_Ratio  Death_Ratio\n",
              "Total_Cases         1.000000  0.663181  ...         0.102671     0.092273\n",
              "Active              0.663181  1.000000  ...        -0.143148    -0.167600\n",
              "Discharged          0.999898  0.653333  ...         0.107895     0.094009\n",
              "Deaths              0.907023  0.393393  ...         0.087475     0.291043\n",
              "Active_Ratio       -0.115642  0.167718  ...        -0.985614    -0.252406\n",
              "Discharge_Ratio     0.102671 -0.143148  ...         1.000000     0.085239\n",
              "Death_Ratio         0.092273 -0.167600  ...         0.085239     1.000000\n",
              "\n",
              "[7 rows x 7 columns]"
            ]
          },
          "metadata": {},
          "execution_count": 33
        }
      ]
    },
    {
      "cell_type": "code",
      "metadata": {
        "colab": {
          "base_uri": "https://localhost:8080/",
          "height": 542
        },
        "id": "XPnE0MgX94yN",
        "outputId": "3ac1f942-c3a0-4224-ad78-911477a0749f"
      },
      "source": [
        "# Make 4 Histograms: 'Total Cases', 'Deaths', 'Active', 'Discharged'\n",
        "import plotly.graph_objects as go\n",
        "import plotly.express as px\n",
        "from plotly.subplots import make_subplots\n",
        "\n",
        "fig = make_subplots(rows=2, cols=2, subplot_titles=['Total Cases', 'Deaths', 'Active', 'Discharged'])\n",
        "\n",
        "total_cases = go.Histogram(x=pd_df['Total_Cases'], nbinsx=20, name='Total Cases')\n",
        "deaths = go.Histogram(x=pd_df['Deaths'], nbinsx=20, name='Deaths')\n",
        "active = go.Histogram(x=pd_df['Active'], nbinsx=20, name='Active')\n",
        "discharged = go.Histogram(x=pd_df['Discharged'], nbinsx=20, name='Discharged')\n",
        "\n",
        "fig.add_trace(total_cases, 1, 1)\n",
        "fig.add_trace(deaths, 1, 2)\n",
        "fig.add_trace(active, 2, 1)\n",
        "fig.add_trace(discharged, 2, 2)\n",
        "\n",
        "fig.update_layout(showlegend=False)\n",
        "fig.show()"
      ],
      "execution_count": null,
      "outputs": [
        {
          "output_type": "display_data",
          "data": {
            "text/html": [
              "<html>\n",
              "<head><meta charset=\"utf-8\" /></head>\n",
              "<body>\n",
              "    <div>\n",
              "            <script src=\"https://cdnjs.cloudflare.com/ajax/libs/mathjax/2.7.5/MathJax.js?config=TeX-AMS-MML_SVG\"></script><script type=\"text/javascript\">if (window.MathJax) {MathJax.Hub.Config({SVG: {font: \"STIX-Web\"}});}</script>\n",
              "                <script type=\"text/javascript\">window.PlotlyConfig = {MathJaxConfig: 'local'};</script>\n",
              "        <script src=\"https://cdn.plot.ly/plotly-latest.min.js\"></script>    \n",
              "            <div id=\"319d33e6-4d1d-4434-b2ef-86a0388db404\" class=\"plotly-graph-div\" style=\"height:525px; width:100%;\"></div>\n",
              "            <script type=\"text/javascript\">\n",
              "                \n",
              "                    window.PLOTLYENV=window.PLOTLYENV || {};\n",
              "                    \n",
              "                if (document.getElementById(\"319d33e6-4d1d-4434-b2ef-86a0388db404\")) {\n",
              "                    Plotly.newPlot(\n",
              "                        '319d33e6-4d1d-4434-b2ef-86a0388db404',\n",
              "                        [{\"name\": \"Total Cases\", \"nbinsx\": 20, \"type\": \"histogram\", \"x\": [7549, 1995669, 51655, 581398, 725518, 62035, 1003870, 10657, 1437156, 172683, 825213, 770245, 210719, 323582, 347635, 2931827, 3724030, 20466, 10295, 792054, 6401213, 108948, 72412, 49950, 29274, 996153, 122391, 600008, 953960, 28830, 2592436, 653202, 81584, 1708991, 342637, 1539612], \"xaxis\": \"x\", \"yaxis\": \"y\"}, {\"name\": \"Deaths\", \"nbinsx\": 20, \"type\": \"histogram\", \"x\": [129, 13671, 252, 5513, 9649, 811, 13549, 4, 25073, 3177, 10078, 9661, 3557, 4399, 5132, 37039, 18870, 207, 51, 10515, 135255, 1722, 1240, 185, 607, 7021, 1805, 16345, 8954, 363, 34579, 3847, 782, 22786, 7373, 18318], \"xaxis\": \"x2\", \"yaxis\": \"y2\"}, {\"name\": \"Active\", \"nbinsx\": 20, \"type\": \"histogram\", \"x\": [1, 16341, 1763, 8772, 204, 42, 1037, 4, 471, 884, 179, 660, 2705, 1158, 217, 21507, 175695, 81, 34, 95, 64790, 5721, 3591, 9084, 1088, 8661, 856, 543, 163, 1982, 20225, 6939, 1436, 420, 330, 9736], \"xaxis\": \"x3\", \"yaxis\": \"y3\"}, {\"name\": \"Discharged\", \"nbinsx\": 20, \"type\": \"histogram\", \"x\": [7419, 1965657, 49640, 567113, 715665, 61182, 989284, 10649, 1411612, 168622, 814956, 759924, 204457, 318025, 342286, 2873281, 3529465, 20178, 10210, 781444, 6201168, 101505, 67581, 40681, 27579, 980471, 119730, 583120, 944843, 26485, 2537632, 642416, 79366, 1685785, 334934, 1511558], \"xaxis\": \"x4\", \"yaxis\": \"y4\"}],\n",
              "                        {\"annotations\": [{\"font\": {\"size\": 16}, \"showarrow\": false, \"text\": \"Total Cases\", \"x\": 0.225, \"xanchor\": \"center\", \"xref\": \"paper\", \"y\": 1.0, \"yanchor\": \"bottom\", \"yref\": \"paper\"}, {\"font\": {\"size\": 16}, \"showarrow\": false, \"text\": \"Deaths\", \"x\": 0.775, \"xanchor\": \"center\", \"xref\": \"paper\", \"y\": 1.0, \"yanchor\": \"bottom\", \"yref\": \"paper\"}, {\"font\": {\"size\": 16}, \"showarrow\": false, \"text\": \"Active\", \"x\": 0.225, \"xanchor\": \"center\", \"xref\": \"paper\", \"y\": 0.375, \"yanchor\": \"bottom\", \"yref\": \"paper\"}, {\"font\": {\"size\": 16}, \"showarrow\": false, \"text\": \"Discharged\", \"x\": 0.775, \"xanchor\": \"center\", \"xref\": \"paper\", \"y\": 0.375, \"yanchor\": \"bottom\", \"yref\": \"paper\"}], \"showlegend\": false, \"template\": {\"data\": {\"bar\": [{\"error_x\": {\"color\": \"#2a3f5f\"}, \"error_y\": {\"color\": \"#2a3f5f\"}, \"marker\": {\"line\": {\"color\": \"#E5ECF6\", \"width\": 0.5}}, \"type\": \"bar\"}], \"barpolar\": [{\"marker\": {\"line\": {\"color\": \"#E5ECF6\", \"width\": 0.5}}, \"type\": \"barpolar\"}], \"carpet\": [{\"aaxis\": {\"endlinecolor\": \"#2a3f5f\", \"gridcolor\": \"white\", \"linecolor\": \"white\", \"minorgridcolor\": \"white\", \"startlinecolor\": \"#2a3f5f\"}, \"baxis\": {\"endlinecolor\": \"#2a3f5f\", \"gridcolor\": \"white\", \"linecolor\": \"white\", \"minorgridcolor\": \"white\", \"startlinecolor\": \"#2a3f5f\"}, \"type\": \"carpet\"}], \"choropleth\": [{\"colorbar\": {\"outlinewidth\": 0, \"ticks\": \"\"}, \"type\": \"choropleth\"}], \"contour\": [{\"colorbar\": {\"outlinewidth\": 0, \"ticks\": \"\"}, \"colorscale\": [[0.0, \"#0d0887\"], [0.1111111111111111, \"#46039f\"], [0.2222222222222222, \"#7201a8\"], [0.3333333333333333, \"#9c179e\"], [0.4444444444444444, \"#bd3786\"], [0.5555555555555556, \"#d8576b\"], [0.6666666666666666, \"#ed7953\"], [0.7777777777777778, \"#fb9f3a\"], [0.8888888888888888, \"#fdca26\"], [1.0, \"#f0f921\"]], \"type\": \"contour\"}], \"contourcarpet\": [{\"colorbar\": {\"outlinewidth\": 0, \"ticks\": \"\"}, \"type\": \"contourcarpet\"}], \"heatmap\": [{\"colorbar\": {\"outlinewidth\": 0, \"ticks\": \"\"}, \"colorscale\": [[0.0, \"#0d0887\"], [0.1111111111111111, \"#46039f\"], [0.2222222222222222, \"#7201a8\"], [0.3333333333333333, \"#9c179e\"], [0.4444444444444444, \"#bd3786\"], [0.5555555555555556, \"#d8576b\"], [0.6666666666666666, \"#ed7953\"], [0.7777777777777778, \"#fb9f3a\"], [0.8888888888888888, \"#fdca26\"], [1.0, \"#f0f921\"]], \"type\": \"heatmap\"}], \"heatmapgl\": [{\"colorbar\": {\"outlinewidth\": 0, \"ticks\": \"\"}, \"colorscale\": [[0.0, \"#0d0887\"], [0.1111111111111111, \"#46039f\"], [0.2222222222222222, \"#7201a8\"], [0.3333333333333333, \"#9c179e\"], [0.4444444444444444, \"#bd3786\"], [0.5555555555555556, \"#d8576b\"], [0.6666666666666666, \"#ed7953\"], [0.7777777777777778, \"#fb9f3a\"], [0.8888888888888888, \"#fdca26\"], [1.0, \"#f0f921\"]], \"type\": \"heatmapgl\"}], \"histogram\": [{\"marker\": {\"colorbar\": {\"outlinewidth\": 0, \"ticks\": \"\"}}, \"type\": \"histogram\"}], \"histogram2d\": [{\"colorbar\": {\"outlinewidth\": 0, \"ticks\": \"\"}, \"colorscale\": [[0.0, \"#0d0887\"], [0.1111111111111111, \"#46039f\"], [0.2222222222222222, \"#7201a8\"], [0.3333333333333333, \"#9c179e\"], [0.4444444444444444, \"#bd3786\"], [0.5555555555555556, \"#d8576b\"], [0.6666666666666666, \"#ed7953\"], [0.7777777777777778, \"#fb9f3a\"], [0.8888888888888888, \"#fdca26\"], [1.0, \"#f0f921\"]], \"type\": \"histogram2d\"}], \"histogram2dcontour\": [{\"colorbar\": {\"outlinewidth\": 0, \"ticks\": \"\"}, \"colorscale\": [[0.0, \"#0d0887\"], [0.1111111111111111, \"#46039f\"], [0.2222222222222222, \"#7201a8\"], [0.3333333333333333, \"#9c179e\"], [0.4444444444444444, \"#bd3786\"], [0.5555555555555556, \"#d8576b\"], [0.6666666666666666, \"#ed7953\"], [0.7777777777777778, \"#fb9f3a\"], [0.8888888888888888, \"#fdca26\"], [1.0, \"#f0f921\"]], \"type\": \"histogram2dcontour\"}], \"mesh3d\": [{\"colorbar\": {\"outlinewidth\": 0, \"ticks\": \"\"}, \"type\": \"mesh3d\"}], \"parcoords\": [{\"line\": {\"colorbar\": {\"outlinewidth\": 0, \"ticks\": \"\"}}, \"type\": \"parcoords\"}], \"pie\": [{\"automargin\": true, \"type\": \"pie\"}], \"scatter\": [{\"marker\": {\"colorbar\": {\"outlinewidth\": 0, \"ticks\": \"\"}}, \"type\": \"scatter\"}], \"scatter3d\": [{\"line\": {\"colorbar\": {\"outlinewidth\": 0, \"ticks\": \"\"}}, \"marker\": {\"colorbar\": {\"outlinewidth\": 0, \"ticks\": \"\"}}, \"type\": \"scatter3d\"}], \"scattercarpet\": [{\"marker\": {\"colorbar\": {\"outlinewidth\": 0, \"ticks\": \"\"}}, \"type\": \"scattercarpet\"}], \"scattergeo\": [{\"marker\": {\"colorbar\": {\"outlinewidth\": 0, \"ticks\": \"\"}}, \"type\": \"scattergeo\"}], \"scattergl\": [{\"marker\": {\"colorbar\": {\"outlinewidth\": 0, \"ticks\": \"\"}}, \"type\": \"scattergl\"}], \"scattermapbox\": [{\"marker\": {\"colorbar\": {\"outlinewidth\": 0, \"ticks\": \"\"}}, \"type\": \"scattermapbox\"}], \"scatterpolar\": [{\"marker\": {\"colorbar\": {\"outlinewidth\": 0, \"ticks\": \"\"}}, \"type\": \"scatterpolar\"}], \"scatterpolargl\": [{\"marker\": {\"colorbar\": {\"outlinewidth\": 0, \"ticks\": \"\"}}, \"type\": \"scatterpolargl\"}], \"scatterternary\": [{\"marker\": {\"colorbar\": {\"outlinewidth\": 0, \"ticks\": \"\"}}, \"type\": \"scatterternary\"}], \"surface\": [{\"colorbar\": {\"outlinewidth\": 0, \"ticks\": \"\"}, \"colorscale\": [[0.0, \"#0d0887\"], [0.1111111111111111, \"#46039f\"], [0.2222222222222222, \"#7201a8\"], [0.3333333333333333, \"#9c179e\"], [0.4444444444444444, \"#bd3786\"], [0.5555555555555556, \"#d8576b\"], [0.6666666666666666, \"#ed7953\"], [0.7777777777777778, \"#fb9f3a\"], [0.8888888888888888, \"#fdca26\"], [1.0, \"#f0f921\"]], \"type\": \"surface\"}], \"table\": [{\"cells\": {\"fill\": {\"color\": \"#EBF0F8\"}, \"line\": {\"color\": \"white\"}}, \"header\": {\"fill\": {\"color\": \"#C8D4E3\"}, \"line\": {\"color\": \"white\"}}, \"type\": \"table\"}]}, \"layout\": {\"annotationdefaults\": {\"arrowcolor\": \"#2a3f5f\", \"arrowhead\": 0, \"arrowwidth\": 1}, \"coloraxis\": {\"colorbar\": {\"outlinewidth\": 0, \"ticks\": \"\"}}, \"colorscale\": {\"diverging\": [[0, \"#8e0152\"], [0.1, \"#c51b7d\"], [0.2, \"#de77ae\"], [0.3, \"#f1b6da\"], [0.4, \"#fde0ef\"], [0.5, \"#f7f7f7\"], [0.6, \"#e6f5d0\"], [0.7, \"#b8e186\"], [0.8, \"#7fbc41\"], [0.9, \"#4d9221\"], [1, \"#276419\"]], \"sequential\": [[0.0, \"#0d0887\"], [0.1111111111111111, \"#46039f\"], [0.2222222222222222, \"#7201a8\"], [0.3333333333333333, \"#9c179e\"], [0.4444444444444444, \"#bd3786\"], [0.5555555555555556, \"#d8576b\"], [0.6666666666666666, \"#ed7953\"], [0.7777777777777778, \"#fb9f3a\"], [0.8888888888888888, \"#fdca26\"], [1.0, \"#f0f921\"]], \"sequentialminus\": [[0.0, \"#0d0887\"], [0.1111111111111111, \"#46039f\"], [0.2222222222222222, \"#7201a8\"], [0.3333333333333333, \"#9c179e\"], [0.4444444444444444, \"#bd3786\"], [0.5555555555555556, \"#d8576b\"], [0.6666666666666666, \"#ed7953\"], [0.7777777777777778, \"#fb9f3a\"], [0.8888888888888888, \"#fdca26\"], [1.0, \"#f0f921\"]]}, \"colorway\": [\"#636efa\", \"#EF553B\", \"#00cc96\", \"#ab63fa\", \"#FFA15A\", \"#19d3f3\", \"#FF6692\", \"#B6E880\", \"#FF97FF\", \"#FECB52\"], \"font\": {\"color\": \"#2a3f5f\"}, \"geo\": {\"bgcolor\": \"white\", \"lakecolor\": \"white\", \"landcolor\": \"#E5ECF6\", \"showlakes\": true, \"showland\": true, \"subunitcolor\": \"white\"}, \"hoverlabel\": {\"align\": \"left\"}, \"hovermode\": \"closest\", \"mapbox\": {\"style\": \"light\"}, \"paper_bgcolor\": \"white\", \"plot_bgcolor\": \"#E5ECF6\", \"polar\": {\"angularaxis\": {\"gridcolor\": \"white\", \"linecolor\": \"white\", \"ticks\": \"\"}, \"bgcolor\": \"#E5ECF6\", \"radialaxis\": {\"gridcolor\": \"white\", \"linecolor\": \"white\", \"ticks\": \"\"}}, \"scene\": {\"xaxis\": {\"backgroundcolor\": \"#E5ECF6\", \"gridcolor\": \"white\", \"gridwidth\": 2, \"linecolor\": \"white\", \"showbackground\": true, \"ticks\": \"\", \"zerolinecolor\": \"white\"}, \"yaxis\": {\"backgroundcolor\": \"#E5ECF6\", \"gridcolor\": \"white\", \"gridwidth\": 2, \"linecolor\": \"white\", \"showbackground\": true, \"ticks\": \"\", \"zerolinecolor\": \"white\"}, \"zaxis\": {\"backgroundcolor\": \"#E5ECF6\", \"gridcolor\": \"white\", \"gridwidth\": 2, \"linecolor\": \"white\", \"showbackground\": true, \"ticks\": \"\", \"zerolinecolor\": \"white\"}}, \"shapedefaults\": {\"line\": {\"color\": \"#2a3f5f\"}}, \"ternary\": {\"aaxis\": {\"gridcolor\": \"white\", \"linecolor\": \"white\", \"ticks\": \"\"}, \"baxis\": {\"gridcolor\": \"white\", \"linecolor\": \"white\", \"ticks\": \"\"}, \"bgcolor\": \"#E5ECF6\", \"caxis\": {\"gridcolor\": \"white\", \"linecolor\": \"white\", \"ticks\": \"\"}}, \"title\": {\"x\": 0.05}, \"xaxis\": {\"automargin\": true, \"gridcolor\": \"white\", \"linecolor\": \"white\", \"ticks\": \"\", \"title\": {\"standoff\": 15}, \"zerolinecolor\": \"white\", \"zerolinewidth\": 2}, \"yaxis\": {\"automargin\": true, \"gridcolor\": \"white\", \"linecolor\": \"white\", \"ticks\": \"\", \"title\": {\"standoff\": 15}, \"zerolinecolor\": \"white\", \"zerolinewidth\": 2}}}, \"xaxis\": {\"anchor\": \"y\", \"domain\": [0.0, 0.45]}, \"xaxis2\": {\"anchor\": \"y2\", \"domain\": [0.55, 1.0]}, \"xaxis3\": {\"anchor\": \"y3\", \"domain\": [0.0, 0.45]}, \"xaxis4\": {\"anchor\": \"y4\", \"domain\": [0.55, 1.0]}, \"yaxis\": {\"anchor\": \"x\", \"domain\": [0.625, 1.0]}, \"yaxis2\": {\"anchor\": \"x2\", \"domain\": [0.625, 1.0]}, \"yaxis3\": {\"anchor\": \"x3\", \"domain\": [0.0, 0.375]}, \"yaxis4\": {\"anchor\": \"x4\", \"domain\": [0.0, 0.375]}},\n",
              "                        {\"responsive\": true}\n",
              "                    ).then(function(){\n",
              "                            \n",
              "var gd = document.getElementById('319d33e6-4d1d-4434-b2ef-86a0388db404');\n",
              "var x = new MutationObserver(function (mutations, observer) {{\n",
              "        var display = window.getComputedStyle(gd).display;\n",
              "        if (!display || display === 'none') {{\n",
              "            console.log([gd, 'removed!']);\n",
              "            Plotly.purge(gd);\n",
              "            observer.disconnect();\n",
              "        }}\n",
              "}});\n",
              "\n",
              "// Listen for the removal of the full notebook cells\n",
              "var notebookContainer = gd.closest('#notebook-container');\n",
              "if (notebookContainer) {{\n",
              "    x.observe(notebookContainer, {childList: true});\n",
              "}}\n",
              "\n",
              "// Listen for the clearing of the current output cell\n",
              "var outputEl = gd.closest('.output');\n",
              "if (outputEl) {{\n",
              "    x.observe(outputEl, {childList: true});\n",
              "}}\n",
              "\n",
              "                        })\n",
              "                };\n",
              "                \n",
              "            </script>\n",
              "        </div>\n",
              "</body>\n",
              "</html>"
            ]
          },
          "metadata": {}
        }
      ]
    },
    {
      "cell_type": "code",
      "metadata": {
        "colab": {
          "base_uri": "https://localhost:8080/",
          "height": 542
        },
        "id": "7tAATBO2Bw34",
        "outputId": "f23324fe-3eb4-454b-b01c-15055afb5be2"
      },
      "source": [
        "fig = make_subplots(rows=2, cols=2, subplot_titles=['Total Cases', 'Deaths', 'Active', 'Discharged'])\n",
        "\n",
        "total_cases = go.Box(x=pd_df['Total_Cases'], name='Total Cases', text=pd_df['State_UTs'])\n",
        "deaths = go.Box(x=pd_df['Deaths'], name='Deaths', text=pd_df['State_UTs'])\n",
        "active = go.Box(x=pd_df['Active'], name='Active', text=pd_df['State_UTs'])\n",
        "discharged = go.Box(x=pd_df['Discharged'], name='Discharged', text=pd_df['State_UTs'])\n",
        "\n",
        "fig.add_trace(total_cases, 1, 1)\n",
        "fig.add_trace(deaths, 1, 2)\n",
        "fig.add_trace(active, 2, 1)\n",
        "fig.add_trace(discharged, 2, 2)\n",
        "\n",
        "fig.update_layout(showlegend=False)\n",
        "fig.show()"
      ],
      "execution_count": null,
      "outputs": [
        {
          "output_type": "display_data",
          "data": {
            "text/html": [
              "<html>\n",
              "<head><meta charset=\"utf-8\" /></head>\n",
              "<body>\n",
              "    <div>\n",
              "            <script src=\"https://cdnjs.cloudflare.com/ajax/libs/mathjax/2.7.5/MathJax.js?config=TeX-AMS-MML_SVG\"></script><script type=\"text/javascript\">if (window.MathJax) {MathJax.Hub.Config({SVG: {font: \"STIX-Web\"}});}</script>\n",
              "                <script type=\"text/javascript\">window.PlotlyConfig = {MathJaxConfig: 'local'};</script>\n",
              "        <script src=\"https://cdn.plot.ly/plotly-latest.min.js\"></script>    \n",
              "            <div id=\"dbf75423-b2a3-495f-81b0-264d728070b1\" class=\"plotly-graph-div\" style=\"height:525px; width:100%;\"></div>\n",
              "            <script type=\"text/javascript\">\n",
              "                \n",
              "                    window.PLOTLYENV=window.PLOTLYENV || {};\n",
              "                    \n",
              "                if (document.getElementById(\"dbf75423-b2a3-495f-81b0-264d728070b1\")) {\n",
              "                    Plotly.newPlot(\n",
              "                        'dbf75423-b2a3-495f-81b0-264d728070b1',\n",
              "                        [{\"name\": \"Total Cases\", \"text\": [\"Andaman and Nicobar\", \"Andhra Pradesh\", \"Arunachal Pradesh\", \"Assam\", \"Bihar\", \"Chandigarh\", \"Chhattisgarh\", \"Dadra and Nagar Haveli and Daman and Diu\", \"Delhi\", \"Goa\", \"Gujarat\", \"Haryana\", \"Himachal Pradesh\", \"Jammu and Kashmir\", \"Jharkhand\", \"Karnataka\", \"Kerala\", \"Ladakh\", \"Lakshadweep\", \"Madhya Pradesh\", \"Maharashtra\", \"Manipur\", \"Meghalaya\", \"Mizoram\", \"Nagaland\", \"Odisha\", \"Puducherry\", \"Punjab\", \"Rajasthan\", \"Sikkim\", \"Tamil Nadu\", \"Telengana\", \"Tripura\", \"Uttar Pradesh\", \"Uttarakhand\", \"West Bengal\"], \"type\": \"box\", \"x\": [7549, 1995669, 51655, 581398, 725518, 62035, 1003870, 10657, 1437156, 172683, 825213, 770245, 210719, 323582, 347635, 2931827, 3724030, 20466, 10295, 792054, 6401213, 108948, 72412, 49950, 29274, 996153, 122391, 600008, 953960, 28830, 2592436, 653202, 81584, 1708991, 342637, 1539612], \"xaxis\": \"x\", \"yaxis\": \"y\"}, {\"name\": \"Deaths\", \"text\": [\"Andaman and Nicobar\", \"Andhra Pradesh\", \"Arunachal Pradesh\", \"Assam\", \"Bihar\", \"Chandigarh\", \"Chhattisgarh\", \"Dadra and Nagar Haveli and Daman and Diu\", \"Delhi\", \"Goa\", \"Gujarat\", \"Haryana\", \"Himachal Pradesh\", \"Jammu and Kashmir\", \"Jharkhand\", \"Karnataka\", \"Kerala\", \"Ladakh\", \"Lakshadweep\", \"Madhya Pradesh\", \"Maharashtra\", \"Manipur\", \"Meghalaya\", \"Mizoram\", \"Nagaland\", \"Odisha\", \"Puducherry\", \"Punjab\", \"Rajasthan\", \"Sikkim\", \"Tamil Nadu\", \"Telengana\", \"Tripura\", \"Uttar Pradesh\", \"Uttarakhand\", \"West Bengal\"], \"type\": \"box\", \"x\": [129, 13671, 252, 5513, 9649, 811, 13549, 4, 25073, 3177, 10078, 9661, 3557, 4399, 5132, 37039, 18870, 207, 51, 10515, 135255, 1722, 1240, 185, 607, 7021, 1805, 16345, 8954, 363, 34579, 3847, 782, 22786, 7373, 18318], \"xaxis\": \"x2\", \"yaxis\": \"y2\"}, {\"name\": \"Active\", \"text\": [\"Andaman and Nicobar\", \"Andhra Pradesh\", \"Arunachal Pradesh\", \"Assam\", \"Bihar\", \"Chandigarh\", \"Chhattisgarh\", \"Dadra and Nagar Haveli and Daman and Diu\", \"Delhi\", \"Goa\", \"Gujarat\", \"Haryana\", \"Himachal Pradesh\", \"Jammu and Kashmir\", \"Jharkhand\", \"Karnataka\", \"Kerala\", \"Ladakh\", \"Lakshadweep\", \"Madhya Pradesh\", \"Maharashtra\", \"Manipur\", \"Meghalaya\", \"Mizoram\", \"Nagaland\", \"Odisha\", \"Puducherry\", \"Punjab\", \"Rajasthan\", \"Sikkim\", \"Tamil Nadu\", \"Telengana\", \"Tripura\", \"Uttar Pradesh\", \"Uttarakhand\", \"West Bengal\"], \"type\": \"box\", \"x\": [1, 16341, 1763, 8772, 204, 42, 1037, 4, 471, 884, 179, 660, 2705, 1158, 217, 21507, 175695, 81, 34, 95, 64790, 5721, 3591, 9084, 1088, 8661, 856, 543, 163, 1982, 20225, 6939, 1436, 420, 330, 9736], \"xaxis\": \"x3\", \"yaxis\": \"y3\"}, {\"name\": \"Discharged\", \"text\": [\"Andaman and Nicobar\", \"Andhra Pradesh\", \"Arunachal Pradesh\", \"Assam\", \"Bihar\", \"Chandigarh\", \"Chhattisgarh\", \"Dadra and Nagar Haveli and Daman and Diu\", \"Delhi\", \"Goa\", \"Gujarat\", \"Haryana\", \"Himachal Pradesh\", \"Jammu and Kashmir\", \"Jharkhand\", \"Karnataka\", \"Kerala\", \"Ladakh\", \"Lakshadweep\", \"Madhya Pradesh\", \"Maharashtra\", \"Manipur\", \"Meghalaya\", \"Mizoram\", \"Nagaland\", \"Odisha\", \"Puducherry\", \"Punjab\", \"Rajasthan\", \"Sikkim\", \"Tamil Nadu\", \"Telengana\", \"Tripura\", \"Uttar Pradesh\", \"Uttarakhand\", \"West Bengal\"], \"type\": \"box\", \"x\": [7419, 1965657, 49640, 567113, 715665, 61182, 989284, 10649, 1411612, 168622, 814956, 759924, 204457, 318025, 342286, 2873281, 3529465, 20178, 10210, 781444, 6201168, 101505, 67581, 40681, 27579, 980471, 119730, 583120, 944843, 26485, 2537632, 642416, 79366, 1685785, 334934, 1511558], \"xaxis\": \"x4\", \"yaxis\": \"y4\"}],\n",
              "                        {\"annotations\": [{\"font\": {\"size\": 16}, \"showarrow\": false, \"text\": \"Total Cases\", \"x\": 0.225, \"xanchor\": \"center\", \"xref\": \"paper\", \"y\": 1.0, \"yanchor\": \"bottom\", \"yref\": \"paper\"}, {\"font\": {\"size\": 16}, \"showarrow\": false, \"text\": \"Deaths\", \"x\": 0.775, \"xanchor\": \"center\", \"xref\": \"paper\", \"y\": 1.0, \"yanchor\": \"bottom\", \"yref\": \"paper\"}, {\"font\": {\"size\": 16}, \"showarrow\": false, \"text\": \"Active\", \"x\": 0.225, \"xanchor\": \"center\", \"xref\": \"paper\", \"y\": 0.375, \"yanchor\": \"bottom\", \"yref\": \"paper\"}, {\"font\": {\"size\": 16}, \"showarrow\": false, \"text\": \"Discharged\", \"x\": 0.775, \"xanchor\": \"center\", \"xref\": \"paper\", \"y\": 0.375, \"yanchor\": \"bottom\", \"yref\": \"paper\"}], \"showlegend\": false, \"template\": {\"data\": {\"bar\": [{\"error_x\": {\"color\": \"#2a3f5f\"}, \"error_y\": {\"color\": \"#2a3f5f\"}, \"marker\": {\"line\": {\"color\": \"#E5ECF6\", \"width\": 0.5}}, \"type\": \"bar\"}], \"barpolar\": [{\"marker\": {\"line\": {\"color\": \"#E5ECF6\", \"width\": 0.5}}, \"type\": \"barpolar\"}], \"carpet\": [{\"aaxis\": {\"endlinecolor\": \"#2a3f5f\", \"gridcolor\": \"white\", \"linecolor\": \"white\", \"minorgridcolor\": \"white\", \"startlinecolor\": \"#2a3f5f\"}, \"baxis\": {\"endlinecolor\": \"#2a3f5f\", \"gridcolor\": \"white\", \"linecolor\": \"white\", \"minorgridcolor\": \"white\", \"startlinecolor\": \"#2a3f5f\"}, \"type\": \"carpet\"}], \"choropleth\": [{\"colorbar\": {\"outlinewidth\": 0, \"ticks\": \"\"}, \"type\": \"choropleth\"}], \"contour\": [{\"colorbar\": {\"outlinewidth\": 0, \"ticks\": \"\"}, \"colorscale\": [[0.0, \"#0d0887\"], [0.1111111111111111, \"#46039f\"], [0.2222222222222222, \"#7201a8\"], [0.3333333333333333, \"#9c179e\"], [0.4444444444444444, \"#bd3786\"], [0.5555555555555556, \"#d8576b\"], [0.6666666666666666, \"#ed7953\"], [0.7777777777777778, \"#fb9f3a\"], [0.8888888888888888, \"#fdca26\"], [1.0, \"#f0f921\"]], \"type\": \"contour\"}], \"contourcarpet\": [{\"colorbar\": {\"outlinewidth\": 0, \"ticks\": \"\"}, \"type\": \"contourcarpet\"}], \"heatmap\": [{\"colorbar\": {\"outlinewidth\": 0, \"ticks\": \"\"}, \"colorscale\": [[0.0, \"#0d0887\"], [0.1111111111111111, \"#46039f\"], [0.2222222222222222, \"#7201a8\"], [0.3333333333333333, \"#9c179e\"], [0.4444444444444444, \"#bd3786\"], [0.5555555555555556, \"#d8576b\"], [0.6666666666666666, \"#ed7953\"], [0.7777777777777778, \"#fb9f3a\"], [0.8888888888888888, \"#fdca26\"], [1.0, \"#f0f921\"]], \"type\": \"heatmap\"}], \"heatmapgl\": [{\"colorbar\": {\"outlinewidth\": 0, \"ticks\": \"\"}, \"colorscale\": [[0.0, \"#0d0887\"], [0.1111111111111111, \"#46039f\"], [0.2222222222222222, \"#7201a8\"], [0.3333333333333333, \"#9c179e\"], [0.4444444444444444, \"#bd3786\"], [0.5555555555555556, \"#d8576b\"], [0.6666666666666666, \"#ed7953\"], [0.7777777777777778, \"#fb9f3a\"], [0.8888888888888888, \"#fdca26\"], [1.0, \"#f0f921\"]], \"type\": \"heatmapgl\"}], \"histogram\": [{\"marker\": {\"colorbar\": {\"outlinewidth\": 0, \"ticks\": \"\"}}, \"type\": \"histogram\"}], \"histogram2d\": [{\"colorbar\": {\"outlinewidth\": 0, \"ticks\": \"\"}, \"colorscale\": [[0.0, \"#0d0887\"], [0.1111111111111111, \"#46039f\"], [0.2222222222222222, \"#7201a8\"], [0.3333333333333333, \"#9c179e\"], [0.4444444444444444, \"#bd3786\"], [0.5555555555555556, \"#d8576b\"], [0.6666666666666666, \"#ed7953\"], [0.7777777777777778, \"#fb9f3a\"], [0.8888888888888888, \"#fdca26\"], [1.0, \"#f0f921\"]], \"type\": \"histogram2d\"}], \"histogram2dcontour\": [{\"colorbar\": {\"outlinewidth\": 0, \"ticks\": \"\"}, \"colorscale\": [[0.0, \"#0d0887\"], [0.1111111111111111, \"#46039f\"], [0.2222222222222222, \"#7201a8\"], [0.3333333333333333, \"#9c179e\"], [0.4444444444444444, \"#bd3786\"], [0.5555555555555556, \"#d8576b\"], [0.6666666666666666, \"#ed7953\"], [0.7777777777777778, \"#fb9f3a\"], [0.8888888888888888, \"#fdca26\"], [1.0, \"#f0f921\"]], \"type\": \"histogram2dcontour\"}], \"mesh3d\": [{\"colorbar\": {\"outlinewidth\": 0, \"ticks\": \"\"}, \"type\": \"mesh3d\"}], \"parcoords\": [{\"line\": {\"colorbar\": {\"outlinewidth\": 0, \"ticks\": \"\"}}, \"type\": \"parcoords\"}], \"pie\": [{\"automargin\": true, \"type\": \"pie\"}], \"scatter\": [{\"marker\": {\"colorbar\": {\"outlinewidth\": 0, \"ticks\": \"\"}}, \"type\": \"scatter\"}], \"scatter3d\": [{\"line\": {\"colorbar\": {\"outlinewidth\": 0, \"ticks\": \"\"}}, \"marker\": {\"colorbar\": {\"outlinewidth\": 0, \"ticks\": \"\"}}, \"type\": \"scatter3d\"}], \"scattercarpet\": [{\"marker\": {\"colorbar\": {\"outlinewidth\": 0, \"ticks\": \"\"}}, \"type\": \"scattercarpet\"}], \"scattergeo\": [{\"marker\": {\"colorbar\": {\"outlinewidth\": 0, \"ticks\": \"\"}}, \"type\": \"scattergeo\"}], \"scattergl\": [{\"marker\": {\"colorbar\": {\"outlinewidth\": 0, \"ticks\": \"\"}}, \"type\": \"scattergl\"}], \"scattermapbox\": [{\"marker\": {\"colorbar\": {\"outlinewidth\": 0, \"ticks\": \"\"}}, \"type\": \"scattermapbox\"}], \"scatterpolar\": [{\"marker\": {\"colorbar\": {\"outlinewidth\": 0, \"ticks\": \"\"}}, \"type\": \"scatterpolar\"}], \"scatterpolargl\": [{\"marker\": {\"colorbar\": {\"outlinewidth\": 0, \"ticks\": \"\"}}, \"type\": \"scatterpolargl\"}], \"scatterternary\": [{\"marker\": {\"colorbar\": {\"outlinewidth\": 0, \"ticks\": \"\"}}, \"type\": \"scatterternary\"}], \"surface\": [{\"colorbar\": {\"outlinewidth\": 0, \"ticks\": \"\"}, \"colorscale\": [[0.0, \"#0d0887\"], [0.1111111111111111, \"#46039f\"], [0.2222222222222222, \"#7201a8\"], [0.3333333333333333, \"#9c179e\"], [0.4444444444444444, \"#bd3786\"], [0.5555555555555556, \"#d8576b\"], [0.6666666666666666, \"#ed7953\"], [0.7777777777777778, \"#fb9f3a\"], [0.8888888888888888, \"#fdca26\"], [1.0, \"#f0f921\"]], \"type\": \"surface\"}], \"table\": [{\"cells\": {\"fill\": {\"color\": \"#EBF0F8\"}, \"line\": {\"color\": \"white\"}}, \"header\": {\"fill\": {\"color\": \"#C8D4E3\"}, \"line\": {\"color\": \"white\"}}, \"type\": \"table\"}]}, \"layout\": {\"annotationdefaults\": {\"arrowcolor\": \"#2a3f5f\", \"arrowhead\": 0, \"arrowwidth\": 1}, \"coloraxis\": {\"colorbar\": {\"outlinewidth\": 0, \"ticks\": \"\"}}, \"colorscale\": {\"diverging\": [[0, \"#8e0152\"], [0.1, \"#c51b7d\"], [0.2, \"#de77ae\"], [0.3, \"#f1b6da\"], [0.4, \"#fde0ef\"], [0.5, \"#f7f7f7\"], [0.6, \"#e6f5d0\"], [0.7, \"#b8e186\"], [0.8, \"#7fbc41\"], [0.9, \"#4d9221\"], [1, \"#276419\"]], \"sequential\": [[0.0, \"#0d0887\"], [0.1111111111111111, \"#46039f\"], [0.2222222222222222, \"#7201a8\"], [0.3333333333333333, \"#9c179e\"], [0.4444444444444444, \"#bd3786\"], [0.5555555555555556, \"#d8576b\"], [0.6666666666666666, \"#ed7953\"], [0.7777777777777778, \"#fb9f3a\"], [0.8888888888888888, \"#fdca26\"], [1.0, \"#f0f921\"]], \"sequentialminus\": [[0.0, \"#0d0887\"], [0.1111111111111111, \"#46039f\"], [0.2222222222222222, \"#7201a8\"], [0.3333333333333333, \"#9c179e\"], [0.4444444444444444, \"#bd3786\"], [0.5555555555555556, \"#d8576b\"], [0.6666666666666666, \"#ed7953\"], [0.7777777777777778, \"#fb9f3a\"], [0.8888888888888888, \"#fdca26\"], [1.0, \"#f0f921\"]]}, \"colorway\": [\"#636efa\", \"#EF553B\", \"#00cc96\", \"#ab63fa\", \"#FFA15A\", \"#19d3f3\", \"#FF6692\", \"#B6E880\", \"#FF97FF\", \"#FECB52\"], \"font\": {\"color\": \"#2a3f5f\"}, \"geo\": {\"bgcolor\": \"white\", \"lakecolor\": \"white\", \"landcolor\": \"#E5ECF6\", \"showlakes\": true, \"showland\": true, \"subunitcolor\": \"white\"}, \"hoverlabel\": {\"align\": \"left\"}, \"hovermode\": \"closest\", \"mapbox\": {\"style\": \"light\"}, \"paper_bgcolor\": \"white\", \"plot_bgcolor\": \"#E5ECF6\", \"polar\": {\"angularaxis\": {\"gridcolor\": \"white\", \"linecolor\": \"white\", \"ticks\": \"\"}, \"bgcolor\": \"#E5ECF6\", \"radialaxis\": {\"gridcolor\": \"white\", \"linecolor\": \"white\", \"ticks\": \"\"}}, \"scene\": {\"xaxis\": {\"backgroundcolor\": \"#E5ECF6\", \"gridcolor\": \"white\", \"gridwidth\": 2, \"linecolor\": \"white\", \"showbackground\": true, \"ticks\": \"\", \"zerolinecolor\": \"white\"}, \"yaxis\": {\"backgroundcolor\": \"#E5ECF6\", \"gridcolor\": \"white\", \"gridwidth\": 2, \"linecolor\": \"white\", \"showbackground\": true, \"ticks\": \"\", \"zerolinecolor\": \"white\"}, \"zaxis\": {\"backgroundcolor\": \"#E5ECF6\", \"gridcolor\": \"white\", \"gridwidth\": 2, \"linecolor\": \"white\", \"showbackground\": true, \"ticks\": \"\", \"zerolinecolor\": \"white\"}}, \"shapedefaults\": {\"line\": {\"color\": \"#2a3f5f\"}}, \"ternary\": {\"aaxis\": {\"gridcolor\": \"white\", \"linecolor\": \"white\", \"ticks\": \"\"}, \"baxis\": {\"gridcolor\": \"white\", \"linecolor\": \"white\", \"ticks\": \"\"}, \"bgcolor\": \"#E5ECF6\", \"caxis\": {\"gridcolor\": \"white\", \"linecolor\": \"white\", \"ticks\": \"\"}}, \"title\": {\"x\": 0.05}, \"xaxis\": {\"automargin\": true, \"gridcolor\": \"white\", \"linecolor\": \"white\", \"ticks\": \"\", \"title\": {\"standoff\": 15}, \"zerolinecolor\": \"white\", \"zerolinewidth\": 2}, \"yaxis\": {\"automargin\": true, \"gridcolor\": \"white\", \"linecolor\": \"white\", \"ticks\": \"\", \"title\": {\"standoff\": 15}, \"zerolinecolor\": \"white\", \"zerolinewidth\": 2}}}, \"xaxis\": {\"anchor\": \"y\", \"domain\": [0.0, 0.45]}, \"xaxis2\": {\"anchor\": \"y2\", \"domain\": [0.55, 1.0]}, \"xaxis3\": {\"anchor\": \"y3\", \"domain\": [0.0, 0.45]}, \"xaxis4\": {\"anchor\": \"y4\", \"domain\": [0.55, 1.0]}, \"yaxis\": {\"anchor\": \"x\", \"domain\": [0.625, 1.0]}, \"yaxis2\": {\"anchor\": \"x2\", \"domain\": [0.625, 1.0]}, \"yaxis3\": {\"anchor\": \"x3\", \"domain\": [0.0, 0.375]}, \"yaxis4\": {\"anchor\": \"x4\", \"domain\": [0.0, 0.375]}},\n",
              "                        {\"responsive\": true}\n",
              "                    ).then(function(){\n",
              "                            \n",
              "var gd = document.getElementById('dbf75423-b2a3-495f-81b0-264d728070b1');\n",
              "var x = new MutationObserver(function (mutations, observer) {{\n",
              "        var display = window.getComputedStyle(gd).display;\n",
              "        if (!display || display === 'none') {{\n",
              "            console.log([gd, 'removed!']);\n",
              "            Plotly.purge(gd);\n",
              "            observer.disconnect();\n",
              "        }}\n",
              "}});\n",
              "\n",
              "// Listen for the removal of the full notebook cells\n",
              "var notebookContainer = gd.closest('#notebook-container');\n",
              "if (notebookContainer) {{\n",
              "    x.observe(notebookContainer, {childList: true});\n",
              "}}\n",
              "\n",
              "// Listen for the clearing of the current output cell\n",
              "var outputEl = gd.closest('.output');\n",
              "if (outputEl) {{\n",
              "    x.observe(outputEl, {childList: true});\n",
              "}}\n",
              "\n",
              "                        })\n",
              "                };\n",
              "                \n",
              "            </script>\n",
              "        </div>\n",
              "</body>\n",
              "</html>"
            ]
          },
          "metadata": {}
        }
      ]
    },
    {
      "cell_type": "code",
      "metadata": {
        "colab": {
          "base_uri": "https://localhost:8080/",
          "height": 542
        },
        "id": "OBP2zeVLCxM-",
        "outputId": "2844f954-7f70-41b6-d67c-7cfdec553ff3"
      },
      "source": [
        "fig = make_subplots(rows=2, cols=2, subplot_titles=['Total Cases', 'Deaths', 'Active', 'Discharged'])\n",
        "\n",
        "total_cases = go.Bar(y=pd_df['Total_Cases'], name='Total Cases', hovertext=pd_df['State_UTs'])\n",
        "deaths = go.Bar(y=pd_df['Deaths'], name='Deaths', hovertext=pd_df['State_UTs'])\n",
        "active = go.Bar(y=pd_df['Active'], name='Active', hovertext=pd_df['State_UTs'])\n",
        "discharged = go.Bar(y=pd_df['Discharged'], name='Discharged', hovertext=pd_df['State_UTs'])\n",
        "\n",
        "fig.add_trace(total_cases, 1, 1)\n",
        "fig.add_trace(deaths, 1, 2)\n",
        "fig.add_trace(active, 2, 1)\n",
        "fig.add_trace(discharged, 2, 2)\n",
        "\n",
        "fig.update_layout(showlegend=False)\n",
        "fig.show()"
      ],
      "execution_count": null,
      "outputs": [
        {
          "output_type": "display_data",
          "data": {
            "text/html": [
              "<html>\n",
              "<head><meta charset=\"utf-8\" /></head>\n",
              "<body>\n",
              "    <div>\n",
              "            <script src=\"https://cdnjs.cloudflare.com/ajax/libs/mathjax/2.7.5/MathJax.js?config=TeX-AMS-MML_SVG\"></script><script type=\"text/javascript\">if (window.MathJax) {MathJax.Hub.Config({SVG: {font: \"STIX-Web\"}});}</script>\n",
              "                <script type=\"text/javascript\">window.PlotlyConfig = {MathJaxConfig: 'local'};</script>\n",
              "        <script src=\"https://cdn.plot.ly/plotly-latest.min.js\"></script>    \n",
              "            <div id=\"77413c57-a458-4b05-b20d-a3ef99c06479\" class=\"plotly-graph-div\" style=\"height:525px; width:100%;\"></div>\n",
              "            <script type=\"text/javascript\">\n",
              "                \n",
              "                    window.PLOTLYENV=window.PLOTLYENV || {};\n",
              "                    \n",
              "                if (document.getElementById(\"77413c57-a458-4b05-b20d-a3ef99c06479\")) {\n",
              "                    Plotly.newPlot(\n",
              "                        '77413c57-a458-4b05-b20d-a3ef99c06479',\n",
              "                        [{\"hovertext\": [\"Andaman and Nicobar\", \"Andhra Pradesh\", \"Arunachal Pradesh\", \"Assam\", \"Bihar\", \"Chandigarh\", \"Chhattisgarh\", \"Dadra and Nagar Haveli and Daman and Diu\", \"Delhi\", \"Goa\", \"Gujarat\", \"Haryana\", \"Himachal Pradesh\", \"Jammu and Kashmir\", \"Jharkhand\", \"Karnataka\", \"Kerala\", \"Ladakh\", \"Lakshadweep\", \"Madhya Pradesh\", \"Maharashtra\", \"Manipur\", \"Meghalaya\", \"Mizoram\", \"Nagaland\", \"Odisha\", \"Puducherry\", \"Punjab\", \"Rajasthan\", \"Sikkim\", \"Tamil Nadu\", \"Telengana\", \"Tripura\", \"Uttar Pradesh\", \"Uttarakhand\", \"West Bengal\"], \"name\": \"Total Cases\", \"type\": \"bar\", \"xaxis\": \"x\", \"y\": [7549, 1995669, 51655, 581398, 725518, 62035, 1003870, 10657, 1437156, 172683, 825213, 770245, 210719, 323582, 347635, 2931827, 3724030, 20466, 10295, 792054, 6401213, 108948, 72412, 49950, 29274, 996153, 122391, 600008, 953960, 28830, 2592436, 653202, 81584, 1708991, 342637, 1539612], \"yaxis\": \"y\"}, {\"hovertext\": [\"Andaman and Nicobar\", \"Andhra Pradesh\", \"Arunachal Pradesh\", \"Assam\", \"Bihar\", \"Chandigarh\", \"Chhattisgarh\", \"Dadra and Nagar Haveli and Daman and Diu\", \"Delhi\", \"Goa\", \"Gujarat\", \"Haryana\", \"Himachal Pradesh\", \"Jammu and Kashmir\", \"Jharkhand\", \"Karnataka\", \"Kerala\", \"Ladakh\", \"Lakshadweep\", \"Madhya Pradesh\", \"Maharashtra\", \"Manipur\", \"Meghalaya\", \"Mizoram\", \"Nagaland\", \"Odisha\", \"Puducherry\", \"Punjab\", \"Rajasthan\", \"Sikkim\", \"Tamil Nadu\", \"Telengana\", \"Tripura\", \"Uttar Pradesh\", \"Uttarakhand\", \"West Bengal\"], \"name\": \"Deaths\", \"type\": \"bar\", \"xaxis\": \"x2\", \"y\": [129, 13671, 252, 5513, 9649, 811, 13549, 4, 25073, 3177, 10078, 9661, 3557, 4399, 5132, 37039, 18870, 207, 51, 10515, 135255, 1722, 1240, 185, 607, 7021, 1805, 16345, 8954, 363, 34579, 3847, 782, 22786, 7373, 18318], \"yaxis\": \"y2\"}, {\"hovertext\": [\"Andaman and Nicobar\", \"Andhra Pradesh\", \"Arunachal Pradesh\", \"Assam\", \"Bihar\", \"Chandigarh\", \"Chhattisgarh\", \"Dadra and Nagar Haveli and Daman and Diu\", \"Delhi\", \"Goa\", \"Gujarat\", \"Haryana\", \"Himachal Pradesh\", \"Jammu and Kashmir\", \"Jharkhand\", \"Karnataka\", \"Kerala\", \"Ladakh\", \"Lakshadweep\", \"Madhya Pradesh\", \"Maharashtra\", \"Manipur\", \"Meghalaya\", \"Mizoram\", \"Nagaland\", \"Odisha\", \"Puducherry\", \"Punjab\", \"Rajasthan\", \"Sikkim\", \"Tamil Nadu\", \"Telengana\", \"Tripura\", \"Uttar Pradesh\", \"Uttarakhand\", \"West Bengal\"], \"name\": \"Active\", \"type\": \"bar\", \"xaxis\": \"x3\", \"y\": [1, 16341, 1763, 8772, 204, 42, 1037, 4, 471, 884, 179, 660, 2705, 1158, 217, 21507, 175695, 81, 34, 95, 64790, 5721, 3591, 9084, 1088, 8661, 856, 543, 163, 1982, 20225, 6939, 1436, 420, 330, 9736], \"yaxis\": \"y3\"}, {\"hovertext\": [\"Andaman and Nicobar\", \"Andhra Pradesh\", \"Arunachal Pradesh\", \"Assam\", \"Bihar\", \"Chandigarh\", \"Chhattisgarh\", \"Dadra and Nagar Haveli and Daman and Diu\", \"Delhi\", \"Goa\", \"Gujarat\", \"Haryana\", \"Himachal Pradesh\", \"Jammu and Kashmir\", \"Jharkhand\", \"Karnataka\", \"Kerala\", \"Ladakh\", \"Lakshadweep\", \"Madhya Pradesh\", \"Maharashtra\", \"Manipur\", \"Meghalaya\", \"Mizoram\", \"Nagaland\", \"Odisha\", \"Puducherry\", \"Punjab\", \"Rajasthan\", \"Sikkim\", \"Tamil Nadu\", \"Telengana\", \"Tripura\", \"Uttar Pradesh\", \"Uttarakhand\", \"West Bengal\"], \"name\": \"Discharged\", \"type\": \"bar\", \"xaxis\": \"x4\", \"y\": [7419, 1965657, 49640, 567113, 715665, 61182, 989284, 10649, 1411612, 168622, 814956, 759924, 204457, 318025, 342286, 2873281, 3529465, 20178, 10210, 781444, 6201168, 101505, 67581, 40681, 27579, 980471, 119730, 583120, 944843, 26485, 2537632, 642416, 79366, 1685785, 334934, 1511558], \"yaxis\": \"y4\"}],\n",
              "                        {\"annotations\": [{\"font\": {\"size\": 16}, \"showarrow\": false, \"text\": \"Total Cases\", \"x\": 0.225, \"xanchor\": \"center\", \"xref\": \"paper\", \"y\": 1.0, \"yanchor\": \"bottom\", \"yref\": \"paper\"}, {\"font\": {\"size\": 16}, \"showarrow\": false, \"text\": \"Deaths\", \"x\": 0.775, \"xanchor\": \"center\", \"xref\": \"paper\", \"y\": 1.0, \"yanchor\": \"bottom\", \"yref\": \"paper\"}, {\"font\": {\"size\": 16}, \"showarrow\": false, \"text\": \"Active\", \"x\": 0.225, \"xanchor\": \"center\", \"xref\": \"paper\", \"y\": 0.375, \"yanchor\": \"bottom\", \"yref\": \"paper\"}, {\"font\": {\"size\": 16}, \"showarrow\": false, \"text\": \"Discharged\", \"x\": 0.775, \"xanchor\": \"center\", \"xref\": \"paper\", \"y\": 0.375, \"yanchor\": \"bottom\", \"yref\": \"paper\"}], \"showlegend\": false, \"template\": {\"data\": {\"bar\": [{\"error_x\": {\"color\": \"#2a3f5f\"}, \"error_y\": {\"color\": \"#2a3f5f\"}, \"marker\": {\"line\": {\"color\": \"#E5ECF6\", \"width\": 0.5}}, \"type\": \"bar\"}], \"barpolar\": [{\"marker\": {\"line\": {\"color\": \"#E5ECF6\", \"width\": 0.5}}, \"type\": \"barpolar\"}], \"carpet\": [{\"aaxis\": {\"endlinecolor\": \"#2a3f5f\", \"gridcolor\": \"white\", \"linecolor\": \"white\", \"minorgridcolor\": \"white\", \"startlinecolor\": \"#2a3f5f\"}, \"baxis\": {\"endlinecolor\": \"#2a3f5f\", \"gridcolor\": \"white\", \"linecolor\": \"white\", \"minorgridcolor\": \"white\", \"startlinecolor\": \"#2a3f5f\"}, \"type\": \"carpet\"}], \"choropleth\": [{\"colorbar\": {\"outlinewidth\": 0, \"ticks\": \"\"}, \"type\": \"choropleth\"}], \"contour\": [{\"colorbar\": {\"outlinewidth\": 0, \"ticks\": \"\"}, \"colorscale\": [[0.0, \"#0d0887\"], [0.1111111111111111, \"#46039f\"], [0.2222222222222222, \"#7201a8\"], [0.3333333333333333, \"#9c179e\"], [0.4444444444444444, \"#bd3786\"], [0.5555555555555556, \"#d8576b\"], [0.6666666666666666, \"#ed7953\"], [0.7777777777777778, \"#fb9f3a\"], [0.8888888888888888, \"#fdca26\"], [1.0, \"#f0f921\"]], \"type\": \"contour\"}], \"contourcarpet\": [{\"colorbar\": {\"outlinewidth\": 0, \"ticks\": \"\"}, \"type\": \"contourcarpet\"}], \"heatmap\": [{\"colorbar\": {\"outlinewidth\": 0, \"ticks\": \"\"}, \"colorscale\": [[0.0, \"#0d0887\"], [0.1111111111111111, \"#46039f\"], [0.2222222222222222, \"#7201a8\"], [0.3333333333333333, \"#9c179e\"], [0.4444444444444444, \"#bd3786\"], [0.5555555555555556, \"#d8576b\"], [0.6666666666666666, \"#ed7953\"], [0.7777777777777778, \"#fb9f3a\"], [0.8888888888888888, \"#fdca26\"], [1.0, \"#f0f921\"]], \"type\": \"heatmap\"}], \"heatmapgl\": [{\"colorbar\": {\"outlinewidth\": 0, \"ticks\": \"\"}, \"colorscale\": [[0.0, \"#0d0887\"], [0.1111111111111111, \"#46039f\"], [0.2222222222222222, \"#7201a8\"], [0.3333333333333333, \"#9c179e\"], [0.4444444444444444, \"#bd3786\"], [0.5555555555555556, \"#d8576b\"], [0.6666666666666666, \"#ed7953\"], [0.7777777777777778, \"#fb9f3a\"], [0.8888888888888888, \"#fdca26\"], [1.0, \"#f0f921\"]], \"type\": \"heatmapgl\"}], \"histogram\": [{\"marker\": {\"colorbar\": {\"outlinewidth\": 0, \"ticks\": \"\"}}, \"type\": \"histogram\"}], \"histogram2d\": [{\"colorbar\": {\"outlinewidth\": 0, \"ticks\": \"\"}, \"colorscale\": [[0.0, \"#0d0887\"], [0.1111111111111111, \"#46039f\"], [0.2222222222222222, \"#7201a8\"], [0.3333333333333333, \"#9c179e\"], [0.4444444444444444, \"#bd3786\"], [0.5555555555555556, \"#d8576b\"], [0.6666666666666666, \"#ed7953\"], [0.7777777777777778, \"#fb9f3a\"], [0.8888888888888888, \"#fdca26\"], [1.0, \"#f0f921\"]], \"type\": \"histogram2d\"}], \"histogram2dcontour\": [{\"colorbar\": {\"outlinewidth\": 0, \"ticks\": \"\"}, \"colorscale\": [[0.0, \"#0d0887\"], [0.1111111111111111, \"#46039f\"], [0.2222222222222222, \"#7201a8\"], [0.3333333333333333, \"#9c179e\"], [0.4444444444444444, \"#bd3786\"], [0.5555555555555556, \"#d8576b\"], [0.6666666666666666, \"#ed7953\"], [0.7777777777777778, \"#fb9f3a\"], [0.8888888888888888, \"#fdca26\"], [1.0, \"#f0f921\"]], \"type\": \"histogram2dcontour\"}], \"mesh3d\": [{\"colorbar\": {\"outlinewidth\": 0, \"ticks\": \"\"}, \"type\": \"mesh3d\"}], \"parcoords\": [{\"line\": {\"colorbar\": {\"outlinewidth\": 0, \"ticks\": \"\"}}, \"type\": \"parcoords\"}], \"pie\": [{\"automargin\": true, \"type\": \"pie\"}], \"scatter\": [{\"marker\": {\"colorbar\": {\"outlinewidth\": 0, \"ticks\": \"\"}}, \"type\": \"scatter\"}], \"scatter3d\": [{\"line\": {\"colorbar\": {\"outlinewidth\": 0, \"ticks\": \"\"}}, \"marker\": {\"colorbar\": {\"outlinewidth\": 0, \"ticks\": \"\"}}, \"type\": \"scatter3d\"}], \"scattercarpet\": [{\"marker\": {\"colorbar\": {\"outlinewidth\": 0, \"ticks\": \"\"}}, \"type\": \"scattercarpet\"}], \"scattergeo\": [{\"marker\": {\"colorbar\": {\"outlinewidth\": 0, \"ticks\": \"\"}}, \"type\": \"scattergeo\"}], \"scattergl\": [{\"marker\": {\"colorbar\": {\"outlinewidth\": 0, \"ticks\": \"\"}}, \"type\": \"scattergl\"}], \"scattermapbox\": [{\"marker\": {\"colorbar\": {\"outlinewidth\": 0, \"ticks\": \"\"}}, \"type\": \"scattermapbox\"}], \"scatterpolar\": [{\"marker\": {\"colorbar\": {\"outlinewidth\": 0, \"ticks\": \"\"}}, \"type\": \"scatterpolar\"}], \"scatterpolargl\": [{\"marker\": {\"colorbar\": {\"outlinewidth\": 0, \"ticks\": \"\"}}, \"type\": \"scatterpolargl\"}], \"scatterternary\": [{\"marker\": {\"colorbar\": {\"outlinewidth\": 0, \"ticks\": \"\"}}, \"type\": \"scatterternary\"}], \"surface\": [{\"colorbar\": {\"outlinewidth\": 0, \"ticks\": \"\"}, \"colorscale\": [[0.0, \"#0d0887\"], [0.1111111111111111, \"#46039f\"], [0.2222222222222222, \"#7201a8\"], [0.3333333333333333, \"#9c179e\"], [0.4444444444444444, \"#bd3786\"], [0.5555555555555556, \"#d8576b\"], [0.6666666666666666, \"#ed7953\"], [0.7777777777777778, \"#fb9f3a\"], [0.8888888888888888, \"#fdca26\"], [1.0, \"#f0f921\"]], \"type\": \"surface\"}], \"table\": [{\"cells\": {\"fill\": {\"color\": \"#EBF0F8\"}, \"line\": {\"color\": \"white\"}}, \"header\": {\"fill\": {\"color\": \"#C8D4E3\"}, \"line\": {\"color\": \"white\"}}, \"type\": \"table\"}]}, \"layout\": {\"annotationdefaults\": {\"arrowcolor\": \"#2a3f5f\", \"arrowhead\": 0, \"arrowwidth\": 1}, \"coloraxis\": {\"colorbar\": {\"outlinewidth\": 0, \"ticks\": \"\"}}, \"colorscale\": {\"diverging\": [[0, \"#8e0152\"], [0.1, \"#c51b7d\"], [0.2, \"#de77ae\"], [0.3, \"#f1b6da\"], [0.4, \"#fde0ef\"], [0.5, \"#f7f7f7\"], [0.6, \"#e6f5d0\"], [0.7, \"#b8e186\"], [0.8, \"#7fbc41\"], [0.9, \"#4d9221\"], [1, \"#276419\"]], \"sequential\": [[0.0, \"#0d0887\"], [0.1111111111111111, \"#46039f\"], [0.2222222222222222, \"#7201a8\"], [0.3333333333333333, \"#9c179e\"], [0.4444444444444444, \"#bd3786\"], [0.5555555555555556, \"#d8576b\"], [0.6666666666666666, \"#ed7953\"], [0.7777777777777778, \"#fb9f3a\"], [0.8888888888888888, \"#fdca26\"], [1.0, \"#f0f921\"]], \"sequentialminus\": [[0.0, \"#0d0887\"], [0.1111111111111111, \"#46039f\"], [0.2222222222222222, \"#7201a8\"], [0.3333333333333333, \"#9c179e\"], [0.4444444444444444, \"#bd3786\"], [0.5555555555555556, \"#d8576b\"], [0.6666666666666666, \"#ed7953\"], [0.7777777777777778, \"#fb9f3a\"], [0.8888888888888888, \"#fdca26\"], [1.0, \"#f0f921\"]]}, \"colorway\": [\"#636efa\", \"#EF553B\", \"#00cc96\", \"#ab63fa\", \"#FFA15A\", \"#19d3f3\", \"#FF6692\", \"#B6E880\", \"#FF97FF\", \"#FECB52\"], \"font\": {\"color\": \"#2a3f5f\"}, \"geo\": {\"bgcolor\": \"white\", \"lakecolor\": \"white\", \"landcolor\": \"#E5ECF6\", \"showlakes\": true, \"showland\": true, \"subunitcolor\": \"white\"}, \"hoverlabel\": {\"align\": \"left\"}, \"hovermode\": \"closest\", \"mapbox\": {\"style\": \"light\"}, \"paper_bgcolor\": \"white\", \"plot_bgcolor\": \"#E5ECF6\", \"polar\": {\"angularaxis\": {\"gridcolor\": \"white\", \"linecolor\": \"white\", \"ticks\": \"\"}, \"bgcolor\": \"#E5ECF6\", \"radialaxis\": {\"gridcolor\": \"white\", \"linecolor\": \"white\", \"ticks\": \"\"}}, \"scene\": {\"xaxis\": {\"backgroundcolor\": \"#E5ECF6\", \"gridcolor\": \"white\", \"gridwidth\": 2, \"linecolor\": \"white\", \"showbackground\": true, \"ticks\": \"\", \"zerolinecolor\": \"white\"}, \"yaxis\": {\"backgroundcolor\": \"#E5ECF6\", \"gridcolor\": \"white\", \"gridwidth\": 2, \"linecolor\": \"white\", \"showbackground\": true, \"ticks\": \"\", \"zerolinecolor\": \"white\"}, \"zaxis\": {\"backgroundcolor\": \"#E5ECF6\", \"gridcolor\": \"white\", \"gridwidth\": 2, \"linecolor\": \"white\", \"showbackground\": true, \"ticks\": \"\", \"zerolinecolor\": \"white\"}}, \"shapedefaults\": {\"line\": {\"color\": \"#2a3f5f\"}}, \"ternary\": {\"aaxis\": {\"gridcolor\": \"white\", \"linecolor\": \"white\", \"ticks\": \"\"}, \"baxis\": {\"gridcolor\": \"white\", \"linecolor\": \"white\", \"ticks\": \"\"}, \"bgcolor\": \"#E5ECF6\", \"caxis\": {\"gridcolor\": \"white\", \"linecolor\": \"white\", \"ticks\": \"\"}}, \"title\": {\"x\": 0.05}, \"xaxis\": {\"automargin\": true, \"gridcolor\": \"white\", \"linecolor\": \"white\", \"ticks\": \"\", \"title\": {\"standoff\": 15}, \"zerolinecolor\": \"white\", \"zerolinewidth\": 2}, \"yaxis\": {\"automargin\": true, \"gridcolor\": \"white\", \"linecolor\": \"white\", \"ticks\": \"\", \"title\": {\"standoff\": 15}, \"zerolinecolor\": \"white\", \"zerolinewidth\": 2}}}, \"xaxis\": {\"anchor\": \"y\", \"domain\": [0.0, 0.45]}, \"xaxis2\": {\"anchor\": \"y2\", \"domain\": [0.55, 1.0]}, \"xaxis3\": {\"anchor\": \"y3\", \"domain\": [0.0, 0.45]}, \"xaxis4\": {\"anchor\": \"y4\", \"domain\": [0.55, 1.0]}, \"yaxis\": {\"anchor\": \"x\", \"domain\": [0.625, 1.0]}, \"yaxis2\": {\"anchor\": \"x2\", \"domain\": [0.625, 1.0]}, \"yaxis3\": {\"anchor\": \"x3\", \"domain\": [0.0, 0.375]}, \"yaxis4\": {\"anchor\": \"x4\", \"domain\": [0.0, 0.375]}},\n",
              "                        {\"responsive\": true}\n",
              "                    ).then(function(){\n",
              "                            \n",
              "var gd = document.getElementById('77413c57-a458-4b05-b20d-a3ef99c06479');\n",
              "var x = new MutationObserver(function (mutations, observer) {{\n",
              "        var display = window.getComputedStyle(gd).display;\n",
              "        if (!display || display === 'none') {{\n",
              "            console.log([gd, 'removed!']);\n",
              "            Plotly.purge(gd);\n",
              "            observer.disconnect();\n",
              "        }}\n",
              "}});\n",
              "\n",
              "// Listen for the removal of the full notebook cells\n",
              "var notebookContainer = gd.closest('#notebook-container');\n",
              "if (notebookContainer) {{\n",
              "    x.observe(notebookContainer, {childList: true});\n",
              "}}\n",
              "\n",
              "// Listen for the clearing of the current output cell\n",
              "var outputEl = gd.closest('.output');\n",
              "if (outputEl) {{\n",
              "    x.observe(outputEl, {childList: true});\n",
              "}}\n",
              "\n",
              "                        })\n",
              "                };\n",
              "                \n",
              "            </script>\n",
              "        </div>\n",
              "</body>\n",
              "</html>"
            ]
          },
          "metadata": {}
        }
      ]
    },
    {
      "cell_type": "code",
      "metadata": {
        "colab": {
          "base_uri": "https://localhost:8080/",
          "height": 542
        },
        "id": "WcxkfL2aDIsH",
        "outputId": "638243bf-b073-439c-ecdb-b093b199fbbe"
      },
      "source": [
        "fig = go.Figure([go.Bar(y=pd_df['Total_Cases'], name='Total Cases', hovertext=pd_df['State_UTs'], x=pd_df['State_UTs']),\n",
        "                 go.Bar(y=pd_df['Discharged'], name='Discharged', hovertext=pd_df['State_UTs'], x=pd_df['State_UTs'])])\n",
        "fig.update_layout(barmode='group')\n",
        "fig.update_layout(title='Total & Discharged Cases')\n",
        "fig.show()"
      ],
      "execution_count": null,
      "outputs": [
        {
          "output_type": "display_data",
          "data": {
            "text/html": [
              "<html>\n",
              "<head><meta charset=\"utf-8\" /></head>\n",
              "<body>\n",
              "    <div>\n",
              "            <script src=\"https://cdnjs.cloudflare.com/ajax/libs/mathjax/2.7.5/MathJax.js?config=TeX-AMS-MML_SVG\"></script><script type=\"text/javascript\">if (window.MathJax) {MathJax.Hub.Config({SVG: {font: \"STIX-Web\"}});}</script>\n",
              "                <script type=\"text/javascript\">window.PlotlyConfig = {MathJaxConfig: 'local'};</script>\n",
              "        <script src=\"https://cdn.plot.ly/plotly-latest.min.js\"></script>    \n",
              "            <div id=\"611c875d-de77-4f5b-88a1-e0023cfc6d1f\" class=\"plotly-graph-div\" style=\"height:525px; width:100%;\"></div>\n",
              "            <script type=\"text/javascript\">\n",
              "                \n",
              "                    window.PLOTLYENV=window.PLOTLYENV || {};\n",
              "                    \n",
              "                if (document.getElementById(\"611c875d-de77-4f5b-88a1-e0023cfc6d1f\")) {\n",
              "                    Plotly.newPlot(\n",
              "                        '611c875d-de77-4f5b-88a1-e0023cfc6d1f',\n",
              "                        [{\"hovertext\": [\"Andaman and Nicobar\", \"Andhra Pradesh\", \"Arunachal Pradesh\", \"Assam\", \"Bihar\", \"Chandigarh\", \"Chhattisgarh\", \"Dadra and Nagar Haveli and Daman and Diu\", \"Delhi\", \"Goa\", \"Gujarat\", \"Haryana\", \"Himachal Pradesh\", \"Jammu and Kashmir\", \"Jharkhand\", \"Karnataka\", \"Kerala\", \"Ladakh\", \"Lakshadweep\", \"Madhya Pradesh\", \"Maharashtra\", \"Manipur\", \"Meghalaya\", \"Mizoram\", \"Nagaland\", \"Odisha\", \"Puducherry\", \"Punjab\", \"Rajasthan\", \"Sikkim\", \"Tamil Nadu\", \"Telengana\", \"Tripura\", \"Uttar Pradesh\", \"Uttarakhand\", \"West Bengal\"], \"name\": \"Total Cases\", \"type\": \"bar\", \"x\": [\"Andaman and Nicobar\", \"Andhra Pradesh\", \"Arunachal Pradesh\", \"Assam\", \"Bihar\", \"Chandigarh\", \"Chhattisgarh\", \"Dadra and Nagar Haveli and Daman and Diu\", \"Delhi\", \"Goa\", \"Gujarat\", \"Haryana\", \"Himachal Pradesh\", \"Jammu and Kashmir\", \"Jharkhand\", \"Karnataka\", \"Kerala\", \"Ladakh\", \"Lakshadweep\", \"Madhya Pradesh\", \"Maharashtra\", \"Manipur\", \"Meghalaya\", \"Mizoram\", \"Nagaland\", \"Odisha\", \"Puducherry\", \"Punjab\", \"Rajasthan\", \"Sikkim\", \"Tamil Nadu\", \"Telengana\", \"Tripura\", \"Uttar Pradesh\", \"Uttarakhand\", \"West Bengal\"], \"y\": [7549, 1995669, 51655, 581398, 725518, 62035, 1003870, 10657, 1437156, 172683, 825213, 770245, 210719, 323582, 347635, 2931827, 3724030, 20466, 10295, 792054, 6401213, 108948, 72412, 49950, 29274, 996153, 122391, 600008, 953960, 28830, 2592436, 653202, 81584, 1708991, 342637, 1539612]}, {\"hovertext\": [\"Andaman and Nicobar\", \"Andhra Pradesh\", \"Arunachal Pradesh\", \"Assam\", \"Bihar\", \"Chandigarh\", \"Chhattisgarh\", \"Dadra and Nagar Haveli and Daman and Diu\", \"Delhi\", \"Goa\", \"Gujarat\", \"Haryana\", \"Himachal Pradesh\", \"Jammu and Kashmir\", \"Jharkhand\", \"Karnataka\", \"Kerala\", \"Ladakh\", \"Lakshadweep\", \"Madhya Pradesh\", \"Maharashtra\", \"Manipur\", \"Meghalaya\", \"Mizoram\", \"Nagaland\", \"Odisha\", \"Puducherry\", \"Punjab\", \"Rajasthan\", \"Sikkim\", \"Tamil Nadu\", \"Telengana\", \"Tripura\", \"Uttar Pradesh\", \"Uttarakhand\", \"West Bengal\"], \"name\": \"Discharged\", \"type\": \"bar\", \"x\": [\"Andaman and Nicobar\", \"Andhra Pradesh\", \"Arunachal Pradesh\", \"Assam\", \"Bihar\", \"Chandigarh\", \"Chhattisgarh\", \"Dadra and Nagar Haveli and Daman and Diu\", \"Delhi\", \"Goa\", \"Gujarat\", \"Haryana\", \"Himachal Pradesh\", \"Jammu and Kashmir\", \"Jharkhand\", \"Karnataka\", \"Kerala\", \"Ladakh\", \"Lakshadweep\", \"Madhya Pradesh\", \"Maharashtra\", \"Manipur\", \"Meghalaya\", \"Mizoram\", \"Nagaland\", \"Odisha\", \"Puducherry\", \"Punjab\", \"Rajasthan\", \"Sikkim\", \"Tamil Nadu\", \"Telengana\", \"Tripura\", \"Uttar Pradesh\", \"Uttarakhand\", \"West Bengal\"], \"y\": [7419, 1965657, 49640, 567113, 715665, 61182, 989284, 10649, 1411612, 168622, 814956, 759924, 204457, 318025, 342286, 2873281, 3529465, 20178, 10210, 781444, 6201168, 101505, 67581, 40681, 27579, 980471, 119730, 583120, 944843, 26485, 2537632, 642416, 79366, 1685785, 334934, 1511558]}],\n",
              "                        {\"barmode\": \"group\", \"template\": {\"data\": {\"bar\": [{\"error_x\": {\"color\": \"#2a3f5f\"}, \"error_y\": {\"color\": \"#2a3f5f\"}, \"marker\": {\"line\": {\"color\": \"#E5ECF6\", \"width\": 0.5}}, \"type\": \"bar\"}], \"barpolar\": [{\"marker\": {\"line\": {\"color\": \"#E5ECF6\", \"width\": 0.5}}, \"type\": \"barpolar\"}], \"carpet\": [{\"aaxis\": {\"endlinecolor\": \"#2a3f5f\", \"gridcolor\": \"white\", \"linecolor\": \"white\", \"minorgridcolor\": \"white\", \"startlinecolor\": \"#2a3f5f\"}, \"baxis\": {\"endlinecolor\": \"#2a3f5f\", \"gridcolor\": \"white\", \"linecolor\": \"white\", \"minorgridcolor\": \"white\", \"startlinecolor\": \"#2a3f5f\"}, \"type\": \"carpet\"}], \"choropleth\": [{\"colorbar\": {\"outlinewidth\": 0, \"ticks\": \"\"}, \"type\": \"choropleth\"}], \"contour\": [{\"colorbar\": {\"outlinewidth\": 0, \"ticks\": \"\"}, \"colorscale\": [[0.0, \"#0d0887\"], [0.1111111111111111, \"#46039f\"], [0.2222222222222222, \"#7201a8\"], [0.3333333333333333, \"#9c179e\"], [0.4444444444444444, \"#bd3786\"], [0.5555555555555556, \"#d8576b\"], [0.6666666666666666, \"#ed7953\"], [0.7777777777777778, \"#fb9f3a\"], [0.8888888888888888, \"#fdca26\"], [1.0, \"#f0f921\"]], \"type\": \"contour\"}], \"contourcarpet\": [{\"colorbar\": {\"outlinewidth\": 0, \"ticks\": \"\"}, \"type\": \"contourcarpet\"}], \"heatmap\": [{\"colorbar\": {\"outlinewidth\": 0, \"ticks\": \"\"}, \"colorscale\": [[0.0, \"#0d0887\"], [0.1111111111111111, \"#46039f\"], [0.2222222222222222, \"#7201a8\"], [0.3333333333333333, \"#9c179e\"], [0.4444444444444444, \"#bd3786\"], [0.5555555555555556, \"#d8576b\"], [0.6666666666666666, \"#ed7953\"], [0.7777777777777778, \"#fb9f3a\"], [0.8888888888888888, \"#fdca26\"], [1.0, \"#f0f921\"]], \"type\": \"heatmap\"}], \"heatmapgl\": [{\"colorbar\": {\"outlinewidth\": 0, \"ticks\": \"\"}, \"colorscale\": [[0.0, \"#0d0887\"], [0.1111111111111111, \"#46039f\"], [0.2222222222222222, \"#7201a8\"], [0.3333333333333333, \"#9c179e\"], [0.4444444444444444, \"#bd3786\"], [0.5555555555555556, \"#d8576b\"], [0.6666666666666666, \"#ed7953\"], [0.7777777777777778, \"#fb9f3a\"], [0.8888888888888888, \"#fdca26\"], [1.0, \"#f0f921\"]], \"type\": \"heatmapgl\"}], \"histogram\": [{\"marker\": {\"colorbar\": {\"outlinewidth\": 0, \"ticks\": \"\"}}, \"type\": \"histogram\"}], \"histogram2d\": [{\"colorbar\": {\"outlinewidth\": 0, \"ticks\": \"\"}, \"colorscale\": [[0.0, \"#0d0887\"], [0.1111111111111111, \"#46039f\"], [0.2222222222222222, \"#7201a8\"], [0.3333333333333333, \"#9c179e\"], [0.4444444444444444, \"#bd3786\"], [0.5555555555555556, \"#d8576b\"], [0.6666666666666666, \"#ed7953\"], [0.7777777777777778, \"#fb9f3a\"], [0.8888888888888888, \"#fdca26\"], [1.0, \"#f0f921\"]], \"type\": \"histogram2d\"}], \"histogram2dcontour\": [{\"colorbar\": {\"outlinewidth\": 0, \"ticks\": \"\"}, \"colorscale\": [[0.0, \"#0d0887\"], [0.1111111111111111, \"#46039f\"], [0.2222222222222222, \"#7201a8\"], [0.3333333333333333, \"#9c179e\"], [0.4444444444444444, \"#bd3786\"], [0.5555555555555556, \"#d8576b\"], [0.6666666666666666, \"#ed7953\"], [0.7777777777777778, \"#fb9f3a\"], [0.8888888888888888, \"#fdca26\"], [1.0, \"#f0f921\"]], \"type\": \"histogram2dcontour\"}], \"mesh3d\": [{\"colorbar\": {\"outlinewidth\": 0, \"ticks\": \"\"}, \"type\": \"mesh3d\"}], \"parcoords\": [{\"line\": {\"colorbar\": {\"outlinewidth\": 0, \"ticks\": \"\"}}, \"type\": \"parcoords\"}], \"pie\": [{\"automargin\": true, \"type\": \"pie\"}], \"scatter\": [{\"marker\": {\"colorbar\": {\"outlinewidth\": 0, \"ticks\": \"\"}}, \"type\": \"scatter\"}], \"scatter3d\": [{\"line\": {\"colorbar\": {\"outlinewidth\": 0, \"ticks\": \"\"}}, \"marker\": {\"colorbar\": {\"outlinewidth\": 0, \"ticks\": \"\"}}, \"type\": \"scatter3d\"}], \"scattercarpet\": [{\"marker\": {\"colorbar\": {\"outlinewidth\": 0, \"ticks\": \"\"}}, \"type\": \"scattercarpet\"}], \"scattergeo\": [{\"marker\": {\"colorbar\": {\"outlinewidth\": 0, \"ticks\": \"\"}}, \"type\": \"scattergeo\"}], \"scattergl\": [{\"marker\": {\"colorbar\": {\"outlinewidth\": 0, \"ticks\": \"\"}}, \"type\": \"scattergl\"}], \"scattermapbox\": [{\"marker\": {\"colorbar\": {\"outlinewidth\": 0, \"ticks\": \"\"}}, \"type\": \"scattermapbox\"}], \"scatterpolar\": [{\"marker\": {\"colorbar\": {\"outlinewidth\": 0, \"ticks\": \"\"}}, \"type\": \"scatterpolar\"}], \"scatterpolargl\": [{\"marker\": {\"colorbar\": {\"outlinewidth\": 0, \"ticks\": \"\"}}, \"type\": \"scatterpolargl\"}], \"scatterternary\": [{\"marker\": {\"colorbar\": {\"outlinewidth\": 0, \"ticks\": \"\"}}, \"type\": \"scatterternary\"}], \"surface\": [{\"colorbar\": {\"outlinewidth\": 0, \"ticks\": \"\"}, \"colorscale\": [[0.0, \"#0d0887\"], [0.1111111111111111, \"#46039f\"], [0.2222222222222222, \"#7201a8\"], [0.3333333333333333, \"#9c179e\"], [0.4444444444444444, \"#bd3786\"], [0.5555555555555556, \"#d8576b\"], [0.6666666666666666, \"#ed7953\"], [0.7777777777777778, \"#fb9f3a\"], [0.8888888888888888, \"#fdca26\"], [1.0, \"#f0f921\"]], \"type\": \"surface\"}], \"table\": [{\"cells\": {\"fill\": {\"color\": \"#EBF0F8\"}, \"line\": {\"color\": \"white\"}}, \"header\": {\"fill\": {\"color\": \"#C8D4E3\"}, \"line\": {\"color\": \"white\"}}, \"type\": \"table\"}]}, \"layout\": {\"annotationdefaults\": {\"arrowcolor\": \"#2a3f5f\", \"arrowhead\": 0, \"arrowwidth\": 1}, \"coloraxis\": {\"colorbar\": {\"outlinewidth\": 0, \"ticks\": \"\"}}, \"colorscale\": {\"diverging\": [[0, \"#8e0152\"], [0.1, \"#c51b7d\"], [0.2, \"#de77ae\"], [0.3, \"#f1b6da\"], [0.4, \"#fde0ef\"], [0.5, \"#f7f7f7\"], [0.6, \"#e6f5d0\"], [0.7, \"#b8e186\"], [0.8, \"#7fbc41\"], [0.9, \"#4d9221\"], [1, \"#276419\"]], \"sequential\": [[0.0, \"#0d0887\"], [0.1111111111111111, \"#46039f\"], [0.2222222222222222, \"#7201a8\"], [0.3333333333333333, \"#9c179e\"], [0.4444444444444444, \"#bd3786\"], [0.5555555555555556, \"#d8576b\"], [0.6666666666666666, \"#ed7953\"], [0.7777777777777778, \"#fb9f3a\"], [0.8888888888888888, \"#fdca26\"], [1.0, \"#f0f921\"]], \"sequentialminus\": [[0.0, \"#0d0887\"], [0.1111111111111111, \"#46039f\"], [0.2222222222222222, \"#7201a8\"], [0.3333333333333333, \"#9c179e\"], [0.4444444444444444, \"#bd3786\"], [0.5555555555555556, \"#d8576b\"], [0.6666666666666666, \"#ed7953\"], [0.7777777777777778, \"#fb9f3a\"], [0.8888888888888888, \"#fdca26\"], [1.0, \"#f0f921\"]]}, \"colorway\": [\"#636efa\", \"#EF553B\", \"#00cc96\", \"#ab63fa\", \"#FFA15A\", \"#19d3f3\", \"#FF6692\", \"#B6E880\", \"#FF97FF\", \"#FECB52\"], \"font\": {\"color\": \"#2a3f5f\"}, \"geo\": {\"bgcolor\": \"white\", \"lakecolor\": \"white\", \"landcolor\": \"#E5ECF6\", \"showlakes\": true, \"showland\": true, \"subunitcolor\": \"white\"}, \"hoverlabel\": {\"align\": \"left\"}, \"hovermode\": \"closest\", \"mapbox\": {\"style\": \"light\"}, \"paper_bgcolor\": \"white\", \"plot_bgcolor\": \"#E5ECF6\", \"polar\": {\"angularaxis\": {\"gridcolor\": \"white\", \"linecolor\": \"white\", \"ticks\": \"\"}, \"bgcolor\": \"#E5ECF6\", \"radialaxis\": {\"gridcolor\": \"white\", \"linecolor\": \"white\", \"ticks\": \"\"}}, \"scene\": {\"xaxis\": {\"backgroundcolor\": \"#E5ECF6\", \"gridcolor\": \"white\", \"gridwidth\": 2, \"linecolor\": \"white\", \"showbackground\": true, \"ticks\": \"\", \"zerolinecolor\": \"white\"}, \"yaxis\": {\"backgroundcolor\": \"#E5ECF6\", \"gridcolor\": \"white\", \"gridwidth\": 2, \"linecolor\": \"white\", \"showbackground\": true, \"ticks\": \"\", \"zerolinecolor\": \"white\"}, \"zaxis\": {\"backgroundcolor\": \"#E5ECF6\", \"gridcolor\": \"white\", \"gridwidth\": 2, \"linecolor\": \"white\", \"showbackground\": true, \"ticks\": \"\", \"zerolinecolor\": \"white\"}}, \"shapedefaults\": {\"line\": {\"color\": \"#2a3f5f\"}}, \"ternary\": {\"aaxis\": {\"gridcolor\": \"white\", \"linecolor\": \"white\", \"ticks\": \"\"}, \"baxis\": {\"gridcolor\": \"white\", \"linecolor\": \"white\", \"ticks\": \"\"}, \"bgcolor\": \"#E5ECF6\", \"caxis\": {\"gridcolor\": \"white\", \"linecolor\": \"white\", \"ticks\": \"\"}}, \"title\": {\"x\": 0.05}, \"xaxis\": {\"automargin\": true, \"gridcolor\": \"white\", \"linecolor\": \"white\", \"ticks\": \"\", \"title\": {\"standoff\": 15}, \"zerolinecolor\": \"white\", \"zerolinewidth\": 2}, \"yaxis\": {\"automargin\": true, \"gridcolor\": \"white\", \"linecolor\": \"white\", \"ticks\": \"\", \"title\": {\"standoff\": 15}, \"zerolinecolor\": \"white\", \"zerolinewidth\": 2}}}, \"title\": {\"text\": \"Total & Discharged Cases\"}},\n",
              "                        {\"responsive\": true}\n",
              "                    ).then(function(){\n",
              "                            \n",
              "var gd = document.getElementById('611c875d-de77-4f5b-88a1-e0023cfc6d1f');\n",
              "var x = new MutationObserver(function (mutations, observer) {{\n",
              "        var display = window.getComputedStyle(gd).display;\n",
              "        if (!display || display === 'none') {{\n",
              "            console.log([gd, 'removed!']);\n",
              "            Plotly.purge(gd);\n",
              "            observer.disconnect();\n",
              "        }}\n",
              "}});\n",
              "\n",
              "// Listen for the removal of the full notebook cells\n",
              "var notebookContainer = gd.closest('#notebook-container');\n",
              "if (notebookContainer) {{\n",
              "    x.observe(notebookContainer, {childList: true});\n",
              "}}\n",
              "\n",
              "// Listen for the clearing of the current output cell\n",
              "var outputEl = gd.closest('.output');\n",
              "if (outputEl) {{\n",
              "    x.observe(outputEl, {childList: true});\n",
              "}}\n",
              "\n",
              "                        })\n",
              "                };\n",
              "                \n",
              "            </script>\n",
              "        </div>\n",
              "</body>\n",
              "</html>"
            ]
          },
          "metadata": {}
        }
      ]
    },
    {
      "cell_type": "code",
      "metadata": {
        "colab": {
          "base_uri": "https://localhost:8080/",
          "height": 542
        },
        "id": "89fIHO8tEbm6",
        "outputId": "e1849bc2-2c77-453d-e401-6f6e2fed9cfb"
      },
      "source": [
        "fig = make_subplots(rows=2, cols=2,\n",
        "                    subplot_titles=['Total Cases', 'Deaths', 'Active', 'Discharged'],\n",
        "                    specs=[[{'type':'domain'}, {'type':'domain'}],\n",
        "                           [{'type':'domain'}, {'type':'domain'}]])\n",
        "\n",
        "total_cases = go.Pie(values=pd_df['Total_Cases'], name='Total Cases', labels=pd_df['State_UTs'])\n",
        "deaths = go.Pie(values=pd_df['Deaths'], name='Deaths', labels=pd_df['State_UTs'])\n",
        "active = go.Pie(values=pd_df['Active'], name='Active', labels=pd_df['State_UTs'])\n",
        "discharged = go.Pie(values=pd_df['Discharged'], name='Discharged', labels=pd_df['State_UTs'])\n",
        "\n",
        "fig.add_trace(total_cases, 1, 1)\n",
        "fig.add_trace(deaths, 1, 2)\n",
        "fig.add_trace(active, 2, 1)\n",
        "fig.add_trace(discharged, 2, 2)\n",
        "\n",
        "fig.update_traces(hoverinfo='percent+label')\n",
        "fig.update_layout(showlegend=False)\n",
        "\n",
        "fig.update_traces(textposition='inside')\n",
        "\n",
        "fig = go.Figure(fig)\n",
        "fig.show()"
      ],
      "execution_count": null,
      "outputs": [
        {
          "output_type": "display_data",
          "data": {
            "text/html": [
              "<html>\n",
              "<head><meta charset=\"utf-8\" /></head>\n",
              "<body>\n",
              "    <div>\n",
              "            <script src=\"https://cdnjs.cloudflare.com/ajax/libs/mathjax/2.7.5/MathJax.js?config=TeX-AMS-MML_SVG\"></script><script type=\"text/javascript\">if (window.MathJax) {MathJax.Hub.Config({SVG: {font: \"STIX-Web\"}});}</script>\n",
              "                <script type=\"text/javascript\">window.PlotlyConfig = {MathJaxConfig: 'local'};</script>\n",
              "        <script src=\"https://cdn.plot.ly/plotly-latest.min.js\"></script>    \n",
              "            <div id=\"917ce7c8-6783-4c0c-a7ee-c8678a6b971c\" class=\"plotly-graph-div\" style=\"height:525px; width:100%;\"></div>\n",
              "            <script type=\"text/javascript\">\n",
              "                \n",
              "                    window.PLOTLYENV=window.PLOTLYENV || {};\n",
              "                    \n",
              "                if (document.getElementById(\"917ce7c8-6783-4c0c-a7ee-c8678a6b971c\")) {\n",
              "                    Plotly.newPlot(\n",
              "                        '917ce7c8-6783-4c0c-a7ee-c8678a6b971c',\n",
              "                        [{\"domain\": {\"x\": [0.0, 0.45], \"y\": [0.625, 1.0]}, \"hoverinfo\": \"percent+label\", \"labels\": [\"Andaman and Nicobar\", \"Andhra Pradesh\", \"Arunachal Pradesh\", \"Assam\", \"Bihar\", \"Chandigarh\", \"Chhattisgarh\", \"Dadra and Nagar Haveli and Daman and Diu\", \"Delhi\", \"Goa\", \"Gujarat\", \"Haryana\", \"Himachal Pradesh\", \"Jammu and Kashmir\", \"Jharkhand\", \"Karnataka\", \"Kerala\", \"Ladakh\", \"Lakshadweep\", \"Madhya Pradesh\", \"Maharashtra\", \"Manipur\", \"Meghalaya\", \"Mizoram\", \"Nagaland\", \"Odisha\", \"Puducherry\", \"Punjab\", \"Rajasthan\", \"Sikkim\", \"Tamil Nadu\", \"Telengana\", \"Tripura\", \"Uttar Pradesh\", \"Uttarakhand\", \"West Bengal\"], \"name\": \"Total Cases\", \"textposition\": \"inside\", \"type\": \"pie\", \"values\": [7549, 1995669, 51655, 581398, 725518, 62035, 1003870, 10657, 1437156, 172683, 825213, 770245, 210719, 323582, 347635, 2931827, 3724030, 20466, 10295, 792054, 6401213, 108948, 72412, 49950, 29274, 996153, 122391, 600008, 953960, 28830, 2592436, 653202, 81584, 1708991, 342637, 1539612]}, {\"domain\": {\"x\": [0.55, 1.0], \"y\": [0.625, 1.0]}, \"hoverinfo\": \"percent+label\", \"labels\": [\"Andaman and Nicobar\", \"Andhra Pradesh\", \"Arunachal Pradesh\", \"Assam\", \"Bihar\", \"Chandigarh\", \"Chhattisgarh\", \"Dadra and Nagar Haveli and Daman and Diu\", \"Delhi\", \"Goa\", \"Gujarat\", \"Haryana\", \"Himachal Pradesh\", \"Jammu and Kashmir\", \"Jharkhand\", \"Karnataka\", \"Kerala\", \"Ladakh\", \"Lakshadweep\", \"Madhya Pradesh\", \"Maharashtra\", \"Manipur\", \"Meghalaya\", \"Mizoram\", \"Nagaland\", \"Odisha\", \"Puducherry\", \"Punjab\", \"Rajasthan\", \"Sikkim\", \"Tamil Nadu\", \"Telengana\", \"Tripura\", \"Uttar Pradesh\", \"Uttarakhand\", \"West Bengal\"], \"name\": \"Deaths\", \"textposition\": \"inside\", \"type\": \"pie\", \"values\": [129, 13671, 252, 5513, 9649, 811, 13549, 4, 25073, 3177, 10078, 9661, 3557, 4399, 5132, 37039, 18870, 207, 51, 10515, 135255, 1722, 1240, 185, 607, 7021, 1805, 16345, 8954, 363, 34579, 3847, 782, 22786, 7373, 18318]}, {\"domain\": {\"x\": [0.0, 0.45], \"y\": [0.0, 0.375]}, \"hoverinfo\": \"percent+label\", \"labels\": [\"Andaman and Nicobar\", \"Andhra Pradesh\", \"Arunachal Pradesh\", \"Assam\", \"Bihar\", \"Chandigarh\", \"Chhattisgarh\", \"Dadra and Nagar Haveli and Daman and Diu\", \"Delhi\", \"Goa\", \"Gujarat\", \"Haryana\", \"Himachal Pradesh\", \"Jammu and Kashmir\", \"Jharkhand\", \"Karnataka\", \"Kerala\", \"Ladakh\", \"Lakshadweep\", \"Madhya Pradesh\", \"Maharashtra\", \"Manipur\", \"Meghalaya\", \"Mizoram\", \"Nagaland\", \"Odisha\", \"Puducherry\", \"Punjab\", \"Rajasthan\", \"Sikkim\", \"Tamil Nadu\", \"Telengana\", \"Tripura\", \"Uttar Pradesh\", \"Uttarakhand\", \"West Bengal\"], \"name\": \"Active\", \"textposition\": \"inside\", \"type\": \"pie\", \"values\": [1, 16341, 1763, 8772, 204, 42, 1037, 4, 471, 884, 179, 660, 2705, 1158, 217, 21507, 175695, 81, 34, 95, 64790, 5721, 3591, 9084, 1088, 8661, 856, 543, 163, 1982, 20225, 6939, 1436, 420, 330, 9736]}, {\"domain\": {\"x\": [0.55, 1.0], \"y\": [0.0, 0.375]}, \"hoverinfo\": \"percent+label\", \"labels\": [\"Andaman and Nicobar\", \"Andhra Pradesh\", \"Arunachal Pradesh\", \"Assam\", \"Bihar\", \"Chandigarh\", \"Chhattisgarh\", \"Dadra and Nagar Haveli and Daman and Diu\", \"Delhi\", \"Goa\", \"Gujarat\", \"Haryana\", \"Himachal Pradesh\", \"Jammu and Kashmir\", \"Jharkhand\", \"Karnataka\", \"Kerala\", \"Ladakh\", \"Lakshadweep\", \"Madhya Pradesh\", \"Maharashtra\", \"Manipur\", \"Meghalaya\", \"Mizoram\", \"Nagaland\", \"Odisha\", \"Puducherry\", \"Punjab\", \"Rajasthan\", \"Sikkim\", \"Tamil Nadu\", \"Telengana\", \"Tripura\", \"Uttar Pradesh\", \"Uttarakhand\", \"West Bengal\"], \"name\": \"Discharged\", \"textposition\": \"inside\", \"type\": \"pie\", \"values\": [7419, 1965657, 49640, 567113, 715665, 61182, 989284, 10649, 1411612, 168622, 814956, 759924, 204457, 318025, 342286, 2873281, 3529465, 20178, 10210, 781444, 6201168, 101505, 67581, 40681, 27579, 980471, 119730, 583120, 944843, 26485, 2537632, 642416, 79366, 1685785, 334934, 1511558]}],\n",
              "                        {\"annotations\": [{\"font\": {\"size\": 16}, \"showarrow\": false, \"text\": \"Total Cases\", \"x\": 0.225, \"xanchor\": \"center\", \"xref\": \"paper\", \"y\": 1.0, \"yanchor\": \"bottom\", \"yref\": \"paper\"}, {\"font\": {\"size\": 16}, \"showarrow\": false, \"text\": \"Deaths\", \"x\": 0.775, \"xanchor\": \"center\", \"xref\": \"paper\", \"y\": 1.0, \"yanchor\": \"bottom\", \"yref\": \"paper\"}, {\"font\": {\"size\": 16}, \"showarrow\": false, \"text\": \"Active\", \"x\": 0.225, \"xanchor\": \"center\", \"xref\": \"paper\", \"y\": 0.375, \"yanchor\": \"bottom\", \"yref\": \"paper\"}, {\"font\": {\"size\": 16}, \"showarrow\": false, \"text\": \"Discharged\", \"x\": 0.775, \"xanchor\": \"center\", \"xref\": \"paper\", \"y\": 0.375, \"yanchor\": \"bottom\", \"yref\": \"paper\"}], \"showlegend\": false, \"template\": {\"data\": {\"bar\": [{\"error_x\": {\"color\": \"#2a3f5f\"}, \"error_y\": {\"color\": \"#2a3f5f\"}, \"marker\": {\"line\": {\"color\": \"#E5ECF6\", \"width\": 0.5}}, \"type\": \"bar\"}], \"barpolar\": [{\"marker\": {\"line\": {\"color\": \"#E5ECF6\", \"width\": 0.5}}, \"type\": \"barpolar\"}], \"carpet\": [{\"aaxis\": {\"endlinecolor\": \"#2a3f5f\", \"gridcolor\": \"white\", \"linecolor\": \"white\", \"minorgridcolor\": \"white\", \"startlinecolor\": \"#2a3f5f\"}, \"baxis\": {\"endlinecolor\": \"#2a3f5f\", \"gridcolor\": \"white\", \"linecolor\": \"white\", \"minorgridcolor\": \"white\", \"startlinecolor\": \"#2a3f5f\"}, \"type\": \"carpet\"}], \"choropleth\": [{\"colorbar\": {\"outlinewidth\": 0, \"ticks\": \"\"}, \"type\": \"choropleth\"}], \"contour\": [{\"colorbar\": {\"outlinewidth\": 0, \"ticks\": \"\"}, \"colorscale\": [[0.0, \"#0d0887\"], [0.1111111111111111, \"#46039f\"], [0.2222222222222222, \"#7201a8\"], [0.3333333333333333, \"#9c179e\"], [0.4444444444444444, \"#bd3786\"], [0.5555555555555556, \"#d8576b\"], [0.6666666666666666, \"#ed7953\"], [0.7777777777777778, \"#fb9f3a\"], [0.8888888888888888, \"#fdca26\"], [1.0, \"#f0f921\"]], \"type\": \"contour\"}], \"contourcarpet\": [{\"colorbar\": {\"outlinewidth\": 0, \"ticks\": \"\"}, \"type\": \"contourcarpet\"}], \"heatmap\": [{\"colorbar\": {\"outlinewidth\": 0, \"ticks\": \"\"}, \"colorscale\": [[0.0, \"#0d0887\"], [0.1111111111111111, \"#46039f\"], [0.2222222222222222, \"#7201a8\"], [0.3333333333333333, \"#9c179e\"], [0.4444444444444444, \"#bd3786\"], [0.5555555555555556, \"#d8576b\"], [0.6666666666666666, \"#ed7953\"], [0.7777777777777778, \"#fb9f3a\"], [0.8888888888888888, \"#fdca26\"], [1.0, \"#f0f921\"]], \"type\": \"heatmap\"}], \"heatmapgl\": [{\"colorbar\": {\"outlinewidth\": 0, \"ticks\": \"\"}, \"colorscale\": [[0.0, \"#0d0887\"], [0.1111111111111111, \"#46039f\"], [0.2222222222222222, \"#7201a8\"], [0.3333333333333333, \"#9c179e\"], [0.4444444444444444, \"#bd3786\"], [0.5555555555555556, \"#d8576b\"], [0.6666666666666666, \"#ed7953\"], [0.7777777777777778, \"#fb9f3a\"], [0.8888888888888888, \"#fdca26\"], [1.0, \"#f0f921\"]], \"type\": \"heatmapgl\"}], \"histogram\": [{\"marker\": {\"colorbar\": {\"outlinewidth\": 0, \"ticks\": \"\"}}, \"type\": \"histogram\"}], \"histogram2d\": [{\"colorbar\": {\"outlinewidth\": 0, \"ticks\": \"\"}, \"colorscale\": [[0.0, \"#0d0887\"], [0.1111111111111111, \"#46039f\"], [0.2222222222222222, \"#7201a8\"], [0.3333333333333333, \"#9c179e\"], [0.4444444444444444, \"#bd3786\"], [0.5555555555555556, \"#d8576b\"], [0.6666666666666666, \"#ed7953\"], [0.7777777777777778, \"#fb9f3a\"], [0.8888888888888888, \"#fdca26\"], [1.0, \"#f0f921\"]], \"type\": \"histogram2d\"}], \"histogram2dcontour\": [{\"colorbar\": {\"outlinewidth\": 0, \"ticks\": \"\"}, \"colorscale\": [[0.0, \"#0d0887\"], [0.1111111111111111, \"#46039f\"], [0.2222222222222222, \"#7201a8\"], [0.3333333333333333, \"#9c179e\"], [0.4444444444444444, \"#bd3786\"], [0.5555555555555556, \"#d8576b\"], [0.6666666666666666, \"#ed7953\"], [0.7777777777777778, \"#fb9f3a\"], [0.8888888888888888, \"#fdca26\"], [1.0, \"#f0f921\"]], \"type\": \"histogram2dcontour\"}], \"mesh3d\": [{\"colorbar\": {\"outlinewidth\": 0, \"ticks\": \"\"}, \"type\": \"mesh3d\"}], \"parcoords\": [{\"line\": {\"colorbar\": {\"outlinewidth\": 0, \"ticks\": \"\"}}, \"type\": \"parcoords\"}], \"pie\": [{\"automargin\": true, \"type\": \"pie\"}], \"scatter\": [{\"marker\": {\"colorbar\": {\"outlinewidth\": 0, \"ticks\": \"\"}}, \"type\": \"scatter\"}], \"scatter3d\": [{\"line\": {\"colorbar\": {\"outlinewidth\": 0, \"ticks\": \"\"}}, \"marker\": {\"colorbar\": {\"outlinewidth\": 0, \"ticks\": \"\"}}, \"type\": \"scatter3d\"}], \"scattercarpet\": [{\"marker\": {\"colorbar\": {\"outlinewidth\": 0, \"ticks\": \"\"}}, \"type\": \"scattercarpet\"}], \"scattergeo\": [{\"marker\": {\"colorbar\": {\"outlinewidth\": 0, \"ticks\": \"\"}}, \"type\": \"scattergeo\"}], \"scattergl\": [{\"marker\": {\"colorbar\": {\"outlinewidth\": 0, \"ticks\": \"\"}}, \"type\": \"scattergl\"}], \"scattermapbox\": [{\"marker\": {\"colorbar\": {\"outlinewidth\": 0, \"ticks\": \"\"}}, \"type\": \"scattermapbox\"}], \"scatterpolar\": [{\"marker\": {\"colorbar\": {\"outlinewidth\": 0, \"ticks\": \"\"}}, \"type\": \"scatterpolar\"}], \"scatterpolargl\": [{\"marker\": {\"colorbar\": {\"outlinewidth\": 0, \"ticks\": \"\"}}, \"type\": \"scatterpolargl\"}], \"scatterternary\": [{\"marker\": {\"colorbar\": {\"outlinewidth\": 0, \"ticks\": \"\"}}, \"type\": \"scatterternary\"}], \"surface\": [{\"colorbar\": {\"outlinewidth\": 0, \"ticks\": \"\"}, \"colorscale\": [[0.0, \"#0d0887\"], [0.1111111111111111, \"#46039f\"], [0.2222222222222222, \"#7201a8\"], [0.3333333333333333, \"#9c179e\"], [0.4444444444444444, \"#bd3786\"], [0.5555555555555556, \"#d8576b\"], [0.6666666666666666, \"#ed7953\"], [0.7777777777777778, \"#fb9f3a\"], [0.8888888888888888, \"#fdca26\"], [1.0, \"#f0f921\"]], \"type\": \"surface\"}], \"table\": [{\"cells\": {\"fill\": {\"color\": \"#EBF0F8\"}, \"line\": {\"color\": \"white\"}}, \"header\": {\"fill\": {\"color\": \"#C8D4E3\"}, \"line\": {\"color\": \"white\"}}, \"type\": \"table\"}]}, \"layout\": {\"annotationdefaults\": {\"arrowcolor\": \"#2a3f5f\", \"arrowhead\": 0, \"arrowwidth\": 1}, \"coloraxis\": {\"colorbar\": {\"outlinewidth\": 0, \"ticks\": \"\"}}, \"colorscale\": {\"diverging\": [[0, \"#8e0152\"], [0.1, \"#c51b7d\"], [0.2, \"#de77ae\"], [0.3, \"#f1b6da\"], [0.4, \"#fde0ef\"], [0.5, \"#f7f7f7\"], [0.6, \"#e6f5d0\"], [0.7, \"#b8e186\"], [0.8, \"#7fbc41\"], [0.9, \"#4d9221\"], [1, \"#276419\"]], \"sequential\": [[0.0, \"#0d0887\"], [0.1111111111111111, \"#46039f\"], [0.2222222222222222, \"#7201a8\"], [0.3333333333333333, \"#9c179e\"], [0.4444444444444444, \"#bd3786\"], [0.5555555555555556, \"#d8576b\"], [0.6666666666666666, \"#ed7953\"], [0.7777777777777778, \"#fb9f3a\"], [0.8888888888888888, \"#fdca26\"], [1.0, \"#f0f921\"]], \"sequentialminus\": [[0.0, \"#0d0887\"], [0.1111111111111111, \"#46039f\"], [0.2222222222222222, \"#7201a8\"], [0.3333333333333333, \"#9c179e\"], [0.4444444444444444, \"#bd3786\"], [0.5555555555555556, \"#d8576b\"], [0.6666666666666666, \"#ed7953\"], [0.7777777777777778, \"#fb9f3a\"], [0.8888888888888888, \"#fdca26\"], [1.0, \"#f0f921\"]]}, \"colorway\": [\"#636efa\", \"#EF553B\", \"#00cc96\", \"#ab63fa\", \"#FFA15A\", \"#19d3f3\", \"#FF6692\", \"#B6E880\", \"#FF97FF\", \"#FECB52\"], \"font\": {\"color\": \"#2a3f5f\"}, \"geo\": {\"bgcolor\": \"white\", \"lakecolor\": \"white\", \"landcolor\": \"#E5ECF6\", \"showlakes\": true, \"showland\": true, \"subunitcolor\": \"white\"}, \"hoverlabel\": {\"align\": \"left\"}, \"hovermode\": \"closest\", \"mapbox\": {\"style\": \"light\"}, \"paper_bgcolor\": \"white\", \"plot_bgcolor\": \"#E5ECF6\", \"polar\": {\"angularaxis\": {\"gridcolor\": \"white\", \"linecolor\": \"white\", \"ticks\": \"\"}, \"bgcolor\": \"#E5ECF6\", \"radialaxis\": {\"gridcolor\": \"white\", \"linecolor\": \"white\", \"ticks\": \"\"}}, \"scene\": {\"xaxis\": {\"backgroundcolor\": \"#E5ECF6\", \"gridcolor\": \"white\", \"gridwidth\": 2, \"linecolor\": \"white\", \"showbackground\": true, \"ticks\": \"\", \"zerolinecolor\": \"white\"}, \"yaxis\": {\"backgroundcolor\": \"#E5ECF6\", \"gridcolor\": \"white\", \"gridwidth\": 2, \"linecolor\": \"white\", \"showbackground\": true, \"ticks\": \"\", \"zerolinecolor\": \"white\"}, \"zaxis\": {\"backgroundcolor\": \"#E5ECF6\", \"gridcolor\": \"white\", \"gridwidth\": 2, \"linecolor\": \"white\", \"showbackground\": true, \"ticks\": \"\", \"zerolinecolor\": \"white\"}}, \"shapedefaults\": {\"line\": {\"color\": \"#2a3f5f\"}}, \"ternary\": {\"aaxis\": {\"gridcolor\": \"white\", \"linecolor\": \"white\", \"ticks\": \"\"}, \"baxis\": {\"gridcolor\": \"white\", \"linecolor\": \"white\", \"ticks\": \"\"}, \"bgcolor\": \"#E5ECF6\", \"caxis\": {\"gridcolor\": \"white\", \"linecolor\": \"white\", \"ticks\": \"\"}}, \"title\": {\"x\": 0.05}, \"xaxis\": {\"automargin\": true, \"gridcolor\": \"white\", \"linecolor\": \"white\", \"ticks\": \"\", \"title\": {\"standoff\": 15}, \"zerolinecolor\": \"white\", \"zerolinewidth\": 2}, \"yaxis\": {\"automargin\": true, \"gridcolor\": \"white\", \"linecolor\": \"white\", \"ticks\": \"\", \"title\": {\"standoff\": 15}, \"zerolinecolor\": \"white\", \"zerolinewidth\": 2}}}},\n",
              "                        {\"responsive\": true}\n",
              "                    ).then(function(){\n",
              "                            \n",
              "var gd = document.getElementById('917ce7c8-6783-4c0c-a7ee-c8678a6b971c');\n",
              "var x = new MutationObserver(function (mutations, observer) {{\n",
              "        var display = window.getComputedStyle(gd).display;\n",
              "        if (!display || display === 'none') {{\n",
              "            console.log([gd, 'removed!']);\n",
              "            Plotly.purge(gd);\n",
              "            observer.disconnect();\n",
              "        }}\n",
              "}});\n",
              "\n",
              "// Listen for the removal of the full notebook cells\n",
              "var notebookContainer = gd.closest('#notebook-container');\n",
              "if (notebookContainer) {{\n",
              "    x.observe(notebookContainer, {childList: true});\n",
              "}}\n",
              "\n",
              "// Listen for the clearing of the current output cell\n",
              "var outputEl = gd.closest('.output');\n",
              "if (outputEl) {{\n",
              "    x.observe(outputEl, {childList: true});\n",
              "}}\n",
              "\n",
              "                        })\n",
              "                };\n",
              "                \n",
              "            </script>\n",
              "        </div>\n",
              "</body>\n",
              "</html>"
            ]
          },
          "metadata": {}
        }
      ]
    },
    {
      "cell_type": "code",
      "metadata": {
        "colab": {
          "base_uri": "https://localhost:8080/",
          "height": 542
        },
        "id": "wZNVymhPF5Qq",
        "outputId": "79a22e7f-25f9-4e8c-a721-e2bac03e4450"
      },
      "source": [
        "fig = go.Figure([go.Scatter(x=pd_df['Total_Cases'], y=pd_df['Deaths'], mode='markers', text=pd_df['State_UTs'])])\n",
        "fig.update_layout(title='Deaths vs Total Cases', xaxis_title='Total Cases', yaxis_title='Deaths')\n",
        "fig.show()"
      ],
      "execution_count": null,
      "outputs": [
        {
          "output_type": "display_data",
          "data": {
            "text/html": [
              "<html>\n",
              "<head><meta charset=\"utf-8\" /></head>\n",
              "<body>\n",
              "    <div>\n",
              "            <script src=\"https://cdnjs.cloudflare.com/ajax/libs/mathjax/2.7.5/MathJax.js?config=TeX-AMS-MML_SVG\"></script><script type=\"text/javascript\">if (window.MathJax) {MathJax.Hub.Config({SVG: {font: \"STIX-Web\"}});}</script>\n",
              "                <script type=\"text/javascript\">window.PlotlyConfig = {MathJaxConfig: 'local'};</script>\n",
              "        <script src=\"https://cdn.plot.ly/plotly-latest.min.js\"></script>    \n",
              "            <div id=\"3451d10f-ef9d-40b2-be9f-a41d1e4bc7b1\" class=\"plotly-graph-div\" style=\"height:525px; width:100%;\"></div>\n",
              "            <script type=\"text/javascript\">\n",
              "                \n",
              "                    window.PLOTLYENV=window.PLOTLYENV || {};\n",
              "                    \n",
              "                if (document.getElementById(\"3451d10f-ef9d-40b2-be9f-a41d1e4bc7b1\")) {\n",
              "                    Plotly.newPlot(\n",
              "                        '3451d10f-ef9d-40b2-be9f-a41d1e4bc7b1',\n",
              "                        [{\"mode\": \"markers\", \"text\": [\"Andaman and Nicobar\", \"Andhra Pradesh\", \"Arunachal Pradesh\", \"Assam\", \"Bihar\", \"Chandigarh\", \"Chhattisgarh\", \"Dadra and Nagar Haveli and Daman and Diu\", \"Delhi\", \"Goa\", \"Gujarat\", \"Haryana\", \"Himachal Pradesh\", \"Jammu and Kashmir\", \"Jharkhand\", \"Karnataka\", \"Kerala\", \"Ladakh\", \"Lakshadweep\", \"Madhya Pradesh\", \"Maharashtra\", \"Manipur\", \"Meghalaya\", \"Mizoram\", \"Nagaland\", \"Odisha\", \"Puducherry\", \"Punjab\", \"Rajasthan\", \"Sikkim\", \"Tamil Nadu\", \"Telengana\", \"Tripura\", \"Uttar Pradesh\", \"Uttarakhand\", \"West Bengal\"], \"type\": \"scatter\", \"x\": [7549, 1995669, 51655, 581398, 725518, 62035, 1003870, 10657, 1437156, 172683, 825213, 770245, 210719, 323582, 347635, 2931827, 3724030, 20466, 10295, 792054, 6401213, 108948, 72412, 49950, 29274, 996153, 122391, 600008, 953960, 28830, 2592436, 653202, 81584, 1708991, 342637, 1539612], \"y\": [129, 13671, 252, 5513, 9649, 811, 13549, 4, 25073, 3177, 10078, 9661, 3557, 4399, 5132, 37039, 18870, 207, 51, 10515, 135255, 1722, 1240, 185, 607, 7021, 1805, 16345, 8954, 363, 34579, 3847, 782, 22786, 7373, 18318]}],\n",
              "                        {\"template\": {\"data\": {\"bar\": [{\"error_x\": {\"color\": \"#2a3f5f\"}, \"error_y\": {\"color\": \"#2a3f5f\"}, \"marker\": {\"line\": {\"color\": \"#E5ECF6\", \"width\": 0.5}}, \"type\": \"bar\"}], \"barpolar\": [{\"marker\": {\"line\": {\"color\": \"#E5ECF6\", \"width\": 0.5}}, \"type\": \"barpolar\"}], \"carpet\": [{\"aaxis\": {\"endlinecolor\": \"#2a3f5f\", \"gridcolor\": \"white\", \"linecolor\": \"white\", \"minorgridcolor\": \"white\", \"startlinecolor\": \"#2a3f5f\"}, \"baxis\": {\"endlinecolor\": \"#2a3f5f\", \"gridcolor\": \"white\", \"linecolor\": \"white\", \"minorgridcolor\": \"white\", \"startlinecolor\": \"#2a3f5f\"}, \"type\": \"carpet\"}], \"choropleth\": [{\"colorbar\": {\"outlinewidth\": 0, \"ticks\": \"\"}, \"type\": \"choropleth\"}], \"contour\": [{\"colorbar\": {\"outlinewidth\": 0, \"ticks\": \"\"}, \"colorscale\": [[0.0, \"#0d0887\"], [0.1111111111111111, \"#46039f\"], [0.2222222222222222, \"#7201a8\"], [0.3333333333333333, \"#9c179e\"], [0.4444444444444444, \"#bd3786\"], [0.5555555555555556, \"#d8576b\"], [0.6666666666666666, \"#ed7953\"], [0.7777777777777778, \"#fb9f3a\"], [0.8888888888888888, \"#fdca26\"], [1.0, \"#f0f921\"]], \"type\": \"contour\"}], \"contourcarpet\": [{\"colorbar\": {\"outlinewidth\": 0, \"ticks\": \"\"}, \"type\": \"contourcarpet\"}], \"heatmap\": [{\"colorbar\": {\"outlinewidth\": 0, \"ticks\": \"\"}, \"colorscale\": [[0.0, \"#0d0887\"], [0.1111111111111111, \"#46039f\"], [0.2222222222222222, \"#7201a8\"], [0.3333333333333333, \"#9c179e\"], [0.4444444444444444, \"#bd3786\"], [0.5555555555555556, \"#d8576b\"], [0.6666666666666666, \"#ed7953\"], [0.7777777777777778, \"#fb9f3a\"], [0.8888888888888888, \"#fdca26\"], [1.0, \"#f0f921\"]], \"type\": \"heatmap\"}], \"heatmapgl\": [{\"colorbar\": {\"outlinewidth\": 0, \"ticks\": \"\"}, \"colorscale\": [[0.0, \"#0d0887\"], [0.1111111111111111, \"#46039f\"], [0.2222222222222222, \"#7201a8\"], [0.3333333333333333, \"#9c179e\"], [0.4444444444444444, \"#bd3786\"], [0.5555555555555556, \"#d8576b\"], [0.6666666666666666, \"#ed7953\"], [0.7777777777777778, \"#fb9f3a\"], [0.8888888888888888, \"#fdca26\"], [1.0, \"#f0f921\"]], \"type\": \"heatmapgl\"}], \"histogram\": [{\"marker\": {\"colorbar\": {\"outlinewidth\": 0, \"ticks\": \"\"}}, \"type\": \"histogram\"}], \"histogram2d\": [{\"colorbar\": {\"outlinewidth\": 0, \"ticks\": \"\"}, \"colorscale\": [[0.0, \"#0d0887\"], [0.1111111111111111, \"#46039f\"], [0.2222222222222222, \"#7201a8\"], [0.3333333333333333, \"#9c179e\"], [0.4444444444444444, \"#bd3786\"], [0.5555555555555556, \"#d8576b\"], [0.6666666666666666, \"#ed7953\"], [0.7777777777777778, \"#fb9f3a\"], [0.8888888888888888, \"#fdca26\"], [1.0, \"#f0f921\"]], \"type\": \"histogram2d\"}], \"histogram2dcontour\": [{\"colorbar\": {\"outlinewidth\": 0, \"ticks\": \"\"}, \"colorscale\": [[0.0, \"#0d0887\"], [0.1111111111111111, \"#46039f\"], [0.2222222222222222, \"#7201a8\"], [0.3333333333333333, \"#9c179e\"], [0.4444444444444444, \"#bd3786\"], [0.5555555555555556, \"#d8576b\"], [0.6666666666666666, \"#ed7953\"], [0.7777777777777778, \"#fb9f3a\"], [0.8888888888888888, \"#fdca26\"], [1.0, \"#f0f921\"]], \"type\": \"histogram2dcontour\"}], \"mesh3d\": [{\"colorbar\": {\"outlinewidth\": 0, \"ticks\": \"\"}, \"type\": \"mesh3d\"}], \"parcoords\": [{\"line\": {\"colorbar\": {\"outlinewidth\": 0, \"ticks\": \"\"}}, \"type\": \"parcoords\"}], \"pie\": [{\"automargin\": true, \"type\": \"pie\"}], \"scatter\": [{\"marker\": {\"colorbar\": {\"outlinewidth\": 0, \"ticks\": \"\"}}, \"type\": \"scatter\"}], \"scatter3d\": [{\"line\": {\"colorbar\": {\"outlinewidth\": 0, \"ticks\": \"\"}}, \"marker\": {\"colorbar\": {\"outlinewidth\": 0, \"ticks\": \"\"}}, \"type\": \"scatter3d\"}], \"scattercarpet\": [{\"marker\": {\"colorbar\": {\"outlinewidth\": 0, \"ticks\": \"\"}}, \"type\": \"scattercarpet\"}], \"scattergeo\": [{\"marker\": {\"colorbar\": {\"outlinewidth\": 0, \"ticks\": \"\"}}, \"type\": \"scattergeo\"}], \"scattergl\": [{\"marker\": {\"colorbar\": {\"outlinewidth\": 0, \"ticks\": \"\"}}, \"type\": \"scattergl\"}], \"scattermapbox\": [{\"marker\": {\"colorbar\": {\"outlinewidth\": 0, \"ticks\": \"\"}}, \"type\": \"scattermapbox\"}], \"scatterpolar\": [{\"marker\": {\"colorbar\": {\"outlinewidth\": 0, \"ticks\": \"\"}}, \"type\": \"scatterpolar\"}], \"scatterpolargl\": [{\"marker\": {\"colorbar\": {\"outlinewidth\": 0, \"ticks\": \"\"}}, \"type\": \"scatterpolargl\"}], \"scatterternary\": [{\"marker\": {\"colorbar\": {\"outlinewidth\": 0, \"ticks\": \"\"}}, \"type\": \"scatterternary\"}], \"surface\": [{\"colorbar\": {\"outlinewidth\": 0, \"ticks\": \"\"}, \"colorscale\": [[0.0, \"#0d0887\"], [0.1111111111111111, \"#46039f\"], [0.2222222222222222, \"#7201a8\"], [0.3333333333333333, \"#9c179e\"], [0.4444444444444444, \"#bd3786\"], [0.5555555555555556, \"#d8576b\"], [0.6666666666666666, \"#ed7953\"], [0.7777777777777778, \"#fb9f3a\"], [0.8888888888888888, \"#fdca26\"], [1.0, \"#f0f921\"]], \"type\": \"surface\"}], \"table\": [{\"cells\": {\"fill\": {\"color\": \"#EBF0F8\"}, \"line\": {\"color\": \"white\"}}, \"header\": {\"fill\": {\"color\": \"#C8D4E3\"}, \"line\": {\"color\": \"white\"}}, \"type\": \"table\"}]}, \"layout\": {\"annotationdefaults\": {\"arrowcolor\": \"#2a3f5f\", \"arrowhead\": 0, \"arrowwidth\": 1}, \"coloraxis\": {\"colorbar\": {\"outlinewidth\": 0, \"ticks\": \"\"}}, \"colorscale\": {\"diverging\": [[0, \"#8e0152\"], [0.1, \"#c51b7d\"], [0.2, \"#de77ae\"], [0.3, \"#f1b6da\"], [0.4, \"#fde0ef\"], [0.5, \"#f7f7f7\"], [0.6, \"#e6f5d0\"], [0.7, \"#b8e186\"], [0.8, \"#7fbc41\"], [0.9, \"#4d9221\"], [1, \"#276419\"]], \"sequential\": [[0.0, \"#0d0887\"], [0.1111111111111111, \"#46039f\"], [0.2222222222222222, \"#7201a8\"], [0.3333333333333333, \"#9c179e\"], [0.4444444444444444, \"#bd3786\"], [0.5555555555555556, \"#d8576b\"], [0.6666666666666666, \"#ed7953\"], [0.7777777777777778, \"#fb9f3a\"], [0.8888888888888888, \"#fdca26\"], [1.0, \"#f0f921\"]], \"sequentialminus\": [[0.0, \"#0d0887\"], [0.1111111111111111, \"#46039f\"], [0.2222222222222222, \"#7201a8\"], [0.3333333333333333, \"#9c179e\"], [0.4444444444444444, \"#bd3786\"], [0.5555555555555556, \"#d8576b\"], [0.6666666666666666, \"#ed7953\"], [0.7777777777777778, \"#fb9f3a\"], [0.8888888888888888, \"#fdca26\"], [1.0, \"#f0f921\"]]}, \"colorway\": [\"#636efa\", \"#EF553B\", \"#00cc96\", \"#ab63fa\", \"#FFA15A\", \"#19d3f3\", \"#FF6692\", \"#B6E880\", \"#FF97FF\", \"#FECB52\"], \"font\": {\"color\": \"#2a3f5f\"}, \"geo\": {\"bgcolor\": \"white\", \"lakecolor\": \"white\", \"landcolor\": \"#E5ECF6\", \"showlakes\": true, \"showland\": true, \"subunitcolor\": \"white\"}, \"hoverlabel\": {\"align\": \"left\"}, \"hovermode\": \"closest\", \"mapbox\": {\"style\": \"light\"}, \"paper_bgcolor\": \"white\", \"plot_bgcolor\": \"#E5ECF6\", \"polar\": {\"angularaxis\": {\"gridcolor\": \"white\", \"linecolor\": \"white\", \"ticks\": \"\"}, \"bgcolor\": \"#E5ECF6\", \"radialaxis\": {\"gridcolor\": \"white\", \"linecolor\": \"white\", \"ticks\": \"\"}}, \"scene\": {\"xaxis\": {\"backgroundcolor\": \"#E5ECF6\", \"gridcolor\": \"white\", \"gridwidth\": 2, \"linecolor\": \"white\", \"showbackground\": true, \"ticks\": \"\", \"zerolinecolor\": \"white\"}, \"yaxis\": {\"backgroundcolor\": \"#E5ECF6\", \"gridcolor\": \"white\", \"gridwidth\": 2, \"linecolor\": \"white\", \"showbackground\": true, \"ticks\": \"\", \"zerolinecolor\": \"white\"}, \"zaxis\": {\"backgroundcolor\": \"#E5ECF6\", \"gridcolor\": \"white\", \"gridwidth\": 2, \"linecolor\": \"white\", \"showbackground\": true, \"ticks\": \"\", \"zerolinecolor\": \"white\"}}, \"shapedefaults\": {\"line\": {\"color\": \"#2a3f5f\"}}, \"ternary\": {\"aaxis\": {\"gridcolor\": \"white\", \"linecolor\": \"white\", \"ticks\": \"\"}, \"baxis\": {\"gridcolor\": \"white\", \"linecolor\": \"white\", \"ticks\": \"\"}, \"bgcolor\": \"#E5ECF6\", \"caxis\": {\"gridcolor\": \"white\", \"linecolor\": \"white\", \"ticks\": \"\"}}, \"title\": {\"x\": 0.05}, \"xaxis\": {\"automargin\": true, \"gridcolor\": \"white\", \"linecolor\": \"white\", \"ticks\": \"\", \"title\": {\"standoff\": 15}, \"zerolinecolor\": \"white\", \"zerolinewidth\": 2}, \"yaxis\": {\"automargin\": true, \"gridcolor\": \"white\", \"linecolor\": \"white\", \"ticks\": \"\", \"title\": {\"standoff\": 15}, \"zerolinecolor\": \"white\", \"zerolinewidth\": 2}}}, \"title\": {\"text\": \"Deaths vs Total Cases\"}, \"xaxis\": {\"title\": {\"text\": \"Total Cases\"}}, \"yaxis\": {\"title\": {\"text\": \"Deaths\"}}},\n",
              "                        {\"responsive\": true}\n",
              "                    ).then(function(){\n",
              "                            \n",
              "var gd = document.getElementById('3451d10f-ef9d-40b2-be9f-a41d1e4bc7b1');\n",
              "var x = new MutationObserver(function (mutations, observer) {{\n",
              "        var display = window.getComputedStyle(gd).display;\n",
              "        if (!display || display === 'none') {{\n",
              "            console.log([gd, 'removed!']);\n",
              "            Plotly.purge(gd);\n",
              "            observer.disconnect();\n",
              "        }}\n",
              "}});\n",
              "\n",
              "// Listen for the removal of the full notebook cells\n",
              "var notebookContainer = gd.closest('#notebook-container');\n",
              "if (notebookContainer) {{\n",
              "    x.observe(notebookContainer, {childList: true});\n",
              "}}\n",
              "\n",
              "// Listen for the clearing of the current output cell\n",
              "var outputEl = gd.closest('.output');\n",
              "if (outputEl) {{\n",
              "    x.observe(outputEl, {childList: true});\n",
              "}}\n",
              "\n",
              "                        })\n",
              "                };\n",
              "                \n",
              "            </script>\n",
              "        </div>\n",
              "</body>\n",
              "</html>"
            ]
          },
          "metadata": {}
        }
      ]
    },
    {
      "cell_type": "code",
      "metadata": {
        "colab": {
          "base_uri": "https://localhost:8080/"
        },
        "id": "7ULjjMXZGlgx",
        "outputId": "f4d5802a-937f-4ab9-f4b9-9651f4a26158"
      },
      "source": [
        "X = pd_df['Total_Cases'].to_numpy()\n",
        "y = pd_df['Deaths'].to_numpy()\n",
        "\n",
        "X.shape, y.shape"
      ],
      "execution_count": null,
      "outputs": [
        {
          "output_type": "execute_result",
          "data": {
            "text/plain": [
              "((36,), (36,))"
            ]
          },
          "metadata": {},
          "execution_count": 52
        }
      ]
    },
    {
      "cell_type": "code",
      "metadata": {
        "colab": {
          "base_uri": "https://localhost:8080/"
        },
        "id": "v6-YrKSUHVc3",
        "outputId": "392d5158-4f69-4665-bdc9-02c4dd2b1d72"
      },
      "source": [
        "from sklearn.linear_model import LinearRegression\n",
        "\n",
        "model = LinearRegression()\n",
        "model.fit(X.reshape((len(X), 1)), y)\n",
        "(model.intercept_, model.coef_[0])"
      ],
      "execution_count": null,
      "outputs": [
        {
          "output_type": "execute_result",
          "data": {
            "text/plain": [
              "(-2466.4088412667934, 0.0161466898117527)"
            ]
          },
          "metadata": {},
          "execution_count": 54
        }
      ]
    },
    {
      "cell_type": "code",
      "metadata": {
        "colab": {
          "base_uri": "https://localhost:8080/"
        },
        "id": "mX-hflTeHl_u",
        "outputId": "03049950-dab2-41ba-e8a2-9c901f1b824f"
      },
      "source": [
        "model.score(X.reshape((len(X), 1)), y)"
      ],
      "execution_count": null,
      "outputs": [
        {
          "output_type": "execute_result",
          "data": {
            "text/plain": [
              "0.8226904480863272"
            ]
          },
          "metadata": {},
          "execution_count": 55
        }
      ]
    },
    {
      "cell_type": "code",
      "metadata": {
        "colab": {
          "base_uri": "https://localhost:8080/"
        },
        "id": "IQpJY5f1Hu9e",
        "outputId": "398e71e4-3603-4005-91b0-d95cca5dd9b2"
      },
      "source": [
        "0.907023**2"
      ],
      "execution_count": null,
      "outputs": [
        {
          "output_type": "execute_result",
          "data": {
            "text/plain": [
              "0.822690722529"
            ]
          },
          "metadata": {},
          "execution_count": 56
        }
      ]
    },
    {
      "cell_type": "code",
      "metadata": {
        "colab": {
          "base_uri": "https://localhost:8080/"
        },
        "id": "tZHfqAphH5NY",
        "outputId": "e19e2c10-c54b-4f78-fb7e-d773596de2b1"
      },
      "source": [
        "predictions = model.predict(X.reshape((len(X), 1)))\n",
        "predictions.shape"
      ],
      "execution_count": null,
      "outputs": [
        {
          "output_type": "execute_result",
          "data": {
            "text/plain": [
              "(36,)"
            ]
          },
          "metadata": {},
          "execution_count": 58
        }
      ]
    },
    {
      "cell_type": "code",
      "metadata": {
        "colab": {
          "base_uri": "https://localhost:8080/",
          "height": 542
        },
        "id": "5rr8oyh6ION-",
        "outputId": "259987f1-c4fa-4d69-dcff-f7a1c7225224"
      },
      "source": [
        "fig = go.Figure([go.Scatter(x=pd_df['Total_Cases'], y=pd_df['Deaths'], mode='markers', text=pd_df['State_UTs'], name='Actual Deaths'),\n",
        "                 go.Scatter(x=pd_df['Total_Cases'], y=predictions, name='Predicted Deaths')])\n",
        "fig.update_layout(title='Deaths vs Total Cases', xaxis_title='Total Cases', yaxis_title='Deaths')\n",
        "fig.show()"
      ],
      "execution_count": null,
      "outputs": [
        {
          "output_type": "display_data",
          "data": {
            "text/html": [
              "<html>\n",
              "<head><meta charset=\"utf-8\" /></head>\n",
              "<body>\n",
              "    <div>\n",
              "            <script src=\"https://cdnjs.cloudflare.com/ajax/libs/mathjax/2.7.5/MathJax.js?config=TeX-AMS-MML_SVG\"></script><script type=\"text/javascript\">if (window.MathJax) {MathJax.Hub.Config({SVG: {font: \"STIX-Web\"}});}</script>\n",
              "                <script type=\"text/javascript\">window.PlotlyConfig = {MathJaxConfig: 'local'};</script>\n",
              "        <script src=\"https://cdn.plot.ly/plotly-latest.min.js\"></script>    \n",
              "            <div id=\"a48e87f2-346f-43f3-a64e-258153e2bd8a\" class=\"plotly-graph-div\" style=\"height:525px; width:100%;\"></div>\n",
              "            <script type=\"text/javascript\">\n",
              "                \n",
              "                    window.PLOTLYENV=window.PLOTLYENV || {};\n",
              "                    \n",
              "                if (document.getElementById(\"a48e87f2-346f-43f3-a64e-258153e2bd8a\")) {\n",
              "                    Plotly.newPlot(\n",
              "                        'a48e87f2-346f-43f3-a64e-258153e2bd8a',\n",
              "                        [{\"mode\": \"markers\", \"name\": \"Actual Deaths\", \"text\": [\"Andaman and Nicobar\", \"Andhra Pradesh\", \"Arunachal Pradesh\", \"Assam\", \"Bihar\", \"Chandigarh\", \"Chhattisgarh\", \"Dadra and Nagar Haveli and Daman and Diu\", \"Delhi\", \"Goa\", \"Gujarat\", \"Haryana\", \"Himachal Pradesh\", \"Jammu and Kashmir\", \"Jharkhand\", \"Karnataka\", \"Kerala\", \"Ladakh\", \"Lakshadweep\", \"Madhya Pradesh\", \"Maharashtra\", \"Manipur\", \"Meghalaya\", \"Mizoram\", \"Nagaland\", \"Odisha\", \"Puducherry\", \"Punjab\", \"Rajasthan\", \"Sikkim\", \"Tamil Nadu\", \"Telengana\", \"Tripura\", \"Uttar Pradesh\", \"Uttarakhand\", \"West Bengal\"], \"type\": \"scatter\", \"x\": [7549, 1995669, 51655, 581398, 725518, 62035, 1003870, 10657, 1437156, 172683, 825213, 770245, 210719, 323582, 347635, 2931827, 3724030, 20466, 10295, 792054, 6401213, 108948, 72412, 49950, 29274, 996153, 122391, 600008, 953960, 28830, 2592436, 653202, 81584, 1708991, 342637, 1539612], \"y\": [129, 13671, 252, 5513, 9649, 811, 13549, 4, 25073, 3177, 10078, 9661, 3557, 4399, 5132, 37039, 18870, 207, 51, 10515, 135255, 1722, 1240, 185, 607, 7021, 1805, 16345, 8954, 363, 34579, 3847, 782, 22786, 7373, 18318]}, {\"name\": \"Predicted Deaths\", \"type\": \"scatter\", \"x\": [7549, 1995669, 51655, 581398, 725518, 62035, 1003870, 10657, 1437156, 172683, 825213, 770245, 210719, 323582, 347635, 2931827, 3724030, 20466, 10295, 792054, 6401213, 108948, 72412, 49950, 29274, 996153, 122391, 600008, 953960, 28830, 2592436, 653202, 81584, 1708991, 342637, 1539612], \"y\": [-2344.517479877872, 29757.039468663905, -1632.3515790407077, 6921.244321906603, 9248.305257576401, -1464.7489387947148, 13742.768660057389, -2294.3335679429447, 20738.90330183247, 321.849995496098, 10858.049498359087, 9970.498252786663, 936.0054891759237, 2758.369341399768, 3146.745671441856, 44872.892309454684, 57664.34841839461, -2135.9506875794627, -2300.1786696547993, 10322.641410891178, 100891.99188869214, -707.2592796559604, -1297.194738618157, -1659.881685169746, -1993.7306437175448, 13618.164654780092, -490.1993285165688, 7221.73421930332, 12936.887371552812, -2000.8997739939632, 39392.851107554125, 8080.641237149694, -1149.0972996647613, 25128.138726810263, 3066.0445157627164, 22393.2285531854]}],\n",
              "                        {\"template\": {\"data\": {\"bar\": [{\"error_x\": {\"color\": \"#2a3f5f\"}, \"error_y\": {\"color\": \"#2a3f5f\"}, \"marker\": {\"line\": {\"color\": \"#E5ECF6\", \"width\": 0.5}}, \"type\": \"bar\"}], \"barpolar\": [{\"marker\": {\"line\": {\"color\": \"#E5ECF6\", \"width\": 0.5}}, \"type\": \"barpolar\"}], \"carpet\": [{\"aaxis\": {\"endlinecolor\": \"#2a3f5f\", \"gridcolor\": \"white\", \"linecolor\": \"white\", \"minorgridcolor\": \"white\", \"startlinecolor\": \"#2a3f5f\"}, \"baxis\": {\"endlinecolor\": \"#2a3f5f\", \"gridcolor\": \"white\", \"linecolor\": \"white\", \"minorgridcolor\": \"white\", \"startlinecolor\": \"#2a3f5f\"}, \"type\": \"carpet\"}], \"choropleth\": [{\"colorbar\": {\"outlinewidth\": 0, \"ticks\": \"\"}, \"type\": \"choropleth\"}], \"contour\": [{\"colorbar\": {\"outlinewidth\": 0, \"ticks\": \"\"}, \"colorscale\": [[0.0, \"#0d0887\"], [0.1111111111111111, \"#46039f\"], [0.2222222222222222, \"#7201a8\"], [0.3333333333333333, \"#9c179e\"], [0.4444444444444444, \"#bd3786\"], [0.5555555555555556, \"#d8576b\"], [0.6666666666666666, \"#ed7953\"], [0.7777777777777778, \"#fb9f3a\"], [0.8888888888888888, \"#fdca26\"], [1.0, \"#f0f921\"]], \"type\": \"contour\"}], \"contourcarpet\": [{\"colorbar\": {\"outlinewidth\": 0, \"ticks\": \"\"}, \"type\": \"contourcarpet\"}], \"heatmap\": [{\"colorbar\": {\"outlinewidth\": 0, \"ticks\": \"\"}, \"colorscale\": [[0.0, \"#0d0887\"], [0.1111111111111111, \"#46039f\"], [0.2222222222222222, \"#7201a8\"], [0.3333333333333333, \"#9c179e\"], [0.4444444444444444, \"#bd3786\"], [0.5555555555555556, \"#d8576b\"], [0.6666666666666666, \"#ed7953\"], [0.7777777777777778, \"#fb9f3a\"], [0.8888888888888888, \"#fdca26\"], [1.0, \"#f0f921\"]], \"type\": \"heatmap\"}], \"heatmapgl\": [{\"colorbar\": {\"outlinewidth\": 0, \"ticks\": \"\"}, \"colorscale\": [[0.0, \"#0d0887\"], [0.1111111111111111, \"#46039f\"], [0.2222222222222222, \"#7201a8\"], [0.3333333333333333, \"#9c179e\"], [0.4444444444444444, \"#bd3786\"], [0.5555555555555556, \"#d8576b\"], [0.6666666666666666, \"#ed7953\"], [0.7777777777777778, \"#fb9f3a\"], [0.8888888888888888, \"#fdca26\"], [1.0, \"#f0f921\"]], \"type\": \"heatmapgl\"}], \"histogram\": [{\"marker\": {\"colorbar\": {\"outlinewidth\": 0, \"ticks\": \"\"}}, \"type\": \"histogram\"}], \"histogram2d\": [{\"colorbar\": {\"outlinewidth\": 0, \"ticks\": \"\"}, \"colorscale\": [[0.0, \"#0d0887\"], [0.1111111111111111, \"#46039f\"], [0.2222222222222222, \"#7201a8\"], [0.3333333333333333, \"#9c179e\"], [0.4444444444444444, \"#bd3786\"], [0.5555555555555556, \"#d8576b\"], [0.6666666666666666, \"#ed7953\"], [0.7777777777777778, \"#fb9f3a\"], [0.8888888888888888, \"#fdca26\"], [1.0, \"#f0f921\"]], \"type\": \"histogram2d\"}], \"histogram2dcontour\": [{\"colorbar\": {\"outlinewidth\": 0, \"ticks\": \"\"}, \"colorscale\": [[0.0, \"#0d0887\"], [0.1111111111111111, \"#46039f\"], [0.2222222222222222, \"#7201a8\"], [0.3333333333333333, \"#9c179e\"], [0.4444444444444444, \"#bd3786\"], [0.5555555555555556, \"#d8576b\"], [0.6666666666666666, \"#ed7953\"], [0.7777777777777778, \"#fb9f3a\"], [0.8888888888888888, \"#fdca26\"], [1.0, \"#f0f921\"]], \"type\": \"histogram2dcontour\"}], \"mesh3d\": [{\"colorbar\": {\"outlinewidth\": 0, \"ticks\": \"\"}, \"type\": \"mesh3d\"}], \"parcoords\": [{\"line\": {\"colorbar\": {\"outlinewidth\": 0, \"ticks\": \"\"}}, \"type\": \"parcoords\"}], \"pie\": [{\"automargin\": true, \"type\": \"pie\"}], \"scatter\": [{\"marker\": {\"colorbar\": {\"outlinewidth\": 0, \"ticks\": \"\"}}, \"type\": \"scatter\"}], \"scatter3d\": [{\"line\": {\"colorbar\": {\"outlinewidth\": 0, \"ticks\": \"\"}}, \"marker\": {\"colorbar\": {\"outlinewidth\": 0, \"ticks\": \"\"}}, \"type\": \"scatter3d\"}], \"scattercarpet\": [{\"marker\": {\"colorbar\": {\"outlinewidth\": 0, \"ticks\": \"\"}}, \"type\": \"scattercarpet\"}], \"scattergeo\": [{\"marker\": {\"colorbar\": {\"outlinewidth\": 0, \"ticks\": \"\"}}, \"type\": \"scattergeo\"}], \"scattergl\": [{\"marker\": {\"colorbar\": {\"outlinewidth\": 0, \"ticks\": \"\"}}, \"type\": \"scattergl\"}], \"scattermapbox\": [{\"marker\": {\"colorbar\": {\"outlinewidth\": 0, \"ticks\": \"\"}}, \"type\": \"scattermapbox\"}], \"scatterpolar\": [{\"marker\": {\"colorbar\": {\"outlinewidth\": 0, \"ticks\": \"\"}}, \"type\": \"scatterpolar\"}], \"scatterpolargl\": [{\"marker\": {\"colorbar\": {\"outlinewidth\": 0, \"ticks\": \"\"}}, \"type\": \"scatterpolargl\"}], \"scatterternary\": [{\"marker\": {\"colorbar\": {\"outlinewidth\": 0, \"ticks\": \"\"}}, \"type\": \"scatterternary\"}], \"surface\": [{\"colorbar\": {\"outlinewidth\": 0, \"ticks\": \"\"}, \"colorscale\": [[0.0, \"#0d0887\"], [0.1111111111111111, \"#46039f\"], [0.2222222222222222, \"#7201a8\"], [0.3333333333333333, \"#9c179e\"], [0.4444444444444444, \"#bd3786\"], [0.5555555555555556, \"#d8576b\"], [0.6666666666666666, \"#ed7953\"], [0.7777777777777778, \"#fb9f3a\"], [0.8888888888888888, \"#fdca26\"], [1.0, \"#f0f921\"]], \"type\": \"surface\"}], \"table\": [{\"cells\": {\"fill\": {\"color\": \"#EBF0F8\"}, \"line\": {\"color\": \"white\"}}, \"header\": {\"fill\": {\"color\": \"#C8D4E3\"}, \"line\": {\"color\": \"white\"}}, \"type\": \"table\"}]}, \"layout\": {\"annotationdefaults\": {\"arrowcolor\": \"#2a3f5f\", \"arrowhead\": 0, \"arrowwidth\": 1}, \"coloraxis\": {\"colorbar\": {\"outlinewidth\": 0, \"ticks\": \"\"}}, \"colorscale\": {\"diverging\": [[0, \"#8e0152\"], [0.1, \"#c51b7d\"], [0.2, \"#de77ae\"], [0.3, \"#f1b6da\"], [0.4, \"#fde0ef\"], [0.5, \"#f7f7f7\"], [0.6, \"#e6f5d0\"], [0.7, \"#b8e186\"], [0.8, \"#7fbc41\"], [0.9, \"#4d9221\"], [1, \"#276419\"]], \"sequential\": [[0.0, \"#0d0887\"], [0.1111111111111111, \"#46039f\"], [0.2222222222222222, \"#7201a8\"], [0.3333333333333333, \"#9c179e\"], [0.4444444444444444, \"#bd3786\"], [0.5555555555555556, \"#d8576b\"], [0.6666666666666666, \"#ed7953\"], [0.7777777777777778, \"#fb9f3a\"], [0.8888888888888888, \"#fdca26\"], [1.0, \"#f0f921\"]], \"sequentialminus\": [[0.0, \"#0d0887\"], [0.1111111111111111, \"#46039f\"], [0.2222222222222222, \"#7201a8\"], [0.3333333333333333, \"#9c179e\"], [0.4444444444444444, \"#bd3786\"], [0.5555555555555556, \"#d8576b\"], [0.6666666666666666, \"#ed7953\"], [0.7777777777777778, \"#fb9f3a\"], [0.8888888888888888, \"#fdca26\"], [1.0, \"#f0f921\"]]}, \"colorway\": [\"#636efa\", \"#EF553B\", \"#00cc96\", \"#ab63fa\", \"#FFA15A\", \"#19d3f3\", \"#FF6692\", \"#B6E880\", \"#FF97FF\", \"#FECB52\"], \"font\": {\"color\": \"#2a3f5f\"}, \"geo\": {\"bgcolor\": \"white\", \"lakecolor\": \"white\", \"landcolor\": \"#E5ECF6\", \"showlakes\": true, \"showland\": true, \"subunitcolor\": \"white\"}, \"hoverlabel\": {\"align\": \"left\"}, \"hovermode\": \"closest\", \"mapbox\": {\"style\": \"light\"}, \"paper_bgcolor\": \"white\", \"plot_bgcolor\": \"#E5ECF6\", \"polar\": {\"angularaxis\": {\"gridcolor\": \"white\", \"linecolor\": \"white\", \"ticks\": \"\"}, \"bgcolor\": \"#E5ECF6\", \"radialaxis\": {\"gridcolor\": \"white\", \"linecolor\": \"white\", \"ticks\": \"\"}}, \"scene\": {\"xaxis\": {\"backgroundcolor\": \"#E5ECF6\", \"gridcolor\": \"white\", \"gridwidth\": 2, \"linecolor\": \"white\", \"showbackground\": true, \"ticks\": \"\", \"zerolinecolor\": \"white\"}, \"yaxis\": {\"backgroundcolor\": \"#E5ECF6\", \"gridcolor\": \"white\", \"gridwidth\": 2, \"linecolor\": \"white\", \"showbackground\": true, \"ticks\": \"\", \"zerolinecolor\": \"white\"}, \"zaxis\": {\"backgroundcolor\": \"#E5ECF6\", \"gridcolor\": \"white\", \"gridwidth\": 2, \"linecolor\": \"white\", \"showbackground\": true, \"ticks\": \"\", \"zerolinecolor\": \"white\"}}, \"shapedefaults\": {\"line\": {\"color\": \"#2a3f5f\"}}, \"ternary\": {\"aaxis\": {\"gridcolor\": \"white\", \"linecolor\": \"white\", \"ticks\": \"\"}, \"baxis\": {\"gridcolor\": \"white\", \"linecolor\": \"white\", \"ticks\": \"\"}, \"bgcolor\": \"#E5ECF6\", \"caxis\": {\"gridcolor\": \"white\", \"linecolor\": \"white\", \"ticks\": \"\"}}, \"title\": {\"x\": 0.05}, \"xaxis\": {\"automargin\": true, \"gridcolor\": \"white\", \"linecolor\": \"white\", \"ticks\": \"\", \"title\": {\"standoff\": 15}, \"zerolinecolor\": \"white\", \"zerolinewidth\": 2}, \"yaxis\": {\"automargin\": true, \"gridcolor\": \"white\", \"linecolor\": \"white\", \"ticks\": \"\", \"title\": {\"standoff\": 15}, \"zerolinecolor\": \"white\", \"zerolinewidth\": 2}}}, \"title\": {\"text\": \"Deaths vs Total Cases\"}, \"xaxis\": {\"title\": {\"text\": \"Total Cases\"}}, \"yaxis\": {\"title\": {\"text\": \"Deaths\"}}},\n",
              "                        {\"responsive\": true}\n",
              "                    ).then(function(){\n",
              "                            \n",
              "var gd = document.getElementById('a48e87f2-346f-43f3-a64e-258153e2bd8a');\n",
              "var x = new MutationObserver(function (mutations, observer) {{\n",
              "        var display = window.getComputedStyle(gd).display;\n",
              "        if (!display || display === 'none') {{\n",
              "            console.log([gd, 'removed!']);\n",
              "            Plotly.purge(gd);\n",
              "            observer.disconnect();\n",
              "        }}\n",
              "}});\n",
              "\n",
              "// Listen for the removal of the full notebook cells\n",
              "var notebookContainer = gd.closest('#notebook-container');\n",
              "if (notebookContainer) {{\n",
              "    x.observe(notebookContainer, {childList: true});\n",
              "}}\n",
              "\n",
              "// Listen for the clearing of the current output cell\n",
              "var outputEl = gd.closest('.output');\n",
              "if (outputEl) {{\n",
              "    x.observe(outputEl, {childList: true});\n",
              "}}\n",
              "\n",
              "                        })\n",
              "                };\n",
              "                \n",
              "            </script>\n",
              "        </div>\n",
              "</body>\n",
              "</html>"
            ]
          },
          "metadata": {}
        }
      ]
    },
    {
      "cell_type": "code",
      "metadata": {
        "id": "q4qnXzcxIk_2"
      },
      "source": [],
      "execution_count": null,
      "outputs": []
    }
  ]
}